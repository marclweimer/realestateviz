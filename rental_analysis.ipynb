{
 "cells": [
  {
   "cell_type": "markdown",
   "metadata": {},
   "source": [
    "# San Francisco Housing Rental Analysis\n",
    "\n",
    "In this assignment, you will perform basic analysis for the San Francisco to allow potential real estate investors to choose rental investment properties. "
   ]
  },
  {
   "cell_type": "code",
   "execution_count": 181,
   "metadata": {},
   "outputs": [],
   "source": [
    "# initial imports\n",
    "import os\n",
    "import pandas as pd\n",
    "import matplotlib.pyplot as plt\n",
    "import hvplot.pandas\n",
    "import plotly.express as px\n",
    "from pathlib import Path\n",
    "\n",
    "%matplotlib inline"
   ]
  },
  {
   "cell_type": "code",
   "execution_count": 238,
   "metadata": {},
   "outputs": [],
   "source": [
    "# Read the Mapbox API key\n",
    "#mapbox_token = os.getenv(\"MAPBOX_API_KEY\")\n",
    "#I'm having major problems with reliabily pulling my token.  When I rely on the OS shell, it works only if I run in terminal then launch jupyter from the same terminal session.\n",
    "#Below is a copy of my public key, I know this is not best practice but it is the only way I can keep the MapBox plot running consistently.\n",
    "mapbox_token = \"pk.eyJ1IjoibWFyY2x3ZWltZXIiLCJhIjoiY2p6dnhxMnB6MHZ2NDNscXF3aDc5Ym1lYSJ9.vGK2qX6MI3sR-0-uvXdDqg\""
   ]
  },
  {
   "cell_type": "markdown",
   "metadata": {},
   "source": [
    "## Load Data"
   ]
  },
  {
   "cell_type": "code",
   "execution_count": 239,
   "metadata": {},
   "outputs": [
    {
     "data": {
      "text/html": [
       "<div>\n",
       "<style scoped>\n",
       "    .dataframe tbody tr th:only-of-type {\n",
       "        vertical-align: middle;\n",
       "    }\n",
       "\n",
       "    .dataframe tbody tr th {\n",
       "        vertical-align: top;\n",
       "    }\n",
       "\n",
       "    .dataframe thead th {\n",
       "        text-align: right;\n",
       "    }\n",
       "</style>\n",
       "<table border=\"1\" class=\"dataframe\">\n",
       "  <thead>\n",
       "    <tr style=\"text-align: right;\">\n",
       "      <th></th>\n",
       "      <th>neighborhood</th>\n",
       "      <th>sale_price_sqr_foot</th>\n",
       "      <th>housing_units</th>\n",
       "      <th>gross_rent</th>\n",
       "    </tr>\n",
       "    <tr>\n",
       "      <th>year</th>\n",
       "      <th></th>\n",
       "      <th></th>\n",
       "      <th></th>\n",
       "      <th></th>\n",
       "    </tr>\n",
       "  </thead>\n",
       "  <tbody>\n",
       "    <tr>\n",
       "      <th>2010</th>\n",
       "      <td>Alamo Square</td>\n",
       "      <td>291.182945</td>\n",
       "      <td>372560</td>\n",
       "      <td>1239</td>\n",
       "    </tr>\n",
       "    <tr>\n",
       "      <th>2010</th>\n",
       "      <td>Anza Vista</td>\n",
       "      <td>267.932583</td>\n",
       "      <td>372560</td>\n",
       "      <td>1239</td>\n",
       "    </tr>\n",
       "    <tr>\n",
       "      <th>2010</th>\n",
       "      <td>Bayview</td>\n",
       "      <td>170.098665</td>\n",
       "      <td>372560</td>\n",
       "      <td>1239</td>\n",
       "    </tr>\n",
       "    <tr>\n",
       "      <th>2010</th>\n",
       "      <td>Buena Vista Park</td>\n",
       "      <td>347.394919</td>\n",
       "      <td>372560</td>\n",
       "      <td>1239</td>\n",
       "    </tr>\n",
       "    <tr>\n",
       "      <th>2010</th>\n",
       "      <td>Central Richmond</td>\n",
       "      <td>319.027623</td>\n",
       "      <td>372560</td>\n",
       "      <td>1239</td>\n",
       "    </tr>\n",
       "  </tbody>\n",
       "</table>\n",
       "</div>"
      ],
      "text/plain": [
       "          neighborhood  sale_price_sqr_foot  housing_units  gross_rent\n",
       "year                                                                  \n",
       "2010      Alamo Square           291.182945         372560        1239\n",
       "2010        Anza Vista           267.932583         372560        1239\n",
       "2010           Bayview           170.098665         372560        1239\n",
       "2010  Buena Vista Park           347.394919         372560        1239\n",
       "2010  Central Richmond           319.027623         372560        1239"
      ]
     },
     "execution_count": 239,
     "metadata": {},
     "output_type": "execute_result"
    }
   ],
   "source": [
    "# Read the census data into a Pandas DataFrame\n",
    "file_path = Path(\"Data/sfo_neighborhoods_census_data.csv\")\n",
    "sfo_data = pd.read_csv(file_path, index_col=\"year\")\n",
    "sfo_data.head()"
   ]
  },
  {
   "cell_type": "markdown",
   "metadata": {},
   "source": [
    "- - - "
   ]
  },
  {
   "cell_type": "markdown",
   "metadata": {},
   "source": [
    "## Housing Units Per Year\n",
    "\n",
    "In this section, you will calculate the number of housing units per year and visualize the results as a bar chart using the Pandas plot function. \n",
    "\n",
    "Hint: Use the Pandas groupby function\n",
    "\n",
    "Optional challenge: Use the min, max, and std to scale the y limits of the chart."
   ]
  },
  {
   "cell_type": "code",
   "execution_count": 240,
   "metadata": {},
   "outputs": [
    {
     "data": {
      "text/plain": [
       "year\n",
       "2010    372560\n",
       "2011    374507\n",
       "2012    376454\n",
       "2013    378401\n",
       "2014    380348\n",
       "2015    382295\n",
       "2016    384242\n",
       "Name: housing_units, dtype: int64"
      ]
     },
     "execution_count": 240,
     "metadata": {},
     "output_type": "execute_result"
    }
   ],
   "source": [
    "# Calculate the mean number of housing units per year (hint: use groupby) \n",
    "sfo_data_group_year = sfo_data.groupby('year')\n",
    "housing_unit_yearly_mean = sfo_data_group_year['housing_units'].mean()\n",
    "housing_unit_yearly_mean\n"
   ]
  },
  {
   "cell_type": "code",
   "execution_count": 241,
   "metadata": {},
   "outputs": [
    {
     "data": {
      "text/plain": [
       "(360000, 390000)"
      ]
     },
     "execution_count": 241,
     "metadata": {},
     "output_type": "execute_result"
    },
    {
     "data": {
      "image/png": "[encoded data removed]",
      "text/plain": [
       "<Figure size 1080x504 with 1 Axes>"
      ]
     },
     "metadata": {
      "needs_background": "light"
     },
     "output_type": "display_data"
    }
   ],
   "source": [
    "# Use the Pandas plot function to plot the average housing units per year.\n",
    "# Note: You will need to manually adjust the y limit of the chart using the min and max values from above.\n",
    "fig, ax = plt.subplots(figsize=(15,7))\n",
    "ax.set_xlabel('Year')\n",
    "ax.set_ylabel('Mean Housing Units')\n",
    "sfo_data.groupby(['year']).mean()['housing_units'].plot.bar(ax=ax).set_ylim([360000,390000])\n",
    "\n",
    "# Optional Challenge: Use the min, max, and std to scale the y limits of the chart\n",
    "# Essentially done manually...\n"
   ]
  },
  {
   "cell_type": "markdown",
   "metadata": {},
   "source": [
    "- - - "
   ]
  },
  {
   "cell_type": "markdown",
   "metadata": {},
   "source": [
    "## Average Prices per Square Foot\n",
    "\n",
    "In this section, you will calculate the average gross rent and average sales price for each year. Plot the results as a line chart."
   ]
  },
  {
   "cell_type": "markdown",
   "metadata": {},
   "source": [
    "### Average Gross Rent in San Francisco Per Year"
   ]
  },
  {
   "cell_type": "code",
   "execution_count": 242,
   "metadata": {},
   "outputs": [
    {
     "data": {
      "text/html": [
       "<div>\n",
       "<style scoped>\n",
       "    .dataframe tbody tr th:only-of-type {\n",
       "        vertical-align: middle;\n",
       "    }\n",
       "\n",
       "    .dataframe tbody tr th {\n",
       "        vertical-align: top;\n",
       "    }\n",
       "\n",
       "    .dataframe thead th {\n",
       "        text-align: right;\n",
       "    }\n",
       "</style>\n",
       "<table border=\"1\" class=\"dataframe\">\n",
       "  <thead>\n",
       "    <tr style=\"text-align: right;\">\n",
       "      <th></th>\n",
       "      <th>sale_price_sqr_foot</th>\n",
       "      <th>gross_rent</th>\n",
       "    </tr>\n",
       "    <tr>\n",
       "      <th>year</th>\n",
       "      <th></th>\n",
       "      <th></th>\n",
       "    </tr>\n",
       "  </thead>\n",
       "  <tbody>\n",
       "    <tr>\n",
       "      <th>2010</th>\n",
       "      <td>369.344353</td>\n",
       "      <td>1239</td>\n",
       "    </tr>\n",
       "    <tr>\n",
       "      <th>2011</th>\n",
       "      <td>341.903429</td>\n",
       "      <td>1530</td>\n",
       "    </tr>\n",
       "    <tr>\n",
       "      <th>2012</th>\n",
       "      <td>399.389968</td>\n",
       "      <td>2324</td>\n",
       "    </tr>\n",
       "    <tr>\n",
       "      <th>2013</th>\n",
       "      <td>483.600304</td>\n",
       "      <td>2971</td>\n",
       "    </tr>\n",
       "    <tr>\n",
       "      <th>2014</th>\n",
       "      <td>556.277273</td>\n",
       "      <td>3528</td>\n",
       "    </tr>\n",
       "    <tr>\n",
       "      <th>2015</th>\n",
       "      <td>632.540352</td>\n",
       "      <td>3739</td>\n",
       "    </tr>\n",
       "    <tr>\n",
       "      <th>2016</th>\n",
       "      <td>697.643709</td>\n",
       "      <td>4390</td>\n",
       "    </tr>\n",
       "  </tbody>\n",
       "</table>\n",
       "</div>"
      ],
      "text/plain": [
       "      sale_price_sqr_foot  gross_rent\n",
       "year                                 \n",
       "2010           369.344353        1239\n",
       "2011           341.903429        1530\n",
       "2012           399.389968        2324\n",
       "2013           483.600304        2971\n",
       "2014           556.277273        3528\n",
       "2015           632.540352        3739\n",
       "2016           697.643709        4390"
      ]
     },
     "execution_count": 242,
     "metadata": {},
     "output_type": "execute_result"
    }
   ],
   "source": [
    "# Calculate the average gross rent and average sale price per square foot\n",
    "sfo_data_group_year['sale_price_sqr_foot', 'gross_rent'].mean()"
   ]
  },
  {
   "cell_type": "code",
   "execution_count": 243,
   "metadata": {},
   "outputs": [
    {
     "data": {
      "text/plain": [
       "<matplotlib.axes._subplots.AxesSubplot at 0x22216c2ba58>"
      ]
     },
     "execution_count": 243,
     "metadata": {},
     "output_type": "execute_result"
    },
    {
     "data": {
      "image/png": "[encoded data removed]",
      "text/plain": [
       "<Figure size 1080x504 with 1 Axes>"
      ]
     },
     "metadata": {
      "needs_background": "light"
     },
     "output_type": "display_data"
    }
   ],
   "source": [
    "# Plot the Average Gross Rent per Year as a Line Chart \n",
    "fig, ax = plt.subplots(figsize=(15,7))\n",
    "ax.set_xlabel('Year')\n",
    "ax.set_ylabel('Gross Rent')\n",
    "sfo_data.groupby(['year']).mean()['gross_rent'].plot.line(ax=ax)"
   ]
  },
  {
   "cell_type": "markdown",
   "metadata": {},
   "source": [
    "### Average Sales Price per Year"
   ]
  },
  {
   "cell_type": "code",
   "execution_count": 244,
   "metadata": {},
   "outputs": [
    {
     "data": {
      "text/plain": [
       "<matplotlib.axes._subplots.AxesSubplot at 0x22215facf98>"
      ]
     },
     "execution_count": 244,
     "metadata": {},
     "output_type": "execute_result"
    },
    {
     "data": {
      "image/png": "[encoded data removed]",
      "text/plain": [
       "<Figure size 1080x504 with 1 Axes>"
      ]
     },
     "metadata": {
      "needs_background": "light"
     },
     "output_type": "display_data"
    }
   ],
   "source": [
    "# Plot the Average Sales Price per Year as a line chart\n",
    "fig, ax = plt.subplots(figsize=(15,7))\n",
    "ax.set_title('Average Sale Price Per Year')\n",
    "ax.set_xlabel('Year')\n",
    "ax.set_ylabel('Average Sale Price')\n",
    "sfo_data_group_year['sale_price_sqr_foot'].mean().plot.line()"
   ]
  },
  {
   "cell_type": "markdown",
   "metadata": {},
   "source": [
    "- - - "
   ]
  },
  {
   "cell_type": "markdown",
   "metadata": {},
   "source": [
    "## Average Prices by Neighborhood\n",
    "\n",
    "In this section, you will use hvplot to create an interactive visulization of the Average Prices with a dropdown selector for the neighborhood.\n",
    "\n",
    "Hint: It will be easier to create a new DataFrame from grouping the data and calculating the mean prices for each year and neighborhood"
   ]
  },
  {
   "cell_type": "code",
   "execution_count": 245,
   "metadata": {},
   "outputs": [
    {
     "data": {
      "text/html": [
       "<div>\n",
       "<style scoped>\n",
       "    .dataframe tbody tr th:only-of-type {\n",
       "        vertical-align: middle;\n",
       "    }\n",
       "\n",
       "    .dataframe tbody tr th {\n",
       "        vertical-align: top;\n",
       "    }\n",
       "\n",
       "    .dataframe thead th {\n",
       "        text-align: right;\n",
       "    }\n",
       "</style>\n",
       "<table border=\"1\" class=\"dataframe\">\n",
       "  <thead>\n",
       "    <tr style=\"text-align: right;\">\n",
       "      <th></th>\n",
       "      <th></th>\n",
       "      <th>sale_price_sqr_foot</th>\n",
       "      <th>housing_units</th>\n",
       "      <th>gross_rent</th>\n",
       "    </tr>\n",
       "    <tr>\n",
       "      <th>year</th>\n",
       "      <th>neighborhood</th>\n",
       "      <th></th>\n",
       "      <th></th>\n",
       "      <th></th>\n",
       "    </tr>\n",
       "  </thead>\n",
       "  <tbody>\n",
       "    <tr>\n",
       "      <th rowspan=\"5\" valign=\"top\">2010</th>\n",
       "      <th>Alamo Square</th>\n",
       "      <td>291.182945</td>\n",
       "      <td>372560</td>\n",
       "      <td>1239</td>\n",
       "    </tr>\n",
       "    <tr>\n",
       "      <th>Anza Vista</th>\n",
       "      <td>267.932583</td>\n",
       "      <td>372560</td>\n",
       "      <td>1239</td>\n",
       "    </tr>\n",
       "    <tr>\n",
       "      <th>Bayview</th>\n",
       "      <td>170.098665</td>\n",
       "      <td>372560</td>\n",
       "      <td>1239</td>\n",
       "    </tr>\n",
       "    <tr>\n",
       "      <th>Buena Vista Park</th>\n",
       "      <td>347.394919</td>\n",
       "      <td>372560</td>\n",
       "      <td>1239</td>\n",
       "    </tr>\n",
       "    <tr>\n",
       "      <th>Central Richmond</th>\n",
       "      <td>319.027623</td>\n",
       "      <td>372560</td>\n",
       "      <td>1239</td>\n",
       "    </tr>\n",
       "  </tbody>\n",
       "</table>\n",
       "</div>"
      ],
      "text/plain": [
       "                       sale_price_sqr_foot  housing_units  gross_rent\n",
       "year neighborhood                                                    \n",
       "2010 Alamo Square               291.182945         372560        1239\n",
       "     Anza Vista                 267.932583         372560        1239\n",
       "     Bayview                    170.098665         372560        1239\n",
       "     Buena Vista Park           347.394919         372560        1239\n",
       "     Central Richmond           319.027623         372560        1239"
      ]
     },
     "execution_count": 245,
     "metadata": {},
     "output_type": "execute_result"
    }
   ],
   "source": [
    "# Group by year and neighborhood and then create a new dataframe of the mean values\n",
    "sfo_data.reset_index()\n",
    "mean_neighborhood_year = sfo_data.groupby(['year', 'neighborhood']).mean()\n",
    "mean_neighborhood_year.head()"
   ]
  },
  {
   "cell_type": "code",
   "execution_count": 246,
   "metadata": {},
   "outputs": [
    {
     "data": {
      "application/vnd.holoviews_exec.v0+json": "",
      "text/html": [
       "<div class=\"hololayout row row-fluid\">\n",
       "  <div class=\"holoframe\" id=\"display_area8ad646134e474e46af8de3a13725f2a0\">\n",
       "    <div id=\"_anim_img8ad646134e474e46af8de3a13725f2a0\">\n",
       "      \n",
       "      <div id='6895' style='display: table; margin: 0 auto;'>\n",
       "\n",
       "\n",
       "\n",
       "\n",
       "\n",
       "  <div class=\"bk-root\" id=\"e0e53fe4-f898-4383-8b87-22a7e019a28a\" data-root-id=\"6895\"></div>\n",
       "</div>\n",
       "      \n",
       "    </div>\n",
       "  </div>\n",
       "  <div class=\"holowidgets\" id=\"widget_area8ad646134e474e46af8de3a13725f2a0\">\n",
       "    <form class=\"holoform well\" id=\"form8ad646134e474e46af8de3a13725f2a0\">\n",
       "      \n",
       "      \n",
       "        <div class=\"form-group control-group holoformgroup\" style=''>\n",
       "          <label for=\"textInput8ad646134e474e46af8de3a13725f2a0_neighborhood\"><strong>neighborhood:</strong></label>\n",
       "          <select class=\"holoselect form-control\" id=\"_anim_widget8ad646134e474e46af8de3a13725f2a0_neighborhood\" >\n",
       "          </select>\n",
       "        </div>\n",
       "        \n",
       "        \n",
       "        </form>\n",
       "    </div>\n",
       "</div>\n",
       "<script type=\"application/javascript\">/* Instantiate the BokehSelectionWidget class. */\n",
       "/* The IDs given should match those used in the template above. */\n",
       "var widget_ids = new Array(1);\n",
       "\n",
       "\n",
       "widget_ids[0] = \"_anim_widget8ad646134e474e46af8de3a13725f2a0_neighborhood\";\n",
       "\n",
       "\n",
       "function create_widget() {\n",
       "  var frame_data = {};\n",
       "  var dim_vals = [0.0];\n",
       "  var keyMap = {};\n",
       "  var notFound = \"<h2 style='vertical-align: middle>No frame at selected dimension value.<h2>\";\n",
       "\n",
       "  var anim = new HoloViews.BokehSelectionWidget(frame_data, \"8ad646134e474e46af8de3a13725f2a0\", widget_ids,\n",
       "  keyMap, dim_vals, notFound, false, \"default\",\n",
       "  false, \"./json_figures/\", true, \"6895\");\n",
       "\n",
       "  HoloViews.index['6895'] = anim;\n",
       "}\n",
       "\n",
       "\n",
       "\n",
       "\n",
       "HoloViews.init_dropdown('8ad646134e474e46af8de3a13725f2a0', '6895', 'neighborhood', [0, 1, 2, 3, 4, 5, 6, 7, 8, 9, 10, 11, 12, 13, 14, 15, 16, 17, 18, 19, 20, 21, 22, 23, 24, 25, 26, 27, 28, 29, 30, 31, 32, 33, 34, 35, 36, 37, 38, 39, 40, 41, 42, 43, 44, 45, 46, 47, 48, 49, 50, 51, 52, 53, 54, 55, 56, 57, 58, 59, 60, 61, 62, 63, 64, 65, 66, 67, 68, 69, 70, 71, 72], 0, {}, ['Alamo Square', 'Anza Vista', 'Bayview', 'Buena Vista Park', 'Central Richmond', 'Central Sunset', 'Corona Heights', 'Cow Hollow', 'Croker Amazon', 'Diamond Heights', 'Downtown ', 'Eureka Valley/Dolores Heights', 'Excelsior', 'Financial District North', 'Financial District South', 'Forest Knolls', 'Glen Park', 'Golden Gate Heights', 'Haight Ashbury', 'Hayes Valley', 'Hunters Point', 'Ingleside ', 'Inner Mission', 'Inner Parkside', 'Inner Richmond', 'Inner Sunset', 'Jordan Park/Laurel Heights', 'Lake --The Presidio', 'Lone Mountain', 'Lower Pacific Heights', 'Marina', 'Miraloma Park', 'Mission Bay', 'Mission Dolores', 'Mission Terrace', 'Nob Hill', 'Noe Valley', 'Oceanview', 'Outer Parkside', 'Outer Richmond ', 'Outer Sunset', 'Pacific Heights', 'Park North', 'Parkside', 'Parnassus/Ashbury Heights', 'Portola', 'Potrero Hill', 'Presidio Heights', 'Russian Hill', 'South Beach', 'South of Market', 'Sunnyside', 'Telegraph Hill', 'Twin Peaks', 'Union Square District', 'Van Ness/ Civic Center', 'West Portal', 'Western Addition', 'Yerba Buena', 'Bernal Heights ', 'Clarendon Heights', 'Duboce Triangle', 'Ingleside Heights', 'North Beach', 'North Waterfront', 'Outer Mission', 'Westwood Highlands', 'Merced Heights', 'Midtown Terrace', 'Visitacion Valley', 'Silver Terrace', 'Westwood Park', 'Bayview Heights'], 'None', 0, true)\n",
       "\n",
       "\n",
       "\n",
       "\n",
       "create_widget();\n",
       "(function(root) {\n",
       "  function embed_document(root) {\n",
       "    \n",
       "  var docs_json = {\"4fdcfbe9-02d2-487a-9dfc-deba0934905e\":{\"roots\":{\"references\":[{\"attributes\":{\"below\":[{\"id\":\"6904\",\"type\":\"LinearAxis\"}],\"center\":[{\"id\":\"6908\",\"type\":\"Grid\"},{\"id\":\"6913\",\"type\":\"Grid\"}],\"left\":[{\"id\":\"6909\",\"type\":\"LinearAxis\"}],\"margin\":null,\"min_border_bottom\":10,\"min_border_left\":10,\"min_border_right\":10,\"min_border_top\":10,\"plot_height\":300,\"plot_width\":700,\"renderers\":[{\"id\":\"6932\",\"type\":\"GlyphRenderer\"}],\"sizing_mode\":\"fixed\",\"title\":{\"id\":\"6896\",\"type\":\"Title\"},\"toolbar\":{\"id\":\"6919\",\"type\":\"Toolbar\"},\"x_range\":{\"id\":\"6892\",\"type\":\"Range1d\"},\"x_scale\":{\"id\":\"6900\",\"type\":\"LinearScale\"},\"y_range\":{\"id\":\"6893\",\"type\":\"Range1d\"},\"y_scale\":{\"id\":\"6902\",\"type\":\"LinearScale\"}},\"id\":\"6895\",\"subtype\":\"Figure\",\"type\":\"Plot\"},{\"attributes\":{\"text\":\"sale_price_sqr_foot  neighborhood: Alamo Square\",\"text_color\":{\"value\":\"black\"},\"text_font_size\":{\"value\":\"12pt\"}},\"id\":\"6896\",\"type\":\"Title\"},{\"attributes\":{},\"id\":\"6927\",\"type\":\"Selection\"},{\"attributes\":{\"bottom_units\":\"screen\",\"fill_alpha\":{\"value\":0.5},\"fill_color\":{\"value\":\"lightgrey\"},\"left_units\":\"screen\",\"level\":\"overlay\",\"line_alpha\":{\"value\":1.0},\"line_color\":{\"value\":\"black\"},\"line_dash\":[4,4],\"line_width\":{\"value\":2},\"render_mode\":\"css\",\"right_units\":\"screen\",\"top_units\":\"screen\"},\"id\":\"6945\",\"type\":\"BoxAnnotation\"},{\"attributes\":{},\"id\":\"6905\",\"type\":\"BasicTicker\"},{\"attributes\":{\"grid_line_color\":null,\"ticker\":{\"id\":\"6905\",\"type\":\"BasicTicker\"}},\"id\":\"6908\",\"type\":\"Grid\"},{\"attributes\":{\"source\":{\"id\":\"6926\",\"type\":\"ColumnDataSource\"}},\"id\":\"6933\",\"type\":\"CDSView\"},{\"attributes\":{},\"id\":\"6916\",\"type\":\"WheelZoomTool\"},{\"attributes\":{},\"id\":\"6902\",\"type\":\"LinearScale\"},{\"attributes\":{\"active_drag\":\"auto\",\"active_inspect\":\"auto\",\"active_multi\":null,\"active_scroll\":\"auto\",\"active_tap\":\"auto\",\"tools\":[{\"id\":\"6894\",\"type\":\"HoverTool\"},{\"id\":\"6914\",\"type\":\"SaveTool\"},{\"id\":\"6915\",\"type\":\"PanTool\"},{\"id\":\"6916\",\"type\":\"WheelZoomTool\"},{\"id\":\"6917\",\"type\":\"BoxZoomTool\"},{\"id\":\"6918\",\"type\":\"ResetTool\"}]},\"id\":\"6919\",\"type\":\"Toolbar\"},{\"attributes\":{},\"id\":\"6936\",\"type\":\"BasicTickFormatter\"},{\"attributes\":{\"line_alpha\":0.2,\"line_color\":\"#1f77b4\",\"line_width\":2,\"x\":{\"field\":\"year\"},\"y\":{\"field\":\"sale_price_sqr_foot\"}},\"id\":\"6931\",\"type\":\"Line\"},{\"attributes\":{},\"id\":\"6914\",\"type\":\"SaveTool\"},{\"attributes\":{\"data_source\":{\"id\":\"6926\",\"type\":\"ColumnDataSource\"},\"glyph\":{\"id\":\"6929\",\"type\":\"Line\"},\"hover_glyph\":null,\"muted_glyph\":{\"id\":\"6931\",\"type\":\"Line\"},\"nonselection_glyph\":{\"id\":\"6930\",\"type\":\"Line\"},\"selection_glyph\":null,\"view\":{\"id\":\"6933\",\"type\":\"CDSView\"}},\"id\":\"6932\",\"type\":\"GlyphRenderer\"},{\"attributes\":{},\"id\":\"6910\",\"type\":\"BasicTicker\"},{\"attributes\":{},\"id\":\"6915\",\"type\":\"PanTool\"},{\"attributes\":{\"axis_label\":\"Year\",\"bounds\":\"auto\",\"formatter\":{\"id\":\"6934\",\"type\":\"BasicTickFormatter\"},\"major_label_orientation\":\"horizontal\",\"ticker\":{\"id\":\"6905\",\"type\":\"BasicTicker\"}},\"id\":\"6904\",\"type\":\"LinearAxis\"},{\"attributes\":{},\"id\":\"6900\",\"type\":\"LinearScale\"},{\"attributes\":{},\"id\":\"6934\",\"type\":\"BasicTickFormatter\"},{\"attributes\":{\"line_alpha\":0.1,\"line_color\":\"#1f77b4\",\"line_width\":2,\"x\":{\"field\":\"year\"},\"y\":{\"field\":\"sale_price_sqr_foot\"}},\"id\":\"6930\",\"type\":\"Line\"},{\"attributes\":{\"line_color\":\"#1f77b4\",\"line_width\":2,\"x\":{\"field\":\"year\"},\"y\":{\"field\":\"sale_price_sqr_foot\"}},\"id\":\"6929\",\"type\":\"Line\"},{\"attributes\":{\"callback\":null,\"end\":602.1158769435002,\"reset_end\":602.1158769435002,\"reset_start\":183.09931693145703,\"start\":183.09931693145703,\"tags\":[[[\"sale_price_sqr_foot\",\"sale_price_sqr_foot\",null]]]},\"id\":\"6893\",\"type\":\"Range1d\"},{\"attributes\":{\"axis_label\":\"Price Per Square Foot\",\"bounds\":\"auto\",\"formatter\":{\"id\":\"6936\",\"type\":\"BasicTickFormatter\"},\"major_label_orientation\":\"horizontal\",\"ticker\":{\"id\":\"6910\",\"type\":\"BasicTicker\"}},\"id\":\"6909\",\"type\":\"LinearAxis\"},{\"attributes\":{},\"id\":\"6918\",\"type\":\"ResetTool\"},{\"attributes\":{\"callback\":null,\"end\":2016.0,\"reset_end\":2016.0,\"reset_start\":2010.0,\"start\":2010.0,\"tags\":[[[\"year\",\"year\",null]]]},\"id\":\"6892\",\"type\":\"Range1d\"},{\"attributes\":{\"overlay\":{\"id\":\"6945\",\"type\":\"BoxAnnotation\"}},\"id\":\"6917\",\"type\":\"BoxZoomTool\"},{\"attributes\":{\"callback\":null,\"renderers\":[{\"id\":\"6932\",\"type\":\"GlyphRenderer\"}],\"tags\":[\"hv_created\"],\"tooltips\":[[\"year\",\"@{year}\"],[\"sale_price_sqr_foot\",\"@{sale_price_sqr_foot}\"]]},\"id\":\"6894\",\"type\":\"HoverTool\"},{\"attributes\":{\"dimension\":1,\"grid_line_color\":null,\"ticker\":{\"id\":\"6910\",\"type\":\"BasicTicker\"}},\"id\":\"6913\",\"type\":\"Grid\"},{\"attributes\":{\"callback\":null,\"data\":{\"sale_price_sqr_foot\":{\"__ndarray__\":\"Dkc7WO0yckCafszcbwhxQIGRs5ot42ZAJzog0LQ8eEAWMinKGEd+QI0V5FDt0IJAVCHcmLVPdUA=\",\"dtype\":\"float64\",\"shape\":[7]},\"year\":[2010,2011,2012,2013,2014,2015,2016]},\"selected\":{\"id\":\"6927\",\"type\":\"Selection\"},\"selection_policy\":{\"id\":\"6943\",\"type\":\"UnionRenderers\"}},\"id\":\"6926\",\"type\":\"ColumnDataSource\"},{\"attributes\":{},\"id\":\"6943\",\"type\":\"UnionRenderers\"}],\"root_ids\":[\"6895\"]},\"title\":\"Bokeh Application\",\"version\":\"1.3.4\"}};\n",
       "  var render_items = [{\"docid\":\"4fdcfbe9-02d2-487a-9dfc-deba0934905e\",\"roots\":{\"6895\":\"e0e53fe4-f898-4383-8b87-22a7e019a28a\"}}];\n",
       "  root.Bokeh.embed.embed_items_notebook(docs_json, render_items);\n",
       "\n",
       "  }\n",
       "  if (root.Bokeh !== undefined) {\n",
       "    embed_document(root);\n",
       "  } else {\n",
       "    var attempts = 0;\n",
       "    var timer = setInterval(function(root) {\n",
       "      if (root.Bokeh !== undefined) {\n",
       "        embed_document(root);\n",
       "        clearInterval(timer);\n",
       "      }\n",
       "      attempts++;\n",
       "      if (attempts > 100) {\n",
       "        console.log(\"Bokeh: ERROR: Unable to run BokehJS code because BokehJS library is missing\");\n",
       "        clearInterval(timer);\n",
       "      }\n",
       "    }, 10, root)\n",
       "  }\n",
       "})(window);</script>"
      ],
      "text/plain": [
       ":DynamicMap   [neighborhood]\n",
       "   :Curve   [year]   (sale_price_sqr_foot)"
      ]
     },
     "execution_count": 246,
     "metadata": {
      "application/vnd.holoviews_exec.v0+json": {
       "id": "6895"
      }
     },
     "output_type": "execute_result"
    }
   ],
   "source": [
    "# Use hvplot to create an interactive line chart of the average price per sq ft.\n",
    "# The plot should have a dropdown selector for the neighborhood\n",
    "by_neighborhood = mean_neighborhood_year['sale_price_sqr_foot'].hvplot('year', groupby='neighborhood', xlabel=\"Year\", ylabel=\"Price Per Square Foot\")\n",
    "by_neighborhood"
   ]
  },
  {
   "cell_type": "markdown",
   "metadata": {},
   "source": [
    "- - - "
   ]
  },
  {
   "cell_type": "markdown",
   "metadata": {},
   "source": [
    "## The Top 10 Most Expensive Neighborhoods\n",
    "\n",
    "In this section, you will need to calculate the mean sale price for each neighborhood and then sort the values to obtain the top 10 most expensive neighborhoods on average. Plot the results as a bar chart."
   ]
  },
  {
   "cell_type": "code",
   "execution_count": 247,
   "metadata": {},
   "outputs": [
    {
     "data": {
      "text/plain": [
       "neighborhood\n",
       "Union Square District    903.993258\n",
       "Merced Heights           788.844818\n",
       "Miraloma Park            779.810842\n",
       "Pacific Heights          689.555817\n",
       "Westwood Park            687.087575\n",
       "Telegraph Hill           676.506578\n",
       "Presidio Heights         675.350212\n",
       "Cow Hollow               665.964042\n",
       "Potrero Hill             662.013613\n",
       "South Beach              650.124479\n",
       "Name: sale_price_sqr_foot, dtype: float64"
      ]
     },
     "execution_count": 247,
     "metadata": {},
     "output_type": "execute_result"
    }
   ],
   "source": [
    "# Getting the data from the top 10 expensive neighborhoods\n",
    "average_cost_by_neighborhood = sfo_data.groupby('neighborhood').mean()\n",
    "top_ten = average_cost_by_neighborhood['sale_price_sqr_foot'].sort_values(ascending=False).head(10)\n",
    "top_ten"
   ]
  },
  {
   "cell_type": "code",
   "execution_count": 248,
   "metadata": {},
   "outputs": [
    {
     "data": {
      "application/vnd.holoviews_exec.v0+json": "",
      "text/html": [
       "<div id='7005' style='display: table; margin: 0 auto;'>\n",
       "\n",
       "\n",
       "\n",
       "\n",
       "\n",
       "  <div class=\"bk-root\" id=\"449c9dba-d314-4414-8f8a-3b1d0989a5d2\" data-root-id=\"7005\"></div>\n",
       "</div>\n",
       "<script type=\"application/javascript\">(function(root) {\n",
       "  function embed_document(root) {\n",
       "    \n",
       "  var docs_json = {\"5e2fe737-0a56-4857-ba1b-47fcbe29e940\":{\"roots\":{\"references\":[{\"attributes\":{\"below\":[{\"id\":\"7014\",\"type\":\"CategoricalAxis\"}],\"center\":[{\"id\":\"7017\",\"type\":\"Grid\"},{\"id\":\"7022\",\"type\":\"Grid\"}],\"left\":[{\"id\":\"7018\",\"type\":\"LinearAxis\"}],\"margin\":null,\"min_border_bottom\":10,\"min_border_left\":10,\"min_border_right\":10,\"min_border_top\":10,\"plot_height\":300,\"plot_width\":700,\"renderers\":[{\"id\":\"7041\",\"type\":\"GlyphRenderer\"}],\"sizing_mode\":\"fixed\",\"title\":{\"id\":\"7006\",\"type\":\"Title\"},\"toolbar\":{\"id\":\"7028\",\"type\":\"Toolbar\"},\"x_range\":{\"id\":\"7002\",\"type\":\"FactorRange\"},\"x_scale\":{\"id\":\"7010\",\"type\":\"CategoricalScale\"},\"y_range\":{\"id\":\"7003\",\"type\":\"Range1d\"},\"y_scale\":{\"id\":\"7012\",\"type\":\"LinearScale\"}},\"id\":\"7005\",\"subtype\":\"Figure\",\"type\":\"Plot\"},{\"attributes\":{\"axis_label\":\"Average Price Per Square Foot\",\"bounds\":\"auto\",\"formatter\":{\"id\":\"7045\",\"type\":\"BasicTickFormatter\"},\"major_label_orientation\":\"horizontal\",\"ticker\":{\"id\":\"7019\",\"type\":\"BasicTicker\"}},\"id\":\"7018\",\"type\":\"LinearAxis\"},{\"attributes\":{},\"id\":\"7052\",\"type\":\"UnionRenderers\"},{\"attributes\":{},\"id\":\"7019\",\"type\":\"BasicTicker\"},{\"attributes\":{\"dimension\":1,\"grid_line_color\":null,\"ticker\":{\"id\":\"7019\",\"type\":\"BasicTicker\"}},\"id\":\"7022\",\"type\":\"Grid\"},{\"attributes\":{},\"id\":\"7043\",\"type\":\"CategoricalTickFormatter\"},{\"attributes\":{\"bottom_units\":\"screen\",\"fill_alpha\":{\"value\":0.5},\"fill_color\":{\"value\":\"lightgrey\"},\"left_units\":\"screen\",\"level\":\"overlay\",\"line_alpha\":{\"value\":1.0},\"line_color\":{\"value\":\"black\"},\"line_dash\":[4,4],\"line_width\":{\"value\":2},\"render_mode\":\"css\",\"right_units\":\"screen\",\"top_units\":\"screen\"},\"id\":\"7054\",\"type\":\"BoxAnnotation\"},{\"attributes\":{\"grid_line_color\":null,\"ticker\":{\"id\":\"7015\",\"type\":\"CategoricalTicker\"}},\"id\":\"7017\",\"type\":\"Grid\"},{\"attributes\":{},\"id\":\"7045\",\"type\":\"BasicTickFormatter\"},{\"attributes\":{},\"id\":\"7036\",\"type\":\"Selection\"},{\"attributes\":{\"axis_label\":\"Neighborhood\",\"bounds\":\"auto\",\"formatter\":{\"id\":\"7043\",\"type\":\"CategoricalTickFormatter\"},\"major_label_orientation\":0.7853981633974483,\"ticker\":{\"id\":\"7015\",\"type\":\"CategoricalTicker\"}},\"id\":\"7014\",\"type\":\"CategoricalAxis\"},{\"attributes\":{},\"id\":\"7023\",\"type\":\"SaveTool\"},{\"attributes\":{\"overlay\":{\"id\":\"7054\",\"type\":\"BoxAnnotation\"}},\"id\":\"7026\",\"type\":\"BoxZoomTool\"},{\"attributes\":{\"callback\":null,\"renderers\":[{\"id\":\"7041\",\"type\":\"GlyphRenderer\"}],\"tags\":[\"hv_created\"],\"tooltips\":[[\"neighborhood\",\"@{neighborhood}\"],[\"sale_price_sqr_foot\",\"@{sale_price_sqr_foot}\"]]},\"id\":\"7004\",\"type\":\"HoverTool\"},{\"attributes\":{},\"id\":\"7024\",\"type\":\"PanTool\"},{\"attributes\":{\"callback\":null,\"data\":{\"neighborhood\":[\"Union Square District\",\"Merced Heights\",\"Miraloma Park\",\"Pacific Heights\",\"Westwood Park\",\"Telegraph Hill\",\"Presidio Heights\",\"Cow Hollow\",\"Potrero Hill\",\"South Beach\"],\"sale_price_sqr_foot\":{\"__ndarray__\":\"JRAUMfI/jEB9IrkvwqaIQFx/3pp8XohAFpsVUHKMhUBs0ERas3iFQL0KhXgNJIVAy835O80ahUANV25bts+EQJrMCuEbsIRAya3y7v5QhEA=\",\"dtype\":\"float64\",\"shape\":[10]}},\"selected\":{\"id\":\"7036\",\"type\":\"Selection\"},\"selection_policy\":{\"id\":\"7052\",\"type\":\"UnionRenderers\"}},\"id\":\"7035\",\"type\":\"ColumnDataSource\"},{\"attributes\":{},\"id\":\"7025\",\"type\":\"WheelZoomTool\"},{\"attributes\":{},\"id\":\"7010\",\"type\":\"CategoricalScale\"},{\"attributes\":{},\"id\":\"7027\",\"type\":\"ResetTool\"},{\"attributes\":{\"callback\":null,\"factors\":[\"Union Square District\",\"Merced Heights\",\"Miraloma Park\",\"Pacific Heights\",\"Westwood Park\",\"Telegraph Hill\",\"Presidio Heights\",\"Cow Hollow\",\"Potrero Hill\",\"South Beach\"],\"tags\":[[[\"neighborhood\",\"neighborhood\",null]]]},\"id\":\"7002\",\"type\":\"FactorRange\"},{\"attributes\":{\"active_drag\":\"auto\",\"active_inspect\":\"auto\",\"active_multi\":null,\"active_scroll\":\"auto\",\"active_tap\":\"auto\",\"tools\":[{\"id\":\"7004\",\"type\":\"HoverTool\"},{\"id\":\"7023\",\"type\":\"SaveTool\"},{\"id\":\"7024\",\"type\":\"PanTool\"},{\"id\":\"7025\",\"type\":\"WheelZoomTool\"},{\"id\":\"7026\",\"type\":\"BoxZoomTool\"},{\"id\":\"7027\",\"type\":\"ResetTool\"}]},\"id\":\"7028\",\"type\":\"Toolbar\"},{\"attributes\":{\"fill_color\":{\"value\":\"#1f77b4\"},\"top\":{\"field\":\"sale_price_sqr_foot\"},\"width\":{\"value\":0.8},\"x\":{\"field\":\"neighborhood\"}},\"id\":\"7038\",\"type\":\"VBar\"},{\"attributes\":{\"fill_alpha\":{\"value\":0.1},\"fill_color\":{\"value\":\"#1f77b4\"},\"line_alpha\":{\"value\":0.1},\"line_color\":{\"value\":\"black\"},\"top\":{\"field\":\"sale_price_sqr_foot\"},\"width\":{\"value\":0.8},\"x\":{\"field\":\"neighborhood\"}},\"id\":\"7039\",\"type\":\"VBar\"},{\"attributes\":{},\"id\":\"7015\",\"type\":\"CategoricalTicker\"},{\"attributes\":{\"fill_alpha\":{\"value\":0.2},\"fill_color\":{\"value\":\"#1f77b4\"},\"line_alpha\":{\"value\":0.2},\"line_color\":{\"value\":\"black\"},\"top\":{\"field\":\"sale_price_sqr_foot\"},\"width\":{\"value\":0.8},\"x\":{\"field\":\"neighborhood\"}},\"id\":\"7040\",\"type\":\"VBar\"},{\"attributes\":{\"text\":\"sale_price_sqr_foot\",\"text_color\":{\"value\":\"black\"},\"text_font_size\":{\"value\":\"12pt\"}},\"id\":\"7006\",\"type\":\"Title\"},{\"attributes\":{\"data_source\":{\"id\":\"7035\",\"type\":\"ColumnDataSource\"},\"glyph\":{\"id\":\"7038\",\"type\":\"VBar\"},\"hover_glyph\":null,\"muted_glyph\":{\"id\":\"7040\",\"type\":\"VBar\"},\"nonselection_glyph\":{\"id\":\"7039\",\"type\":\"VBar\"},\"selection_glyph\":null,\"view\":{\"id\":\"7042\",\"type\":\"CDSView\"}},\"id\":\"7041\",\"type\":\"GlyphRenderer\"},{\"attributes\":{\"callback\":null,\"end\":903.9932576720645,\"reset_end\":903.9932576720645,\"reset_start\":0.0,\"tags\":[[[\"sale_price_sqr_foot\",\"sale_price_sqr_foot\",null]]]},\"id\":\"7003\",\"type\":\"Range1d\"},{\"attributes\":{\"source\":{\"id\":\"7035\",\"type\":\"ColumnDataSource\"}},\"id\":\"7042\",\"type\":\"CDSView\"},{\"attributes\":{},\"id\":\"7012\",\"type\":\"LinearScale\"}],\"root_ids\":[\"7005\"]},\"title\":\"Bokeh Application\",\"version\":\"1.3.4\"}};\n",
       "  var render_items = [{\"docid\":\"5e2fe737-0a56-4857-ba1b-47fcbe29e940\",\"roots\":{\"7005\":\"449c9dba-d314-4414-8f8a-3b1d0989a5d2\"}}];\n",
       "  root.Bokeh.embed.embed_items_notebook(docs_json, render_items);\n",
       "\n",
       "  }\n",
       "  if (root.Bokeh !== undefined) {\n",
       "    embed_document(root);\n",
       "  } else {\n",
       "    var attempts = 0;\n",
       "    var timer = setInterval(function(root) {\n",
       "      if (root.Bokeh !== undefined) {\n",
       "        embed_document(root);\n",
       "        clearInterval(timer);\n",
       "      }\n",
       "      attempts++;\n",
       "      if (attempts > 100) {\n",
       "        console.log(\"Bokeh: ERROR: Unable to run BokehJS code because BokehJS library is missing\");\n",
       "        clearInterval(timer);\n",
       "      }\n",
       "    }, 10, root)\n",
       "  }\n",
       "})(window);</script>"
      ],
      "text/plain": [
       ":Bars   [neighborhood]   (sale_price_sqr_foot)"
      ]
     },
     "execution_count": 248,
     "metadata": {
      "application/vnd.holoviews_exec.v0+json": {
       "id": "7005"
      }
     },
     "output_type": "execute_result"
    }
   ],
   "source": [
    "# Plotting the data from the top 10 expensive neighborhoods\n",
    "top_ten.hvplot.bar(rot=45, xlabel=\"Neighborhood\", ylabel=\"Average Price Per Square Foot\")"
   ]
  },
  {
   "cell_type": "markdown",
   "metadata": {},
   "source": [
    "- - - "
   ]
  },
  {
   "cell_type": "markdown",
   "metadata": {},
   "source": [
    "## Parallel Coordinates and Parallel Categories Analysis\n",
    "\n",
    "In this section, you will use plotly express to create parallel coordinates and parallel categories visualizations so that investors can interactively filter and explore various factors related to the sales price of the neighborhoods. \n",
    "\n",
    "Using the DataFrame of Average values per neighborhood (calculated above), create the following visualizations:\n",
    "1. Create a Parallel Coordinates Plot\n",
    "2. Create a Parallel Categories Plot"
   ]
  },
  {
   "cell_type": "code",
   "execution_count": 249,
   "metadata": {},
   "outputs": [
    {
     "data": {
      "application/vnd.plotly.v1+json": {
       "config": {
        "plotlyServerURL": "https://plot.ly"
       },
       "data": [
        {
         "dimensions": [
          {
           "label": "sale_price_sqr_foot",
           "values": [
            366.02071153227644,
            373.38219782647707,
            204.58862288246596,
            590.7928388746802,
            576.7464881132382,
            452.6805909308442,
            394.4223987800589,
            423.6879277015824,
            487.2448860262575,
            587.5390673661739,
            665.964041578323,
            303.00418440849427,
            434.99173944522124,
            391.43437776742576,
            502.59915555623616,
            642.2486706357391,
            388.76592700230754,
            391.36253308010487,
            455.83621223779153,
            321.84083657398736,
            623.826177537435,
            639.3935574881156,
            449.5447622856192,
            355.9328279480578,
            170.62491987132685,
            367.8951440852775,
            384.7979281346048,
            397.67371473613446,
            519.3856038526768,
            378.59431396136455,
            413.66751546215943,
            529.3841850673389,
            409.95435219297514,
            478.2285530213679,
            539.2379688783261,
            583.7492694814549,
            788.8448175872469,
            550.5103482917151,
            779.810842264425,
            566.1922135483312,
            418.9156225067234,
            523.4662013248023,
            458.2040944846015,
            542.4429128151736,
            411.646875881678,
            498.26975500787677,
            330.0973846552545,
            242.37095202049667,
            485.0270126111035,
            473.90077331796317,
            394.21903228550775,
            689.5558168113664,
            373.732856371763,
            336.172661037069,
            632.740453508577,
            327.11392534647274,
            662.0136128276529,
            675.3502120510033,
            608.9832172374425,
            170.2925485152069,
            650.1244791945729,
            570.2714266991686,
            528.3183317138463,
            676.5065775293257,
            469.39862649935156,
            903.9932576720645,
            404.1501801622257,
            301.46617997450267,
            498.4884848295011,
            307.56220097996066,
            533.7039354359513,
            687.0875745178323,
            576.709848378276
           ]
          },
          {
           "label": "housing_units",
           "values": [
            378401,
            379050,
            376454,
            382295,
            379374.5,
            378076.5,
            378401,
            378401,
            376454,
            377232.8,
            378401,
            378076.5,
            375480.5,
            378401,
            378401,
            378401,
            379050,
            378401,
            377232.8,
            374507,
            378725.5,
            377622.2,
            378401,
            378401,
            377427.5,
            377427.5,
            379374.5,
            378401,
            379861.25,
            378401,
            378401,
            378401,
            377427.5,
            377427.5,
            378401,
            378401,
            380348,
            377427.5,
            375967.25,
            377752,
            377427.5,
            379569.2,
            378401,
            378401,
            379179.8,
            378401,
            377103,
            379374.5,
            378401,
            378401,
            378401,
            378401,
            378401,
            377427.5,
            378401,
            376454,
            378401,
            378401,
            378401,
            380348,
            375805,
            378401,
            378725.5,
            378401,
            378401,
            377427.5,
            378401,
            381321.5,
            376940.75,
            377427.5,
            376454,
            382295,
            377427.5
           ]
          },
          {
           "label": "gross_rent",
           "values": [
            2817.285714285714,
            3031.8333333333335,
            2318.4,
            3739,
            3080.3333333333335,
            2698.8333333333335,
            2817.285714285714,
            2817.285714285714,
            2250.5,
            2472,
            2817.285714285714,
            2698.8333333333335,
            2016,
            2817.285714285714,
            2780.25,
            2817.285714285714,
            3031.8333333333335,
            2817.285714285714,
            2472,
            1781.5,
            2899.5,
            2601.4,
            2817.285714285714,
            2817.285714285714,
            2489,
            2509,
            2960,
            2817.285714285714,
            3224,
            2817.285714285714,
            2817.285714285714,
            2817.285714285714,
            2555.1666666666665,
            2555.1666666666665,
            2817.285714285714,
            2817.285714285714,
            3414,
            2647.5,
            2155.25,
            2663.6666666666665,
            2555.1666666666665,
            3173.4,
            2817.285714285714,
            2817.285714285714,
            2990.8,
            2818.4,
            2434,
            2995.75,
            2817.285714285714,
            2817.285714285714,
            2817.285714285714,
            2817.285714285714,
            2817.285714285714,
            2555.1666666666665,
            2817.285714285714,
            2318.4,
            2817.285714285714,
            2817.285714285714,
            2817.285714285714,
            3528,
            2099,
            2817.285714285714,
            2899.5,
            2817.285714285714,
            2817.285714285714,
            2555.1666666666665,
            2817.285714285714,
            3657,
            2515.5,
            2555.1666666666665,
            2250.5,
            3959,
            2555.1666666666665
           ]
          }
         ],
         "domain": {
          "x": [
           0,
           0.98
          ],
          "y": [
           0,
           1
          ]
         },
         "line": {
          "color": [
           2817.285714285714,
           3031.8333333333335,
           2318.4,
           3739,
           3080.3333333333335,
           2698.8333333333335,
           2817.285714285714,
           2817.285714285714,
           2250.5,
           2472,
           2817.285714285714,
           2698.8333333333335,
           2016,
           2817.285714285714,
           2780.25,
           2817.285714285714,
           3031.8333333333335,
           2817.285714285714,
           2472,
           1781.5,
           2899.5,
           2601.4,
           2817.285714285714,
           2817.285714285714,
           2489,
           2509,
           2960,
           2817.285714285714,
           3224,
           2817.285714285714,
           2817.285714285714,
           2817.285714285714,
           2555.1666666666665,
           2555.1666666666665,
           2817.285714285714,
           2817.285714285714,
           3414,
           2647.5,
           2155.25,
           2663.6666666666665,
           2555.1666666666665,
           3173.4,
           2817.285714285714,
           2817.285714285714,
           2990.8,
           2818.4,
           2434,
           2995.75,
           2817.285714285714,
           2817.285714285714,
           2817.285714285714,
           2817.285714285714,
           2817.285714285714,
           2555.1666666666665,
           2817.285714285714,
           2318.4,
           2817.285714285714,
           2817.285714285714,
           2817.285714285714,
           3528,
           2099,
           2817.285714285714,
           2899.5,
           2817.285714285714,
           2817.285714285714,
           2555.1666666666665,
           2817.285714285714,
           3657,
           2515.5,
           2555.1666666666665,
           2250.5,
           3959,
           2555.1666666666665
          ],
          "coloraxis": "coloraxis"
         },
         "name": "",
         "type": "parcoords"
        }
       ],
       "layout": {
        "autosize": true,
        "coloraxis": {
         "colorbar": {
          "title": {
           "text": "gross_rent"
          }
         },
         "colorscale": [
          [
           0,
           "#0d0887"
          ],
          [
           0.1111111111111111,
           "#46039f"
          ],
          [
           0.2222222222222222,
           "#7201a8"
          ],
          [
           0.3333333333333333,
           "#9c179e"
          ],
          [
           0.4444444444444444,
           "#bd3786"
          ],
          [
           0.5555555555555556,
           "#d8576b"
          ],
          [
           0.6666666666666666,
           "#ed7953"
          ],
          [
           0.7777777777777778,
           "#fb9f3a"
          ],
          [
           0.8888888888888888,
           "#fdca26"
          ],
          [
           1,
           "#f0f921"
          ]
         ]
        },
        "legend": {
         "tracegroupgap": 0
        },
        "margin": {
         "t": 60
        },
        "template": {
         "data": {
          "bar": [
           {
            "error_x": {
             "color": "#2a3f5f"
            },
            "error_y": {
             "color": "#2a3f5f"
            },
            "marker": {
             "line": {
              "color": "#E5ECF6",
              "width": 0.5
             }
            },
            "type": "bar"
           }
          ],
          "barpolar": [
           {
            "marker": {
             "line": {
              "color": "#E5ECF6",
              "width": 0.5
             }
            },
            "type": "barpolar"
           }
          ],
          "carpet": [
           {
            "aaxis": {
             "endlinecolor": "#2a3f5f",
             "gridcolor": "white",
             "linecolor": "white",
             "minorgridcolor": "white",
             "startlinecolor": "#2a3f5f"
            },
            "baxis": {
             "endlinecolor": "#2a3f5f",
             "gridcolor": "white",
             "linecolor": "white",
             "minorgridcolor": "white",
             "startlinecolor": "#2a3f5f"
            },
            "type": "carpet"
           }
          ],
          "choropleth": [
           {
            "colorbar": {
             "outlinewidth": 0,
             "ticks": ""
            },
            "type": "choropleth"
           }
          ],
          "contour": [
           {
            "colorbar": {
             "outlinewidth": 0,
             "ticks": ""
            },
            "colorscale": [
             [
              0,
              "#0d0887"
             ],
             [
              0.1111111111111111,
              "#46039f"
             ],
             [
              0.2222222222222222,
              "#7201a8"
             ],
             [
              0.3333333333333333,
              "#9c179e"
             ],
             [
              0.4444444444444444,
              "#bd3786"
             ],
             [
              0.5555555555555556,
              "#d8576b"
             ],
             [
              0.6666666666666666,
              "#ed7953"
             ],
             [
              0.7777777777777778,
              "#fb9f3a"
             ],
             [
              0.8888888888888888,
              "#fdca26"
             ],
             [
              1,
              "#f0f921"
             ]
            ],
            "type": "contour"
           }
          ],
          "contourcarpet": [
           {
            "colorbar": {
             "outlinewidth": 0,
             "ticks": ""
            },
            "type": "contourcarpet"
           }
          ],
          "heatmap": [
           {
            "colorbar": {
             "outlinewidth": 0,
             "ticks": ""
            },
            "colorscale": [
             [
              0,
              "#0d0887"
             ],
             [
              0.1111111111111111,
              "#46039f"
             ],
             [
              0.2222222222222222,
              "#7201a8"
             ],
             [
              0.3333333333333333,
              "#9c179e"
             ],
             [
              0.4444444444444444,
              "#bd3786"
             ],
             [
              0.5555555555555556,
              "#d8576b"
             ],
             [
              0.6666666666666666,
              "#ed7953"
             ],
             [
              0.7777777777777778,
              "#fb9f3a"
             ],
             [
              0.8888888888888888,
              "#fdca26"
             ],
             [
              1,
              "#f0f921"
             ]
            ],
            "type": "heatmap"
           }
          ],
          "heatmapgl": [
           {
            "colorbar": {
             "outlinewidth": 0,
             "ticks": ""
            },
            "colorscale": [
             [
              0,
              "#0d0887"
             ],
             [
              0.1111111111111111,
              "#46039f"
             ],
             [
              0.2222222222222222,
              "#7201a8"
             ],
             [
              0.3333333333333333,
              "#9c179e"
             ],
             [
              0.4444444444444444,
              "#bd3786"
             ],
             [
              0.5555555555555556,
              "#d8576b"
             ],
             [
              0.6666666666666666,
              "#ed7953"
             ],
             [
              0.7777777777777778,
              "#fb9f3a"
             ],
             [
              0.8888888888888888,
              "#fdca26"
             ],
             [
              1,
              "#f0f921"
             ]
            ],
            "type": "heatmapgl"
           }
          ],
          "histogram": [
           {
            "marker": {
             "colorbar": {
              "outlinewidth": 0,
              "ticks": ""
             }
            },
            "type": "histogram"
           }
          ],
          "histogram2d": [
           {
            "colorbar": {
             "outlinewidth": 0,
             "ticks": ""
            },
            "colorscale": [
             [
              0,
              "#0d0887"
             ],
             [
              0.1111111111111111,
              "#46039f"
             ],
             [
              0.2222222222222222,
              "#7201a8"
             ],
             [
              0.3333333333333333,
              "#9c179e"
             ],
             [
              0.4444444444444444,
              "#bd3786"
             ],
             [
              0.5555555555555556,
              "#d8576b"
             ],
             [
              0.6666666666666666,
              "#ed7953"
             ],
             [
              0.7777777777777778,
              "#fb9f3a"
             ],
             [
              0.8888888888888888,
              "#fdca26"
             ],
             [
              1,
              "#f0f921"
             ]
            ],
            "type": "histogram2d"
           }
          ],
          "histogram2dcontour": [
           {
            "colorbar": {
             "outlinewidth": 0,
             "ticks": ""
            },
            "colorscale": [
             [
              0,
              "#0d0887"
             ],
             [
              0.1111111111111111,
              "#46039f"
             ],
             [
              0.2222222222222222,
              "#7201a8"
             ],
             [
              0.3333333333333333,
              "#9c179e"
             ],
             [
              0.4444444444444444,
              "#bd3786"
             ],
             [
              0.5555555555555556,
              "#d8576b"
             ],
             [
              0.6666666666666666,
              "#ed7953"
             ],
             [
              0.7777777777777778,
              "#fb9f3a"
             ],
             [
              0.8888888888888888,
              "#fdca26"
             ],
             [
              1,
              "#f0f921"
             ]
            ],
            "type": "histogram2dcontour"
           }
          ],
          "mesh3d": [
           {
            "colorbar": {
             "outlinewidth": 0,
             "ticks": ""
            },
            "type": "mesh3d"
           }
          ],
          "parcoords": [
           {
            "line": {
             "colorbar": {
              "outlinewidth": 0,
              "ticks": ""
             }
            },
            "type": "parcoords"
           }
          ],
          "scatter": [
           {
            "marker": {
             "colorbar": {
              "outlinewidth": 0,
              "ticks": ""
             }
            },
            "type": "scatter"
           }
          ],
          "scatter3d": [
           {
            "line": {
             "colorbar": {
              "outlinewidth": 0,
              "ticks": ""
             }
            },
            "marker": {
             "colorbar": {
              "outlinewidth": 0,
              "ticks": ""
             }
            },
            "type": "scatter3d"
           }
          ],
          "scattercarpet": [
           {
            "marker": {
             "colorbar": {
              "outlinewidth": 0,
              "ticks": ""
             }
            },
            "type": "scattercarpet"
           }
          ],
          "scattergeo": [
           {
            "marker": {
             "colorbar": {
              "outlinewidth": 0,
              "ticks": ""
             }
            },
            "type": "scattergeo"
           }
          ],
          "scattergl": [
           {
            "marker": {
             "colorbar": {
              "outlinewidth": 0,
              "ticks": ""
             }
            },
            "type": "scattergl"
           }
          ],
          "scattermapbox": [
           {
            "marker": {
             "colorbar": {
              "outlinewidth": 0,
              "ticks": ""
             }
            },
            "type": "scattermapbox"
           }
          ],
          "scatterpolar": [
           {
            "marker": {
             "colorbar": {
              "outlinewidth": 0,
              "ticks": ""
             }
            },
            "type": "scatterpolar"
           }
          ],
          "scatterpolargl": [
           {
            "marker": {
             "colorbar": {
              "outlinewidth": 0,
              "ticks": ""
             }
            },
            "type": "scatterpolargl"
           }
          ],
          "scatterternary": [
           {
            "marker": {
             "colorbar": {
              "outlinewidth": 0,
              "ticks": ""
             }
            },
            "type": "scatterternary"
           }
          ],
          "surface": [
           {
            "colorbar": {
             "outlinewidth": 0,
             "ticks": ""
            },
            "colorscale": [
             [
              0,
              "#0d0887"
             ],
             [
              0.1111111111111111,
              "#46039f"
             ],
             [
              0.2222222222222222,
              "#7201a8"
             ],
             [
              0.3333333333333333,
              "#9c179e"
             ],
             [
              0.4444444444444444,
              "#bd3786"
             ],
             [
              0.5555555555555556,
              "#d8576b"
             ],
             [
              0.6666666666666666,
              "#ed7953"
             ],
             [
              0.7777777777777778,
              "#fb9f3a"
             ],
             [
              0.8888888888888888,
              "#fdca26"
             ],
             [
              1,
              "#f0f921"
             ]
            ],
            "type": "surface"
           }
          ],
          "table": [
           {
            "cells": {
             "fill": {
              "color": "#EBF0F8"
             },
             "line": {
              "color": "white"
             }
            },
            "header": {
             "fill": {
              "color": "#C8D4E3"
             },
             "line": {
              "color": "white"
             }
            },
            "type": "table"
           }
          ]
         },
         "layout": {
          "annotationdefaults": {
           "arrowcolor": "#2a3f5f",
           "arrowhead": 0,
           "arrowwidth": 1
          },
          "colorscale": {
           "diverging": [
            [
             0,
             "#8e0152"
            ],
            [
             0.1,
             "#c51b7d"
            ],
            [
             0.2,
             "#de77ae"
            ],
            [
             0.3,
             "#f1b6da"
            ],
            [
             0.4,
             "#fde0ef"
            ],
            [
             0.5,
             "#f7f7f7"
            ],
            [
             0.6,
             "#e6f5d0"
            ],
            [
             0.7,
             "#b8e186"
            ],
            [
             0.8,
             "#7fbc41"
            ],
            [
             0.9,
             "#4d9221"
            ],
            [
             1,
             "#276419"
            ]
           ],
           "sequential": [
            [
             0,
             "#0d0887"
            ],
            [
             0.1111111111111111,
             "#46039f"
            ],
            [
             0.2222222222222222,
             "#7201a8"
            ],
            [
             0.3333333333333333,
             "#9c179e"
            ],
            [
             0.4444444444444444,
             "#bd3786"
            ],
            [
             0.5555555555555556,
             "#d8576b"
            ],
            [
             0.6666666666666666,
             "#ed7953"
            ],
            [
             0.7777777777777778,
             "#fb9f3a"
            ],
            [
             0.8888888888888888,
             "#fdca26"
            ],
            [
             1,
             "#f0f921"
            ]
           ],
           "sequentialminus": [
            [
             0,
             "#0d0887"
            ],
            [
             0.1111111111111111,
             "#46039f"
            ],
            [
             0.2222222222222222,
             "#7201a8"
            ],
            [
             0.3333333333333333,
             "#9c179e"
            ],
            [
             0.4444444444444444,
             "#bd3786"
            ],
            [
             0.5555555555555556,
             "#d8576b"
            ],
            [
             0.6666666666666666,
             "#ed7953"
            ],
            [
             0.7777777777777778,
             "#fb9f3a"
            ],
            [
             0.8888888888888888,
             "#fdca26"
            ],
            [
             1,
             "#f0f921"
            ]
           ]
          },
          "colorway": [
           "#636efa",
           "#EF553B",
           "#00cc96",
           "#ab63fa",
           "#FFA15A",
           "#19d3f3",
           "#FF6692",
           "#B6E880",
           "#FF97FF",
           "#FECB52"
          ],
          "font": {
           "color": "#2a3f5f"
          },
          "geo": {
           "bgcolor": "white",
           "lakecolor": "white",
           "landcolor": "#E5ECF6",
           "showlakes": true,
           "showland": true,
           "subunitcolor": "white"
          },
          "hoverlabel": {
           "align": "left"
          },
          "hovermode": "closest",
          "mapbox": {
           "style": "light"
          },
          "paper_bgcolor": "white",
          "plot_bgcolor": "#E5ECF6",
          "polar": {
           "angularaxis": {
            "gridcolor": "white",
            "linecolor": "white",
            "ticks": ""
           },
           "bgcolor": "#E5ECF6",
           "radialaxis": {
            "gridcolor": "white",
            "linecolor": "white",
            "ticks": ""
           }
          },
          "scene": {
           "xaxis": {
            "backgroundcolor": "#E5ECF6",
            "gridcolor": "white",
            "gridwidth": 2,
            "linecolor": "white",
            "showbackground": true,
            "ticks": "",
            "zerolinecolor": "white"
           },
           "yaxis": {
            "backgroundcolor": "#E5ECF6",
            "gridcolor": "white",
            "gridwidth": 2,
            "linecolor": "white",
            "showbackground": true,
            "ticks": "",
            "zerolinecolor": "white"
           },
           "zaxis": {
            "backgroundcolor": "#E5ECF6",
            "gridcolor": "white",
            "gridwidth": 2,
            "linecolor": "white",
            "showbackground": true,
            "ticks": "",
            "zerolinecolor": "white"
           }
          },
          "shapedefaults": {
           "line": {
            "color": "#2a3f5f"
           }
          },
          "ternary": {
           "aaxis": {
            "gridcolor": "white",
            "linecolor": "white",
            "ticks": ""
           },
           "baxis": {
            "gridcolor": "white",
            "linecolor": "white",
            "ticks": ""
           },
           "bgcolor": "#E5ECF6",
           "caxis": {
            "gridcolor": "white",
            "linecolor": "white",
            "ticks": ""
           }
          },
          "title": {
           "x": 0.05
          },
          "xaxis": {
           "automargin": true,
           "gridcolor": "white",
           "linecolor": "white",
           "ticks": "",
           "zerolinecolor": "white",
           "zerolinewidth": 2
          },
          "yaxis": {
           "automargin": true,
           "gridcolor": "white",
           "linecolor": "white",
           "ticks": "",
           "zerolinecolor": "white",
           "zerolinewidth": 2
          }
         }
        }
       }
      },
      "image/png": "[encoded data removed]",
      "text/html": [
       "<div>\n",
       "        \n",
       "        \n",
       "            <div id=\"62bdbe37-8866-49e4-90af-ed5b57468b2c\" class=\"plotly-graph-div\" style=\"height:600px; width:100%;\"></div>\n",
       "            <script type=\"text/javascript\">\n",
       "                require([\"plotly\"], function(Plotly) {\n",
       "                    window.PLOTLYENV=window.PLOTLYENV || {};\n",
       "                    \n",
       "                if (document.getElementById(\"62bdbe37-8866-49e4-90af-ed5b57468b2c\")) {\n",
       "                    Plotly.newPlot(\n",
       "                        '62bdbe37-8866-49e4-90af-ed5b57468b2c',\n",
       "                        [{\"dimensions\": [{\"label\": \"sale_price_sqr_foot\", \"values\": [366.02071153227644, 373.38219782647707, 204.58862288246596, 590.7928388746802, 576.7464881132382, 452.6805909308442, 394.4223987800589, 423.6879277015824, 487.2448860262575, 587.5390673661739, 665.964041578323, 303.00418440849427, 434.99173944522124, 391.43437776742576, 502.59915555623616, 642.2486706357391, 388.76592700230754, 391.36253308010487, 455.83621223779153, 321.84083657398736, 623.826177537435, 639.3935574881156, 449.5447622856192, 355.9328279480578, 170.62491987132685, 367.8951440852775, 384.7979281346048, 397.67371473613446, 519.3856038526768, 378.59431396136455, 413.66751546215943, 529.3841850673389, 409.95435219297514, 478.2285530213679, 539.2379688783261, 583.7492694814549, 788.8448175872469, 550.5103482917151, 779.810842264425, 566.1922135483312, 418.9156225067234, 523.4662013248023, 458.2040944846015, 542.4429128151736, 411.646875881678, 498.26975500787677, 330.0973846552545, 242.37095202049667, 485.0270126111035, 473.90077331796317, 394.21903228550775, 689.5558168113664, 373.732856371763, 336.172661037069, 632.740453508577, 327.11392534647274, 662.0136128276529, 675.3502120510033, 608.9832172374425, 170.2925485152069, 650.1244791945729, 570.2714266991686, 528.3183317138463, 676.5065775293257, 469.39862649935156, 903.9932576720645, 404.1501801622257, 301.46617997450267, 498.4884848295011, 307.56220097996066, 533.7039354359513, 687.0875745178323, 576.709848378276]}, {\"label\": \"housing_units\", \"values\": [378401.0, 379050.0, 376454.0, 382295.0, 379374.5, 378076.5, 378401.0, 378401.0, 376454.0, 377232.8, 378401.0, 378076.5, 375480.5, 378401.0, 378401.0, 378401.0, 379050.0, 378401.0, 377232.8, 374507.0, 378725.5, 377622.2, 378401.0, 378401.0, 377427.5, 377427.5, 379374.5, 378401.0, 379861.25, 378401.0, 378401.0, 378401.0, 377427.5, 377427.5, 378401.0, 378401.0, 380348.0, 377427.5, 375967.25, 377752.0, 377427.5, 379569.2, 378401.0, 378401.0, 379179.8, 378401.0, 377103.0, 379374.5, 378401.0, 378401.0, 378401.0, 378401.0, 378401.0, 377427.5, 378401.0, 376454.0, 378401.0, 378401.0, 378401.0, 380348.0, 375805.0, 378401.0, 378725.5, 378401.0, 378401.0, 377427.5, 378401.0, 381321.5, 376940.75, 377427.5, 376454.0, 382295.0, 377427.5]}, {\"label\": \"gross_rent\", \"values\": [2817.285714285714, 3031.8333333333335, 2318.4, 3739.0, 3080.3333333333335, 2698.8333333333335, 2817.285714285714, 2817.285714285714, 2250.5, 2472.0, 2817.285714285714, 2698.8333333333335, 2016.0, 2817.285714285714, 2780.25, 2817.285714285714, 3031.8333333333335, 2817.285714285714, 2472.0, 1781.5, 2899.5, 2601.4, 2817.285714285714, 2817.285714285714, 2489.0, 2509.0, 2960.0, 2817.285714285714, 3224.0, 2817.285714285714, 2817.285714285714, 2817.285714285714, 2555.1666666666665, 2555.1666666666665, 2817.285714285714, 2817.285714285714, 3414.0, 2647.5, 2155.25, 2663.6666666666665, 2555.1666666666665, 3173.4, 2817.285714285714, 2817.285714285714, 2990.8, 2818.4, 2434.0, 2995.75, 2817.285714285714, 2817.285714285714, 2817.285714285714, 2817.285714285714, 2817.285714285714, 2555.1666666666665, 2817.285714285714, 2318.4, 2817.285714285714, 2817.285714285714, 2817.285714285714, 3528.0, 2099.0, 2817.285714285714, 2899.5, 2817.285714285714, 2817.285714285714, 2555.1666666666665, 2817.285714285714, 3657.0, 2515.5, 2555.1666666666665, 2250.5, 3959.0, 2555.1666666666665]}], \"domain\": {\"x\": [0.0, 0.98], \"y\": [0.0, 1.0]}, \"line\": {\"color\": [2817.285714285714, 3031.8333333333335, 2318.4, 3739.0, 3080.3333333333335, 2698.8333333333335, 2817.285714285714, 2817.285714285714, 2250.5, 2472.0, 2817.285714285714, 2698.8333333333335, 2016.0, 2817.285714285714, 2780.25, 2817.285714285714, 3031.8333333333335, 2817.285714285714, 2472.0, 1781.5, 2899.5, 2601.4, 2817.285714285714, 2817.285714285714, 2489.0, 2509.0, 2960.0, 2817.285714285714, 3224.0, 2817.285714285714, 2817.285714285714, 2817.285714285714, 2555.1666666666665, 2555.1666666666665, 2817.285714285714, 2817.285714285714, 3414.0, 2647.5, 2155.25, 2663.6666666666665, 2555.1666666666665, 3173.4, 2817.285714285714, 2817.285714285714, 2990.8, 2818.4, 2434.0, 2995.75, 2817.285714285714, 2817.285714285714, 2817.285714285714, 2817.285714285714, 2817.285714285714, 2555.1666666666665, 2817.285714285714, 2318.4, 2817.285714285714, 2817.285714285714, 2817.285714285714, 3528.0, 2099.0, 2817.285714285714, 2899.5, 2817.285714285714, 2817.285714285714, 2555.1666666666665, 2817.285714285714, 3657.0, 2515.5, 2555.1666666666665, 2250.5, 3959.0, 2555.1666666666665], \"coloraxis\": \"coloraxis\"}, \"name\": \"\", \"type\": \"parcoords\"}],\n",
       "                        {\"coloraxis\": {\"colorbar\": {\"title\": {\"text\": \"gross_rent\"}}, \"colorscale\": [[0.0, \"#0d0887\"], [0.1111111111111111, \"#46039f\"], [0.2222222222222222, \"#7201a8\"], [0.3333333333333333, \"#9c179e\"], [0.4444444444444444, \"#bd3786\"], [0.5555555555555556, \"#d8576b\"], [0.6666666666666666, \"#ed7953\"], [0.7777777777777778, \"#fb9f3a\"], [0.8888888888888888, \"#fdca26\"], [1.0, \"#f0f921\"]]}, \"height\": 600, \"legend\": {\"tracegroupgap\": 0}, \"margin\": {\"t\": 60}, \"template\": {\"data\": {\"bar\": [{\"error_x\": {\"color\": \"#2a3f5f\"}, \"error_y\": {\"color\": \"#2a3f5f\"}, \"marker\": {\"line\": {\"color\": \"#E5ECF6\", \"width\": 0.5}}, \"type\": \"bar\"}], \"barpolar\": [{\"marker\": {\"line\": {\"color\": \"#E5ECF6\", \"width\": 0.5}}, \"type\": \"barpolar\"}], \"carpet\": [{\"aaxis\": {\"endlinecolor\": \"#2a3f5f\", \"gridcolor\": \"white\", \"linecolor\": \"white\", \"minorgridcolor\": \"white\", \"startlinecolor\": \"#2a3f5f\"}, \"baxis\": {\"endlinecolor\": \"#2a3f5f\", \"gridcolor\": \"white\", \"linecolor\": \"white\", \"minorgridcolor\": \"white\", \"startlinecolor\": \"#2a3f5f\"}, \"type\": \"carpet\"}], \"choropleth\": [{\"colorbar\": {\"outlinewidth\": 0, \"ticks\": \"\"}, \"type\": \"choropleth\"}], \"contour\": [{\"colorbar\": {\"outlinewidth\": 0, \"ticks\": \"\"}, \"colorscale\": [[0.0, \"#0d0887\"], [0.1111111111111111, \"#46039f\"], [0.2222222222222222, \"#7201a8\"], [0.3333333333333333, \"#9c179e\"], [0.4444444444444444, \"#bd3786\"], [0.5555555555555556, \"#d8576b\"], [0.6666666666666666, \"#ed7953\"], [0.7777777777777778, \"#fb9f3a\"], [0.8888888888888888, \"#fdca26\"], [1.0, \"#f0f921\"]], \"type\": \"contour\"}], \"contourcarpet\": [{\"colorbar\": {\"outlinewidth\": 0, \"ticks\": \"\"}, \"type\": \"contourcarpet\"}], \"heatmap\": [{\"colorbar\": {\"outlinewidth\": 0, \"ticks\": \"\"}, \"colorscale\": [[0.0, \"#0d0887\"], [0.1111111111111111, \"#46039f\"], [0.2222222222222222, \"#7201a8\"], [0.3333333333333333, \"#9c179e\"], [0.4444444444444444, \"#bd3786\"], [0.5555555555555556, \"#d8576b\"], [0.6666666666666666, \"#ed7953\"], [0.7777777777777778, \"#fb9f3a\"], [0.8888888888888888, \"#fdca26\"], [1.0, \"#f0f921\"]], \"type\": \"heatmap\"}], \"heatmapgl\": [{\"colorbar\": {\"outlinewidth\": 0, \"ticks\": \"\"}, \"colorscale\": [[0.0, \"#0d0887\"], [0.1111111111111111, \"#46039f\"], [0.2222222222222222, \"#7201a8\"], [0.3333333333333333, \"#9c179e\"], [0.4444444444444444, \"#bd3786\"], [0.5555555555555556, \"#d8576b\"], [0.6666666666666666, \"#ed7953\"], [0.7777777777777778, \"#fb9f3a\"], [0.8888888888888888, \"#fdca26\"], [1.0, \"#f0f921\"]], \"type\": \"heatmapgl\"}], \"histogram\": [{\"marker\": {\"colorbar\": {\"outlinewidth\": 0, \"ticks\": \"\"}}, \"type\": \"histogram\"}], \"histogram2d\": [{\"colorbar\": {\"outlinewidth\": 0, \"ticks\": \"\"}, \"colorscale\": [[0.0, \"#0d0887\"], [0.1111111111111111, \"#46039f\"], [0.2222222222222222, \"#7201a8\"], [0.3333333333333333, \"#9c179e\"], [0.4444444444444444, \"#bd3786\"], [0.5555555555555556, \"#d8576b\"], [0.6666666666666666, \"#ed7953\"], [0.7777777777777778, \"#fb9f3a\"], [0.8888888888888888, \"#fdca26\"], [1.0, \"#f0f921\"]], \"type\": \"histogram2d\"}], \"histogram2dcontour\": [{\"colorbar\": {\"outlinewidth\": 0, \"ticks\": \"\"}, \"colorscale\": [[0.0, \"#0d0887\"], [0.1111111111111111, \"#46039f\"], [0.2222222222222222, \"#7201a8\"], [0.3333333333333333, \"#9c179e\"], [0.4444444444444444, \"#bd3786\"], [0.5555555555555556, \"#d8576b\"], [0.6666666666666666, \"#ed7953\"], [0.7777777777777778, \"#fb9f3a\"], [0.8888888888888888, \"#fdca26\"], [1.0, \"#f0f921\"]], \"type\": \"histogram2dcontour\"}], \"mesh3d\": [{\"colorbar\": {\"outlinewidth\": 0, \"ticks\": \"\"}, \"type\": \"mesh3d\"}], \"parcoords\": [{\"line\": {\"colorbar\": {\"outlinewidth\": 0, \"ticks\": \"\"}}, \"type\": \"parcoords\"}], \"scatter\": [{\"marker\": {\"colorbar\": {\"outlinewidth\": 0, \"ticks\": \"\"}}, \"type\": \"scatter\"}], \"scatter3d\": [{\"line\": {\"colorbar\": {\"outlinewidth\": 0, \"ticks\": \"\"}}, \"marker\": {\"colorbar\": {\"outlinewidth\": 0, \"ticks\": \"\"}}, \"type\": \"scatter3d\"}], \"scattercarpet\": [{\"marker\": {\"colorbar\": {\"outlinewidth\": 0, \"ticks\": \"\"}}, \"type\": \"scattercarpet\"}], \"scattergeo\": [{\"marker\": {\"colorbar\": {\"outlinewidth\": 0, \"ticks\": \"\"}}, \"type\": \"scattergeo\"}], \"scattergl\": [{\"marker\": {\"colorbar\": {\"outlinewidth\": 0, \"ticks\": \"\"}}, \"type\": \"scattergl\"}], \"scattermapbox\": [{\"marker\": {\"colorbar\": {\"outlinewidth\": 0, \"ticks\": \"\"}}, \"type\": \"scattermapbox\"}], \"scatterpolar\": [{\"marker\": {\"colorbar\": {\"outlinewidth\": 0, \"ticks\": \"\"}}, \"type\": \"scatterpolar\"}], \"scatterpolargl\": [{\"marker\": {\"colorbar\": {\"outlinewidth\": 0, \"ticks\": \"\"}}, \"type\": \"scatterpolargl\"}], \"scatterternary\": [{\"marker\": {\"colorbar\": {\"outlinewidth\": 0, \"ticks\": \"\"}}, \"type\": \"scatterternary\"}], \"surface\": [{\"colorbar\": {\"outlinewidth\": 0, \"ticks\": \"\"}, \"colorscale\": [[0.0, \"#0d0887\"], [0.1111111111111111, \"#46039f\"], [0.2222222222222222, \"#7201a8\"], [0.3333333333333333, \"#9c179e\"], [0.4444444444444444, \"#bd3786\"], [0.5555555555555556, \"#d8576b\"], [0.6666666666666666, \"#ed7953\"], [0.7777777777777778, \"#fb9f3a\"], [0.8888888888888888, \"#fdca26\"], [1.0, \"#f0f921\"]], \"type\": \"surface\"}], \"table\": [{\"cells\": {\"fill\": {\"color\": \"#EBF0F8\"}, \"line\": {\"color\": \"white\"}}, \"header\": {\"fill\": {\"color\": \"#C8D4E3\"}, \"line\": {\"color\": \"white\"}}, \"type\": \"table\"}]}, \"layout\": {\"annotationdefaults\": {\"arrowcolor\": \"#2a3f5f\", \"arrowhead\": 0, \"arrowwidth\": 1}, \"colorscale\": {\"diverging\": [[0, \"#8e0152\"], [0.1, \"#c51b7d\"], [0.2, \"#de77ae\"], [0.3, \"#f1b6da\"], [0.4, \"#fde0ef\"], [0.5, \"#f7f7f7\"], [0.6, \"#e6f5d0\"], [0.7, \"#b8e186\"], [0.8, \"#7fbc41\"], [0.9, \"#4d9221\"], [1, \"#276419\"]], \"sequential\": [[0.0, \"#0d0887\"], [0.1111111111111111, \"#46039f\"], [0.2222222222222222, \"#7201a8\"], [0.3333333333333333, \"#9c179e\"], [0.4444444444444444, \"#bd3786\"], [0.5555555555555556, \"#d8576b\"], [0.6666666666666666, \"#ed7953\"], [0.7777777777777778, \"#fb9f3a\"], [0.8888888888888888, \"#fdca26\"], [1.0, \"#f0f921\"]], \"sequentialminus\": [[0.0, \"#0d0887\"], [0.1111111111111111, \"#46039f\"], [0.2222222222222222, \"#7201a8\"], [0.3333333333333333, \"#9c179e\"], [0.4444444444444444, \"#bd3786\"], [0.5555555555555556, \"#d8576b\"], [0.6666666666666666, \"#ed7953\"], [0.7777777777777778, \"#fb9f3a\"], [0.8888888888888888, \"#fdca26\"], [1.0, \"#f0f921\"]]}, \"colorway\": [\"#636efa\", \"#EF553B\", \"#00cc96\", \"#ab63fa\", \"#FFA15A\", \"#19d3f3\", \"#FF6692\", \"#B6E880\", \"#FF97FF\", \"#FECB52\"], \"font\": {\"color\": \"#2a3f5f\"}, \"geo\": {\"bgcolor\": \"white\", \"lakecolor\": \"white\", \"landcolor\": \"#E5ECF6\", \"showlakes\": true, \"showland\": true, \"subunitcolor\": \"white\"}, \"hoverlabel\": {\"align\": \"left\"}, \"hovermode\": \"closest\", \"mapbox\": {\"style\": \"light\"}, \"paper_bgcolor\": \"white\", \"plot_bgcolor\": \"#E5ECF6\", \"polar\": {\"angularaxis\": {\"gridcolor\": \"white\", \"linecolor\": \"white\", \"ticks\": \"\"}, \"bgcolor\": \"#E5ECF6\", \"radialaxis\": {\"gridcolor\": \"white\", \"linecolor\": \"white\", \"ticks\": \"\"}}, \"scene\": {\"xaxis\": {\"backgroundcolor\": \"#E5ECF6\", \"gridcolor\": \"white\", \"gridwidth\": 2, \"linecolor\": \"white\", \"showbackground\": true, \"ticks\": \"\", \"zerolinecolor\": \"white\"}, \"yaxis\": {\"backgroundcolor\": \"#E5ECF6\", \"gridcolor\": \"white\", \"gridwidth\": 2, \"linecolor\": \"white\", \"showbackground\": true, \"ticks\": \"\", \"zerolinecolor\": \"white\"}, \"zaxis\": {\"backgroundcolor\": \"#E5ECF6\", \"gridcolor\": \"white\", \"gridwidth\": 2, \"linecolor\": \"white\", \"showbackground\": true, \"ticks\": \"\", \"zerolinecolor\": \"white\"}}, \"shapedefaults\": {\"line\": {\"color\": \"#2a3f5f\"}}, \"ternary\": {\"aaxis\": {\"gridcolor\": \"white\", \"linecolor\": \"white\", \"ticks\": \"\"}, \"baxis\": {\"gridcolor\": \"white\", \"linecolor\": \"white\", \"ticks\": \"\"}, \"bgcolor\": \"#E5ECF6\", \"caxis\": {\"gridcolor\": \"white\", \"linecolor\": \"white\", \"ticks\": \"\"}}, \"title\": {\"x\": 0.05}, \"xaxis\": {\"automargin\": true, \"gridcolor\": \"white\", \"linecolor\": \"white\", \"ticks\": \"\", \"zerolinecolor\": \"white\", \"zerolinewidth\": 2}, \"yaxis\": {\"automargin\": true, \"gridcolor\": \"white\", \"linecolor\": \"white\", \"ticks\": \"\", \"zerolinecolor\": \"white\", \"zerolinewidth\": 2}}}},\n",
       "                        {\"responsive\": true}\n",
       "                    ).then(function(){\n",
       "                            \n",
       "var gd = document.getElementById('62bdbe37-8866-49e4-90af-ed5b57468b2c');\n",
       "var x = new MutationObserver(function (mutations, observer) {{\n",
       "        var display = window.getComputedStyle(gd).display;\n",
       "        if (!display || display === 'none') {{\n",
       "            console.log([gd, 'removed!']);\n",
       "            Plotly.purge(gd);\n",
       "            observer.disconnect();\n",
       "        }}\n",
       "}});\n",
       "\n",
       "// Listen for the removal of the full notebook cells\n",
       "var notebookContainer = gd.closest('#notebook-container');\n",
       "if (notebookContainer) {{\n",
       "    x.observe(notebookContainer, {childList: true});\n",
       "}}\n",
       "\n",
       "// Listen for the clearing of the current output cell\n",
       "var outputEl = gd.closest('.output');\n",
       "if (outputEl) {{\n",
       "    x.observe(outputEl, {childList: true});\n",
       "}}\n",
       "\n",
       "                        })\n",
       "                };\n",
       "                });\n",
       "            </script>\n",
       "        </div>"
      ]
     },
     "metadata": {},
     "output_type": "display_data"
    }
   ],
   "source": [
    "# Parallel Coordinates Plot\n",
    "px.parallel_coordinates(average_cost_by_neighborhood, color='gross_rent') "
   ]
  },
  {
   "cell_type": "code",
   "execution_count": 251,
   "metadata": {},
   "outputs": [
    {
     "data": {
      "application/vnd.plotly.v1+json": {
       "config": {
        "plotlyServerURL": "https://plot.ly"
       },
       "data": [
        {
         "domain": {
          "x": [
           0,
           0.98
          ],
          "y": [
           0,
           1
          ]
         },
         "line": {
          "color": [
           366.02071153227644,
           373.38219782647707,
           204.58862288246596,
           590.7928388746802,
           576.7464881132382,
           452.6805909308442,
           394.4223987800589,
           423.6879277015824,
           487.2448860262575,
           587.5390673661739,
           665.964041578323,
           303.00418440849427,
           434.99173944522124,
           391.43437776742576,
           502.59915555623616,
           642.2486706357391,
           388.76592700230754,
           391.36253308010487,
           455.83621223779153,
           321.84083657398736,
           623.826177537435,
           639.3935574881156,
           449.5447622856192,
           355.9328279480578,
           170.62491987132685,
           367.8951440852775,
           384.7979281346048,
           397.67371473613446,
           519.3856038526768,
           378.59431396136455,
           413.66751546215943,
           529.3841850673389,
           409.95435219297514,
           478.2285530213679,
           539.2379688783261,
           583.7492694814549,
           788.8448175872469,
           550.5103482917151,
           779.810842264425,
           566.1922135483312,
           418.9156225067234,
           523.4662013248023,
           458.2040944846015,
           542.4429128151736,
           411.646875881678,
           498.26975500787677,
           330.0973846552545,
           242.37095202049667,
           485.0270126111035,
           473.90077331796317,
           394.21903228550775,
           689.5558168113664,
           373.732856371763,
           336.172661037069,
           632.740453508577,
           327.11392534647274,
           662.0136128276529,
           675.3502120510033,
           608.9832172374425,
           170.2925485152069,
           650.1244791945729,
           570.2714266991686,
           528.3183317138463,
           676.5065775293257,
           469.39862649935156,
           903.9932576720645,
           404.1501801622257,
           301.46617997450267,
           498.4884848295011,
           307.56220097996066,
           533.7039354359513,
           687.0875745178323,
           576.709848378276
          ],
          "coloraxis": "coloraxis"
         },
         "name": "",
         "type": "parcats"
        }
       ],
       "layout": {
        "autosize": true,
        "coloraxis": {
         "colorbar": {
          "title": {
           "text": "Sale per Square Foot"
          }
         },
         "colorscale": [
          [
           0,
           "#000004"
          ],
          [
           0.1111111111111111,
           "#1b0c41"
          ],
          [
           0.2222222222222222,
           "#4a0c6b"
          ],
          [
           0.3333333333333333,
           "#781c6d"
          ],
          [
           0.4444444444444444,
           "#a52c60"
          ],
          [
           0.5555555555555556,
           "#cf4446"
          ],
          [
           0.6666666666666666,
           "#ed6925"
          ],
          [
           0.7777777777777778,
           "#fb9b06"
          ],
          [
           0.8888888888888888,
           "#f7d13d"
          ],
          [
           1,
           "#fcffa4"
          ]
         ]
        },
        "legend": {
         "tracegroupgap": 0
        },
        "margin": {
         "t": 60
        },
        "template": {
         "data": {
          "bar": [
           {
            "error_x": {
             "color": "#2a3f5f"
            },
            "error_y": {
             "color": "#2a3f5f"
            },
            "marker": {
             "line": {
              "color": "#E5ECF6",
              "width": 0.5
             }
            },
            "type": "bar"
           }
          ],
          "barpolar": [
           {
            "marker": {
             "line": {
              "color": "#E5ECF6",
              "width": 0.5
             }
            },
            "type": "barpolar"
           }
          ],
          "carpet": [
           {
            "aaxis": {
             "endlinecolor": "#2a3f5f",
             "gridcolor": "white",
             "linecolor": "white",
             "minorgridcolor": "white",
             "startlinecolor": "#2a3f5f"
            },
            "baxis": {
             "endlinecolor": "#2a3f5f",
             "gridcolor": "white",
             "linecolor": "white",
             "minorgridcolor": "white",
             "startlinecolor": "#2a3f5f"
            },
            "type": "carpet"
           }
          ],
          "choropleth": [
           {
            "colorbar": {
             "outlinewidth": 0,
             "ticks": ""
            },
            "type": "choropleth"
           }
          ],
          "contour": [
           {
            "colorbar": {
             "outlinewidth": 0,
             "ticks": ""
            },
            "colorscale": [
             [
              0,
              "#0d0887"
             ],
             [
              0.1111111111111111,
              "#46039f"
             ],
             [
              0.2222222222222222,
              "#7201a8"
             ],
             [
              0.3333333333333333,
              "#9c179e"
             ],
             [
              0.4444444444444444,
              "#bd3786"
             ],
             [
              0.5555555555555556,
              "#d8576b"
             ],
             [
              0.6666666666666666,
              "#ed7953"
             ],
             [
              0.7777777777777778,
              "#fb9f3a"
             ],
             [
              0.8888888888888888,
              "#fdca26"
             ],
             [
              1,
              "#f0f921"
             ]
            ],
            "type": "contour"
           }
          ],
          "contourcarpet": [
           {
            "colorbar": {
             "outlinewidth": 0,
             "ticks": ""
            },
            "type": "contourcarpet"
           }
          ],
          "heatmap": [
           {
            "colorbar": {
             "outlinewidth": 0,
             "ticks": ""
            },
            "colorscale": [
             [
              0,
              "#0d0887"
             ],
             [
              0.1111111111111111,
              "#46039f"
             ],
             [
              0.2222222222222222,
              "#7201a8"
             ],
             [
              0.3333333333333333,
              "#9c179e"
             ],
             [
              0.4444444444444444,
              "#bd3786"
             ],
             [
              0.5555555555555556,
              "#d8576b"
             ],
             [
              0.6666666666666666,
              "#ed7953"
             ],
             [
              0.7777777777777778,
              "#fb9f3a"
             ],
             [
              0.8888888888888888,
              "#fdca26"
             ],
             [
              1,
              "#f0f921"
             ]
            ],
            "type": "heatmap"
           }
          ],
          "heatmapgl": [
           {
            "colorbar": {
             "outlinewidth": 0,
             "ticks": ""
            },
            "colorscale": [
             [
              0,
              "#0d0887"
             ],
             [
              0.1111111111111111,
              "#46039f"
             ],
             [
              0.2222222222222222,
              "#7201a8"
             ],
             [
              0.3333333333333333,
              "#9c179e"
             ],
             [
              0.4444444444444444,
              "#bd3786"
             ],
             [
              0.5555555555555556,
              "#d8576b"
             ],
             [
              0.6666666666666666,
              "#ed7953"
             ],
             [
              0.7777777777777778,
              "#fb9f3a"
             ],
             [
              0.8888888888888888,
              "#fdca26"
             ],
             [
              1,
              "#f0f921"
             ]
            ],
            "type": "heatmapgl"
           }
          ],
          "histogram": [
           {
            "marker": {
             "colorbar": {
              "outlinewidth": 0,
              "ticks": ""
             }
            },
            "type": "histogram"
           }
          ],
          "histogram2d": [
           {
            "colorbar": {
             "outlinewidth": 0,
             "ticks": ""
            },
            "colorscale": [
             [
              0,
              "#0d0887"
             ],
             [
              0.1111111111111111,
              "#46039f"
             ],
             [
              0.2222222222222222,
              "#7201a8"
             ],
             [
              0.3333333333333333,
              "#9c179e"
             ],
             [
              0.4444444444444444,
              "#bd3786"
             ],
             [
              0.5555555555555556,
              "#d8576b"
             ],
             [
              0.6666666666666666,
              "#ed7953"
             ],
             [
              0.7777777777777778,
              "#fb9f3a"
             ],
             [
              0.8888888888888888,
              "#fdca26"
             ],
             [
              1,
              "#f0f921"
             ]
            ],
            "type": "histogram2d"
           }
          ],
          "histogram2dcontour": [
           {
            "colorbar": {
             "outlinewidth": 0,
             "ticks": ""
            },
            "colorscale": [
             [
              0,
              "#0d0887"
             ],
             [
              0.1111111111111111,
              "#46039f"
             ],
             [
              0.2222222222222222,
              "#7201a8"
             ],
             [
              0.3333333333333333,
              "#9c179e"
             ],
             [
              0.4444444444444444,
              "#bd3786"
             ],
             [
              0.5555555555555556,
              "#d8576b"
             ],
             [
              0.6666666666666666,
              "#ed7953"
             ],
             [
              0.7777777777777778,
              "#fb9f3a"
             ],
             [
              0.8888888888888888,
              "#fdca26"
             ],
             [
              1,
              "#f0f921"
             ]
            ],
            "type": "histogram2dcontour"
           }
          ],
          "mesh3d": [
           {
            "colorbar": {
             "outlinewidth": 0,
             "ticks": ""
            },
            "type": "mesh3d"
           }
          ],
          "parcoords": [
           {
            "line": {
             "colorbar": {
              "outlinewidth": 0,
              "ticks": ""
             }
            },
            "type": "parcoords"
           }
          ],
          "scatter": [
           {
            "marker": {
             "colorbar": {
              "outlinewidth": 0,
              "ticks": ""
             }
            },
            "type": "scatter"
           }
          ],
          "scatter3d": [
           {
            "line": {
             "colorbar": {
              "outlinewidth": 0,
              "ticks": ""
             }
            },
            "marker": {
             "colorbar": {
              "outlinewidth": 0,
              "ticks": ""
             }
            },
            "type": "scatter3d"
           }
          ],
          "scattercarpet": [
           {
            "marker": {
             "colorbar": {
              "outlinewidth": 0,
              "ticks": ""
             }
            },
            "type": "scattercarpet"
           }
          ],
          "scattergeo": [
           {
            "marker": {
             "colorbar": {
              "outlinewidth": 0,
              "ticks": ""
             }
            },
            "type": "scattergeo"
           }
          ],
          "scattergl": [
           {
            "marker": {
             "colorbar": {
              "outlinewidth": 0,
              "ticks": ""
             }
            },
            "type": "scattergl"
           }
          ],
          "scattermapbox": [
           {
            "marker": {
             "colorbar": {
              "outlinewidth": 0,
              "ticks": ""
             }
            },
            "type": "scattermapbox"
           }
          ],
          "scatterpolar": [
           {
            "marker": {
             "colorbar": {
              "outlinewidth": 0,
              "ticks": ""
             }
            },
            "type": "scatterpolar"
           }
          ],
          "scatterpolargl": [
           {
            "marker": {
             "colorbar": {
              "outlinewidth": 0,
              "ticks": ""
             }
            },
            "type": "scatterpolargl"
           }
          ],
          "scatterternary": [
           {
            "marker": {
             "colorbar": {
              "outlinewidth": 0,
              "ticks": ""
             }
            },
            "type": "scatterternary"
           }
          ],
          "surface": [
           {
            "colorbar": {
             "outlinewidth": 0,
             "ticks": ""
            },
            "colorscale": [
             [
              0,
              "#0d0887"
             ],
             [
              0.1111111111111111,
              "#46039f"
             ],
             [
              0.2222222222222222,
              "#7201a8"
             ],
             [
              0.3333333333333333,
              "#9c179e"
             ],
             [
              0.4444444444444444,
              "#bd3786"
             ],
             [
              0.5555555555555556,
              "#d8576b"
             ],
             [
              0.6666666666666666,
              "#ed7953"
             ],
             [
              0.7777777777777778,
              "#fb9f3a"
             ],
             [
              0.8888888888888888,
              "#fdca26"
             ],
             [
              1,
              "#f0f921"
             ]
            ],
            "type": "surface"
           }
          ],
          "table": [
           {
            "cells": {
             "fill": {
              "color": "#EBF0F8"
             },
             "line": {
              "color": "white"
             }
            },
            "header": {
             "fill": {
              "color": "#C8D4E3"
             },
             "line": {
              "color": "white"
             }
            },
            "type": "table"
           }
          ]
         },
         "layout": {
          "annotationdefaults": {
           "arrowcolor": "#2a3f5f",
           "arrowhead": 0,
           "arrowwidth": 1
          },
          "colorscale": {
           "diverging": [
            [
             0,
             "#8e0152"
            ],
            [
             0.1,
             "#c51b7d"
            ],
            [
             0.2,
             "#de77ae"
            ],
            [
             0.3,
             "#f1b6da"
            ],
            [
             0.4,
             "#fde0ef"
            ],
            [
             0.5,
             "#f7f7f7"
            ],
            [
             0.6,
             "#e6f5d0"
            ],
            [
             0.7,
             "#b8e186"
            ],
            [
             0.8,
             "#7fbc41"
            ],
            [
             0.9,
             "#4d9221"
            ],
            [
             1,
             "#276419"
            ]
           ],
           "sequential": [
            [
             0,
             "#0d0887"
            ],
            [
             0.1111111111111111,
             "#46039f"
            ],
            [
             0.2222222222222222,
             "#7201a8"
            ],
            [
             0.3333333333333333,
             "#9c179e"
            ],
            [
             0.4444444444444444,
             "#bd3786"
            ],
            [
             0.5555555555555556,
             "#d8576b"
            ],
            [
             0.6666666666666666,
             "#ed7953"
            ],
            [
             0.7777777777777778,
             "#fb9f3a"
            ],
            [
             0.8888888888888888,
             "#fdca26"
            ],
            [
             1,
             "#f0f921"
            ]
           ],
           "sequentialminus": [
            [
             0,
             "#0d0887"
            ],
            [
             0.1111111111111111,
             "#46039f"
            ],
            [
             0.2222222222222222,
             "#7201a8"
            ],
            [
             0.3333333333333333,
             "#9c179e"
            ],
            [
             0.4444444444444444,
             "#bd3786"
            ],
            [
             0.5555555555555556,
             "#d8576b"
            ],
            [
             0.6666666666666666,
             "#ed7953"
            ],
            [
             0.7777777777777778,
             "#fb9f3a"
            ],
            [
             0.8888888888888888,
             "#fdca26"
            ],
            [
             1,
             "#f0f921"
            ]
           ]
          },
          "colorway": [
           "#636efa",
           "#EF553B",
           "#00cc96",
           "#ab63fa",
           "#FFA15A",
           "#19d3f3",
           "#FF6692",
           "#B6E880",
           "#FF97FF",
           "#FECB52"
          ],
          "font": {
           "color": "#2a3f5f"
          },
          "geo": {
           "bgcolor": "white",
           "lakecolor": "white",
           "landcolor": "#E5ECF6",
           "showlakes": true,
           "showland": true,
           "subunitcolor": "white"
          },
          "hoverlabel": {
           "align": "left"
          },
          "hovermode": "closest",
          "mapbox": {
           "style": "light"
          },
          "paper_bgcolor": "white",
          "plot_bgcolor": "#E5ECF6",
          "polar": {
           "angularaxis": {
            "gridcolor": "white",
            "linecolor": "white",
            "ticks": ""
           },
           "bgcolor": "#E5ECF6",
           "radialaxis": {
            "gridcolor": "white",
            "linecolor": "white",
            "ticks": ""
           }
          },
          "scene": {
           "xaxis": {
            "backgroundcolor": "#E5ECF6",
            "gridcolor": "white",
            "gridwidth": 2,
            "linecolor": "white",
            "showbackground": true,
            "ticks": "",
            "zerolinecolor": "white"
           },
           "yaxis": {
            "backgroundcolor": "#E5ECF6",
            "gridcolor": "white",
            "gridwidth": 2,
            "linecolor": "white",
            "showbackground": true,
            "ticks": "",
            "zerolinecolor": "white"
           },
           "zaxis": {
            "backgroundcolor": "#E5ECF6",
            "gridcolor": "white",
            "gridwidth": 2,
            "linecolor": "white",
            "showbackground": true,
            "ticks": "",
            "zerolinecolor": "white"
           }
          },
          "shapedefaults": {
           "line": {
            "color": "#2a3f5f"
           }
          },
          "ternary": {
           "aaxis": {
            "gridcolor": "white",
            "linecolor": "white",
            "ticks": ""
           },
           "baxis": {
            "gridcolor": "white",
            "linecolor": "white",
            "ticks": ""
           },
           "bgcolor": "#E5ECF6",
           "caxis": {
            "gridcolor": "white",
            "linecolor": "white",
            "ticks": ""
           }
          },
          "title": {
           "x": 0.05
          },
          "xaxis": {
           "automargin": true,
           "gridcolor": "white",
           "linecolor": "white",
           "ticks": "",
           "zerolinecolor": "white",
           "zerolinewidth": 2
          },
          "yaxis": {
           "automargin": true,
           "gridcolor": "white",
           "linecolor": "white",
           "ticks": "",
           "zerolinecolor": "white",
           "zerolinewidth": 2
          }
         }
        }
       }
      },
      "image/png": "[encoded data removed]",
      "text/html": [
       "<div>\n",
       "        \n",
       "        \n",
       "            <div id=\"beb2bc2b-3e78-4da8-931f-e18e1783537f\" class=\"plotly-graph-div\" style=\"height:600px; width:100%;\"></div>\n",
       "            <script type=\"text/javascript\">\n",
       "                require([\"plotly\"], function(Plotly) {\n",
       "                    window.PLOTLYENV=window.PLOTLYENV || {};\n",
       "                    \n",
       "                if (document.getElementById(\"beb2bc2b-3e78-4da8-931f-e18e1783537f\")) {\n",
       "                    Plotly.newPlot(\n",
       "                        'beb2bc2b-3e78-4da8-931f-e18e1783537f',\n",
       "                        [{\"domain\": {\"x\": [0.0, 0.98], \"y\": [0.0, 1.0]}, \"line\": {\"color\": [366.02071153227644, 373.38219782647707, 204.58862288246596, 590.7928388746802, 576.7464881132382, 452.6805909308442, 394.4223987800589, 423.6879277015824, 487.2448860262575, 587.5390673661739, 665.964041578323, 303.00418440849427, 434.99173944522124, 391.43437776742576, 502.59915555623616, 642.2486706357391, 388.76592700230754, 391.36253308010487, 455.83621223779153, 321.84083657398736, 623.826177537435, 639.3935574881156, 449.5447622856192, 355.9328279480578, 170.62491987132685, 367.8951440852775, 384.7979281346048, 397.67371473613446, 519.3856038526768, 378.59431396136455, 413.66751546215943, 529.3841850673389, 409.95435219297514, 478.2285530213679, 539.2379688783261, 583.7492694814549, 788.8448175872469, 550.5103482917151, 779.810842264425, 566.1922135483312, 418.9156225067234, 523.4662013248023, 458.2040944846015, 542.4429128151736, 411.646875881678, 498.26975500787677, 330.0973846552545, 242.37095202049667, 485.0270126111035, 473.90077331796317, 394.21903228550775, 689.5558168113664, 373.732856371763, 336.172661037069, 632.740453508577, 327.11392534647274, 662.0136128276529, 675.3502120510033, 608.9832172374425, 170.2925485152069, 650.1244791945729, 570.2714266991686, 528.3183317138463, 676.5065775293257, 469.39862649935156, 903.9932576720645, 404.1501801622257, 301.46617997450267, 498.4884848295011, 307.56220097996066, 533.7039354359513, 687.0875745178323, 576.709848378276], \"coloraxis\": \"coloraxis\"}, \"name\": \"\", \"type\": \"parcats\"}],\n",
       "                        {\"coloraxis\": {\"colorbar\": {\"title\": {\"text\": \"Sale per Square Foot\"}}, \"colorscale\": [[0.0, \"#000004\"], [0.1111111111111111, \"#1b0c41\"], [0.2222222222222222, \"#4a0c6b\"], [0.3333333333333333, \"#781c6d\"], [0.4444444444444444, \"#a52c60\"], [0.5555555555555556, \"#cf4446\"], [0.6666666666666666, \"#ed6925\"], [0.7777777777777778, \"#fb9b06\"], [0.8888888888888888, \"#f7d13d\"], [1.0, \"#fcffa4\"]]}, \"height\": 600, \"legend\": {\"tracegroupgap\": 0}, \"margin\": {\"t\": 60}, \"template\": {\"data\": {\"bar\": [{\"error_x\": {\"color\": \"#2a3f5f\"}, \"error_y\": {\"color\": \"#2a3f5f\"}, \"marker\": {\"line\": {\"color\": \"#E5ECF6\", \"width\": 0.5}}, \"type\": \"bar\"}], \"barpolar\": [{\"marker\": {\"line\": {\"color\": \"#E5ECF6\", \"width\": 0.5}}, \"type\": \"barpolar\"}], \"carpet\": [{\"aaxis\": {\"endlinecolor\": \"#2a3f5f\", \"gridcolor\": \"white\", \"linecolor\": \"white\", \"minorgridcolor\": \"white\", \"startlinecolor\": \"#2a3f5f\"}, \"baxis\": {\"endlinecolor\": \"#2a3f5f\", \"gridcolor\": \"white\", \"linecolor\": \"white\", \"minorgridcolor\": \"white\", \"startlinecolor\": \"#2a3f5f\"}, \"type\": \"carpet\"}], \"choropleth\": [{\"colorbar\": {\"outlinewidth\": 0, \"ticks\": \"\"}, \"type\": \"choropleth\"}], \"contour\": [{\"colorbar\": {\"outlinewidth\": 0, \"ticks\": \"\"}, \"colorscale\": [[0.0, \"#0d0887\"], [0.1111111111111111, \"#46039f\"], [0.2222222222222222, \"#7201a8\"], [0.3333333333333333, \"#9c179e\"], [0.4444444444444444, \"#bd3786\"], [0.5555555555555556, \"#d8576b\"], [0.6666666666666666, \"#ed7953\"], [0.7777777777777778, \"#fb9f3a\"], [0.8888888888888888, \"#fdca26\"], [1.0, \"#f0f921\"]], \"type\": \"contour\"}], \"contourcarpet\": [{\"colorbar\": {\"outlinewidth\": 0, \"ticks\": \"\"}, \"type\": \"contourcarpet\"}], \"heatmap\": [{\"colorbar\": {\"outlinewidth\": 0, \"ticks\": \"\"}, \"colorscale\": [[0.0, \"#0d0887\"], [0.1111111111111111, \"#46039f\"], [0.2222222222222222, \"#7201a8\"], [0.3333333333333333, \"#9c179e\"], [0.4444444444444444, \"#bd3786\"], [0.5555555555555556, \"#d8576b\"], [0.6666666666666666, \"#ed7953\"], [0.7777777777777778, \"#fb9f3a\"], [0.8888888888888888, \"#fdca26\"], [1.0, \"#f0f921\"]], \"type\": \"heatmap\"}], \"heatmapgl\": [{\"colorbar\": {\"outlinewidth\": 0, \"ticks\": \"\"}, \"colorscale\": [[0.0, \"#0d0887\"], [0.1111111111111111, \"#46039f\"], [0.2222222222222222, \"#7201a8\"], [0.3333333333333333, \"#9c179e\"], [0.4444444444444444, \"#bd3786\"], [0.5555555555555556, \"#d8576b\"], [0.6666666666666666, \"#ed7953\"], [0.7777777777777778, \"#fb9f3a\"], [0.8888888888888888, \"#fdca26\"], [1.0, \"#f0f921\"]], \"type\": \"heatmapgl\"}], \"histogram\": [{\"marker\": {\"colorbar\": {\"outlinewidth\": 0, \"ticks\": \"\"}}, \"type\": \"histogram\"}], \"histogram2d\": [{\"colorbar\": {\"outlinewidth\": 0, \"ticks\": \"\"}, \"colorscale\": [[0.0, \"#0d0887\"], [0.1111111111111111, \"#46039f\"], [0.2222222222222222, \"#7201a8\"], [0.3333333333333333, \"#9c179e\"], [0.4444444444444444, \"#bd3786\"], [0.5555555555555556, \"#d8576b\"], [0.6666666666666666, \"#ed7953\"], [0.7777777777777778, \"#fb9f3a\"], [0.8888888888888888, \"#fdca26\"], [1.0, \"#f0f921\"]], \"type\": \"histogram2d\"}], \"histogram2dcontour\": [{\"colorbar\": {\"outlinewidth\": 0, \"ticks\": \"\"}, \"colorscale\": [[0.0, \"#0d0887\"], [0.1111111111111111, \"#46039f\"], [0.2222222222222222, \"#7201a8\"], [0.3333333333333333, \"#9c179e\"], [0.4444444444444444, \"#bd3786\"], [0.5555555555555556, \"#d8576b\"], [0.6666666666666666, \"#ed7953\"], [0.7777777777777778, \"#fb9f3a\"], [0.8888888888888888, \"#fdca26\"], [1.0, \"#f0f921\"]], \"type\": \"histogram2dcontour\"}], \"mesh3d\": [{\"colorbar\": {\"outlinewidth\": 0, \"ticks\": \"\"}, \"type\": \"mesh3d\"}], \"parcoords\": [{\"line\": {\"colorbar\": {\"outlinewidth\": 0, \"ticks\": \"\"}}, \"type\": \"parcoords\"}], \"scatter\": [{\"marker\": {\"colorbar\": {\"outlinewidth\": 0, \"ticks\": \"\"}}, \"type\": \"scatter\"}], \"scatter3d\": [{\"line\": {\"colorbar\": {\"outlinewidth\": 0, \"ticks\": \"\"}}, \"marker\": {\"colorbar\": {\"outlinewidth\": 0, \"ticks\": \"\"}}, \"type\": \"scatter3d\"}], \"scattercarpet\": [{\"marker\": {\"colorbar\": {\"outlinewidth\": 0, \"ticks\": \"\"}}, \"type\": \"scattercarpet\"}], \"scattergeo\": [{\"marker\": {\"colorbar\": {\"outlinewidth\": 0, \"ticks\": \"\"}}, \"type\": \"scattergeo\"}], \"scattergl\": [{\"marker\": {\"colorbar\": {\"outlinewidth\": 0, \"ticks\": \"\"}}, \"type\": \"scattergl\"}], \"scattermapbox\": [{\"marker\": {\"colorbar\": {\"outlinewidth\": 0, \"ticks\": \"\"}}, \"type\": \"scattermapbox\"}], \"scatterpolar\": [{\"marker\": {\"colorbar\": {\"outlinewidth\": 0, \"ticks\": \"\"}}, \"type\": \"scatterpolar\"}], \"scatterpolargl\": [{\"marker\": {\"colorbar\": {\"outlinewidth\": 0, \"ticks\": \"\"}}, \"type\": \"scatterpolargl\"}], \"scatterternary\": [{\"marker\": {\"colorbar\": {\"outlinewidth\": 0, \"ticks\": \"\"}}, \"type\": \"scatterternary\"}], \"surface\": [{\"colorbar\": {\"outlinewidth\": 0, \"ticks\": \"\"}, \"colorscale\": [[0.0, \"#0d0887\"], [0.1111111111111111, \"#46039f\"], [0.2222222222222222, \"#7201a8\"], [0.3333333333333333, \"#9c179e\"], [0.4444444444444444, \"#bd3786\"], [0.5555555555555556, \"#d8576b\"], [0.6666666666666666, \"#ed7953\"], [0.7777777777777778, \"#fb9f3a\"], [0.8888888888888888, \"#fdca26\"], [1.0, \"#f0f921\"]], \"type\": \"surface\"}], \"table\": [{\"cells\": {\"fill\": {\"color\": \"#EBF0F8\"}, \"line\": {\"color\": \"white\"}}, \"header\": {\"fill\": {\"color\": \"#C8D4E3\"}, \"line\": {\"color\": \"white\"}}, \"type\": \"table\"}]}, \"layout\": {\"annotationdefaults\": {\"arrowcolor\": \"#2a3f5f\", \"arrowhead\": 0, \"arrowwidth\": 1}, \"colorscale\": {\"diverging\": [[0, \"#8e0152\"], [0.1, \"#c51b7d\"], [0.2, \"#de77ae\"], [0.3, \"#f1b6da\"], [0.4, \"#fde0ef\"], [0.5, \"#f7f7f7\"], [0.6, \"#e6f5d0\"], [0.7, \"#b8e186\"], [0.8, \"#7fbc41\"], [0.9, \"#4d9221\"], [1, \"#276419\"]], \"sequential\": [[0.0, \"#0d0887\"], [0.1111111111111111, \"#46039f\"], [0.2222222222222222, \"#7201a8\"], [0.3333333333333333, \"#9c179e\"], [0.4444444444444444, \"#bd3786\"], [0.5555555555555556, \"#d8576b\"], [0.6666666666666666, \"#ed7953\"], [0.7777777777777778, \"#fb9f3a\"], [0.8888888888888888, \"#fdca26\"], [1.0, \"#f0f921\"]], \"sequentialminus\": [[0.0, \"#0d0887\"], [0.1111111111111111, \"#46039f\"], [0.2222222222222222, \"#7201a8\"], [0.3333333333333333, \"#9c179e\"], [0.4444444444444444, \"#bd3786\"], [0.5555555555555556, \"#d8576b\"], [0.6666666666666666, \"#ed7953\"], [0.7777777777777778, \"#fb9f3a\"], [0.8888888888888888, \"#fdca26\"], [1.0, \"#f0f921\"]]}, \"colorway\": [\"#636efa\", \"#EF553B\", \"#00cc96\", \"#ab63fa\", \"#FFA15A\", \"#19d3f3\", \"#FF6692\", \"#B6E880\", \"#FF97FF\", \"#FECB52\"], \"font\": {\"color\": \"#2a3f5f\"}, \"geo\": {\"bgcolor\": \"white\", \"lakecolor\": \"white\", \"landcolor\": \"#E5ECF6\", \"showlakes\": true, \"showland\": true, \"subunitcolor\": \"white\"}, \"hoverlabel\": {\"align\": \"left\"}, \"hovermode\": \"closest\", \"mapbox\": {\"style\": \"light\"}, \"paper_bgcolor\": \"white\", \"plot_bgcolor\": \"#E5ECF6\", \"polar\": {\"angularaxis\": {\"gridcolor\": \"white\", \"linecolor\": \"white\", \"ticks\": \"\"}, \"bgcolor\": \"#E5ECF6\", \"radialaxis\": {\"gridcolor\": \"white\", \"linecolor\": \"white\", \"ticks\": \"\"}}, \"scene\": {\"xaxis\": {\"backgroundcolor\": \"#E5ECF6\", \"gridcolor\": \"white\", \"gridwidth\": 2, \"linecolor\": \"white\", \"showbackground\": true, \"ticks\": \"\", \"zerolinecolor\": \"white\"}, \"yaxis\": {\"backgroundcolor\": \"#E5ECF6\", \"gridcolor\": \"white\", \"gridwidth\": 2, \"linecolor\": \"white\", \"showbackground\": true, \"ticks\": \"\", \"zerolinecolor\": \"white\"}, \"zaxis\": {\"backgroundcolor\": \"#E5ECF6\", \"gridcolor\": \"white\", \"gridwidth\": 2, \"linecolor\": \"white\", \"showbackground\": true, \"ticks\": \"\", \"zerolinecolor\": \"white\"}}, \"shapedefaults\": {\"line\": {\"color\": \"#2a3f5f\"}}, \"ternary\": {\"aaxis\": {\"gridcolor\": \"white\", \"linecolor\": \"white\", \"ticks\": \"\"}, \"baxis\": {\"gridcolor\": \"white\", \"linecolor\": \"white\", \"ticks\": \"\"}, \"bgcolor\": \"#E5ECF6\", \"caxis\": {\"gridcolor\": \"white\", \"linecolor\": \"white\", \"ticks\": \"\"}}, \"title\": {\"x\": 0.05}, \"xaxis\": {\"automargin\": true, \"gridcolor\": \"white\", \"linecolor\": \"white\", \"ticks\": \"\", \"zerolinecolor\": \"white\", \"zerolinewidth\": 2}, \"yaxis\": {\"automargin\": true, \"gridcolor\": \"white\", \"linecolor\": \"white\", \"ticks\": \"\", \"zerolinecolor\": \"white\", \"zerolinewidth\": 2}}}},\n",
       "                        {\"responsive\": true}\n",
       "                    ).then(function(){\n",
       "                            \n",
       "var gd = document.getElementById('beb2bc2b-3e78-4da8-931f-e18e1783537f');\n",
       "var x = new MutationObserver(function (mutations, observer) {{\n",
       "        var display = window.getComputedStyle(gd).display;\n",
       "        if (!display || display === 'none') {{\n",
       "            console.log([gd, 'removed!']);\n",
       "            Plotly.purge(gd);\n",
       "            observer.disconnect();\n",
       "        }}\n",
       "}});\n",
       "\n",
       "// Listen for the removal of the full notebook cells\n",
       "var notebookContainer = gd.closest('#notebook-container');\n",
       "if (notebookContainer) {{\n",
       "    x.observe(notebookContainer, {childList: true});\n",
       "}}\n",
       "\n",
       "// Listen for the clearing of the current output cell\n",
       "var outputEl = gd.closest('.output');\n",
       "if (outputEl) {{\n",
       "    x.observe(outputEl, {childList: true});\n",
       "}}\n",
       "\n",
       "                        })\n",
       "                };\n",
       "                });\n",
       "            </script>\n",
       "        </div>"
      ]
     },
     "metadata": {},
     "output_type": "display_data"
    }
   ],
   "source": [
    "# Parallel Categories Plot\n",
    "px.parallel_categories(\n",
    "    average_cost_by_neighborhood,\n",
    "    dimensions=[\"sale_price_sqr_foot\", \"housing_units\", \"gross_rent\"],\n",
    "    color=\"sale_price_sqr_foot\",\n",
    "    color_continuous_scale=px.colors.sequential.Inferno,\n",
    "    labels={\n",
    "        \"sale_price_sqr_foot\": \"Sale per Square Foot\",\n",
    "        \"housing_units\": \"Number of Houses\",\n",
    "        \"gross_rent\": \"Rent\",\n",
    "    },\n",
    ")"
   ]
  },
  {
   "cell_type": "markdown",
   "metadata": {},
   "source": []
  },
  {
   "cell_type": "markdown",
   "metadata": {},
   "source": [
    "## Neighborhood Map\n",
    "\n",
    "In this section, you will read in neighboor location data and build an interactive map with the average prices per neighborhood. Use a scatter_mapbox from plotly express to create the visualization. Remember, you will need your mapbox api key for this."
   ]
  },
  {
   "cell_type": "markdown",
   "metadata": {},
   "source": [
    "### Load Location Data"
   ]
  },
  {
   "cell_type": "code",
   "execution_count": 252,
   "metadata": {},
   "outputs": [
    {
     "data": {
      "text/html": [
       "<div>\n",
       "<style scoped>\n",
       "    .dataframe tbody tr th:only-of-type {\n",
       "        vertical-align: middle;\n",
       "    }\n",
       "\n",
       "    .dataframe tbody tr th {\n",
       "        vertical-align: top;\n",
       "    }\n",
       "\n",
       "    .dataframe thead th {\n",
       "        text-align: right;\n",
       "    }\n",
       "</style>\n",
       "<table border=\"1\" class=\"dataframe\">\n",
       "  <thead>\n",
       "    <tr style=\"text-align: right;\">\n",
       "      <th></th>\n",
       "      <th>Neighborhood</th>\n",
       "      <th>Lat</th>\n",
       "      <th>Lon</th>\n",
       "    </tr>\n",
       "  </thead>\n",
       "  <tbody>\n",
       "    <tr>\n",
       "      <th>0</th>\n",
       "      <td>Alamo Square</td>\n",
       "      <td>37.791012</td>\n",
       "      <td>-122.402100</td>\n",
       "    </tr>\n",
       "    <tr>\n",
       "      <th>1</th>\n",
       "      <td>Anza Vista</td>\n",
       "      <td>37.779598</td>\n",
       "      <td>-122.443451</td>\n",
       "    </tr>\n",
       "    <tr>\n",
       "      <th>2</th>\n",
       "      <td>Bayview</td>\n",
       "      <td>37.734670</td>\n",
       "      <td>-122.401060</td>\n",
       "    </tr>\n",
       "    <tr>\n",
       "      <th>3</th>\n",
       "      <td>Bayview Heights</td>\n",
       "      <td>37.728740</td>\n",
       "      <td>-122.410980</td>\n",
       "    </tr>\n",
       "    <tr>\n",
       "      <th>4</th>\n",
       "      <td>Bernal Heights</td>\n",
       "      <td>37.728630</td>\n",
       "      <td>-122.443050</td>\n",
       "    </tr>\n",
       "  </tbody>\n",
       "</table>\n",
       "</div>"
      ],
      "text/plain": [
       "      Neighborhood        Lat         Lon\n",
       "0     Alamo Square  37.791012 -122.402100\n",
       "1       Anza Vista  37.779598 -122.443451\n",
       "2          Bayview  37.734670 -122.401060\n",
       "3  Bayview Heights  37.728740 -122.410980\n",
       "4   Bernal Heights  37.728630 -122.443050"
      ]
     },
     "execution_count": 252,
     "metadata": {},
     "output_type": "execute_result"
    }
   ],
   "source": [
    "# Load neighborhoods coordinates data\n",
    "file_path = Path(\"Data/neighborhoods_coordinates.csv\")\n",
    "df_neighborhood_locations = pd.read_csv(file_path)\n",
    "df_neighborhood_locations.head()"
   ]
  },
  {
   "cell_type": "markdown",
   "metadata": {},
   "source": [
    "### Data Preparation\n",
    "\n",
    "You will need to join the location data with the mean prices per neighborhood\n",
    "\n",
    "1. Calculate the mean values for each neighborhood\n",
    "2. Join the average values with the neighborhood locations"
   ]
  },
  {
   "cell_type": "code",
   "execution_count": 253,
   "metadata": {},
   "outputs": [
    {
     "data": {
      "text/html": [
       "<div>\n",
       "<style scoped>\n",
       "    .dataframe tbody tr th:only-of-type {\n",
       "        vertical-align: middle;\n",
       "    }\n",
       "\n",
       "    .dataframe tbody tr th {\n",
       "        vertical-align: top;\n",
       "    }\n",
       "\n",
       "    .dataframe thead th {\n",
       "        text-align: right;\n",
       "    }\n",
       "</style>\n",
       "<table border=\"1\" class=\"dataframe\">\n",
       "  <thead>\n",
       "    <tr style=\"text-align: right;\">\n",
       "      <th></th>\n",
       "      <th>sale_price_sqr_foot</th>\n",
       "      <th>housing_units</th>\n",
       "      <th>gross_rent</th>\n",
       "    </tr>\n",
       "    <tr>\n",
       "      <th>neighborhood</th>\n",
       "      <th></th>\n",
       "      <th></th>\n",
       "      <th></th>\n",
       "    </tr>\n",
       "  </thead>\n",
       "  <tbody>\n",
       "    <tr>\n",
       "      <th>Alamo Square</th>\n",
       "      <td>366.020712</td>\n",
       "      <td>378401.0</td>\n",
       "      <td>2817.285714</td>\n",
       "    </tr>\n",
       "    <tr>\n",
       "      <th>Anza Vista</th>\n",
       "      <td>373.382198</td>\n",
       "      <td>379050.0</td>\n",
       "      <td>3031.833333</td>\n",
       "    </tr>\n",
       "    <tr>\n",
       "      <th>Bayview</th>\n",
       "      <td>204.588623</td>\n",
       "      <td>376454.0</td>\n",
       "      <td>2318.400000</td>\n",
       "    </tr>\n",
       "    <tr>\n",
       "      <th>Bayview Heights</th>\n",
       "      <td>590.792839</td>\n",
       "      <td>382295.0</td>\n",
       "      <td>3739.000000</td>\n",
       "    </tr>\n",
       "    <tr>\n",
       "      <th>Bernal Heights</th>\n",
       "      <td>576.746488</td>\n",
       "      <td>379374.5</td>\n",
       "      <td>3080.333333</td>\n",
       "    </tr>\n",
       "  </tbody>\n",
       "</table>\n",
       "</div>"
      ],
      "text/plain": [
       "                 sale_price_sqr_foot  housing_units   gross_rent\n",
       "neighborhood                                                    \n",
       "Alamo Square              366.020712       378401.0  2817.285714\n",
       "Anza Vista                373.382198       379050.0  3031.833333\n",
       "Bayview                   204.588623       376454.0  2318.400000\n",
       "Bayview Heights           590.792839       382295.0  3739.000000\n",
       "Bernal Heights            576.746488       379374.5  3080.333333"
      ]
     },
     "execution_count": 253,
     "metadata": {},
     "output_type": "execute_result"
    }
   ],
   "source": [
    "# Calculate the mean values for each neighborhood\n",
    "average_cost_by_neighborhood.head()"
   ]
  },
  {
   "cell_type": "code",
   "execution_count": 254,
   "metadata": {},
   "outputs": [
    {
     "data": {
      "text/html": [
       "<div>\n",
       "<style scoped>\n",
       "    .dataframe tbody tr th:only-of-type {\n",
       "        vertical-align: middle;\n",
       "    }\n",
       "\n",
       "    .dataframe tbody tr th {\n",
       "        vertical-align: top;\n",
       "    }\n",
       "\n",
       "    .dataframe thead th {\n",
       "        text-align: right;\n",
       "    }\n",
       "</style>\n",
       "<table border=\"1\" class=\"dataframe\">\n",
       "  <thead>\n",
       "    <tr style=\"text-align: right;\">\n",
       "      <th></th>\n",
       "      <th>Neighborhood</th>\n",
       "      <th>Lat</th>\n",
       "      <th>Lon</th>\n",
       "      <th>sale_price_sqr_foot</th>\n",
       "      <th>housing_units</th>\n",
       "      <th>gross_rent</th>\n",
       "    </tr>\n",
       "  </thead>\n",
       "  <tbody>\n",
       "    <tr>\n",
       "      <th>0</th>\n",
       "      <td>Alamo Square</td>\n",
       "      <td>37.791012</td>\n",
       "      <td>-122.402100</td>\n",
       "      <td>366.020712</td>\n",
       "      <td>378401.0</td>\n",
       "      <td>2817.285714</td>\n",
       "    </tr>\n",
       "    <tr>\n",
       "      <th>1</th>\n",
       "      <td>Anza Vista</td>\n",
       "      <td>37.779598</td>\n",
       "      <td>-122.443451</td>\n",
       "      <td>373.382198</td>\n",
       "      <td>379050.0</td>\n",
       "      <td>3031.833333</td>\n",
       "    </tr>\n",
       "    <tr>\n",
       "      <th>2</th>\n",
       "      <td>Bayview</td>\n",
       "      <td>37.734670</td>\n",
       "      <td>-122.401060</td>\n",
       "      <td>204.588623</td>\n",
       "      <td>376454.0</td>\n",
       "      <td>2318.400000</td>\n",
       "    </tr>\n",
       "    <tr>\n",
       "      <th>3</th>\n",
       "      <td>Bayview Heights</td>\n",
       "      <td>37.728740</td>\n",
       "      <td>-122.410980</td>\n",
       "      <td>590.792839</td>\n",
       "      <td>382295.0</td>\n",
       "      <td>3739.000000</td>\n",
       "    </tr>\n",
       "    <tr>\n",
       "      <th>4</th>\n",
       "      <td>Buena Vista Park</td>\n",
       "      <td>37.768160</td>\n",
       "      <td>-122.439330</td>\n",
       "      <td>452.680591</td>\n",
       "      <td>378076.5</td>\n",
       "      <td>2698.833333</td>\n",
       "    </tr>\n",
       "  </tbody>\n",
       "</table>\n",
       "</div>"
      ],
      "text/plain": [
       "       Neighborhood        Lat         Lon  sale_price_sqr_foot  \\\n",
       "0      Alamo Square  37.791012 -122.402100           366.020712   \n",
       "1        Anza Vista  37.779598 -122.443451           373.382198   \n",
       "2           Bayview  37.734670 -122.401060           204.588623   \n",
       "3   Bayview Heights  37.728740 -122.410980           590.792839   \n",
       "4  Buena Vista Park  37.768160 -122.439330           452.680591   \n",
       "\n",
       "   housing_units   gross_rent  \n",
       "0       378401.0  2817.285714  \n",
       "1       379050.0  3031.833333  \n",
       "2       376454.0  2318.400000  \n",
       "3       382295.0  3739.000000  \n",
       "4       378076.5  2698.833333  "
      ]
     },
     "execution_count": 254,
     "metadata": {},
     "output_type": "execute_result"
    }
   ],
   "source": [
    "# Join the average values with the neighborhood locations\n",
    "merged_sfo_data = pd.merge(df_neighborhood_locations, average_cost_by_neighborhood, left_on='Neighborhood', right_on='neighborhood')\n",
    "merged_sfo_data.head()"
   ]
  },
  {
   "cell_type": "markdown",
   "metadata": {},
   "source": [
    "### Mapbox Visualization\n",
    "\n",
    "Plot the aveage values per neighborhood with a plotly express scatter_mapbox visualization."
   ]
  },
  {
   "cell_type": "code",
   "execution_count": 255,
   "metadata": {},
   "outputs": [],
   "source": [
    "# Create a scatter mapbox to analyze neighborhood info\n",
    "px.set_mapbox_access_token(mapbox_token)\n",
    "\n",
    "def get_rent_plot():\n",
    "    rent_plot = px.scatter_mapbox(\n",
    "        merged_sfo_data,\n",
    "        lat= 'Lat',\n",
    "        lon= 'Lon',\n",
    "        size= 'housing_units',\n",
    "        color= 'gross_rent',\n",
    "        #color_continuous_scale= px.colors.cyclical.IceFire,\n",
    "        title= 'Rent Price Averages in SFO',\n",
    "    )\n",
    "    return rent_plot\n",
    "\n",
    "#def get_sale_plot():\n",
    "# sale_plot = px.scatter_mapbox(\n",
    "#        merged_sfo_data,\n",
    " #       lat= 'Lat',\n",
    "  #      lon= 'Lon',\n",
    "   #     size= 'housing_units',\n",
    "    #    color= 'sale_price_sqr_foot',\n",
    "     #   color_continuous_scale= px.colors.cyclical.IceFire,\n",
    "      #  title= 'Sale Price Averages in SFO',\n",
    "#    )\n",
    "#    return sale_plot\n",
    "\n"
   ]
  },
  {
   "cell_type": "code",
   "execution_count": 256,
   "metadata": {},
   "outputs": [],
   "source": [
    "# Create panels to structure the layout of the dashboard\n",
    "geo_column = pn.Column(\n",
    "    \"## Average Rent in SFO\", get_rent_plot()\n",
    ")\n",
    "\n",
    "# Create tab \n",
    "neighborhood_dashboard = pn.Tabs(\n",
    "    (\"Geospatial\", geo_column)\n",
    ")"
   ]
  },
  {
   "cell_type": "code",
   "execution_count": 236,
   "metadata": {},
   "outputs": [
    {
     "data": {
      "application/vnd.holoviews_exec.v0+json": "",
      "text/html": [
       "<div id='6858'>\n",
       "\n",
       "\n",
       "\n",
       "\n",
       "\n",
       "  <div class=\"bk-root\" id=\"1f728cf1-d28e-4cb5-b6a4-1bed247e42f0\" data-root-id=\"6858\"></div>\n",
       "</div>\n",
       "<script type=\"application/javascript\">\n",
       "    function msg_handler(msg) {\n",
       "      var metadata = msg.metadata;\n",
       "      var buffers = msg.buffers;\n",
       "      var msg = msg.content.data;\n",
       "      if ((metadata.msg_type == \"Ready\")) {\n",
       "        if (metadata.content) {\n",
       "          console.log(\"Python callback returned following output:\", metadata.content);\n",
       "        }\n",
       "      } else if (metadata.msg_type == \"Error\") {\n",
       "        console.log(\"Python failed with the following traceback:\", metadata.traceback)\n",
       "      } else {\n",
       "        \n",
       "var plot_id = \"6858\";\n",
       "if (plot_id in window.PyViz.plot_index) {\n",
       "  var plot = window.PyViz.plot_index[plot_id];\n",
       "} else {\n",
       "  var plot = Bokeh.index[plot_id];\n",
       "}\n",
       "\n",
       "if (plot_id in window.PyViz.receivers) {\n",
       "  var receiver = window.PyViz.receivers[plot_id];\n",
       "} else if (Bokeh.protocol === undefined) {\n",
       "  return;\n",
       "} else {\n",
       "  var receiver = new Bokeh.protocol.Receiver();\n",
       "  window.PyViz.receivers[plot_id] = receiver;\n",
       "}\n",
       "\n",
       "if ((buffers != undefined) && (buffers.length > 0)) {\n",
       "  receiver.consume(buffers[0].buffer)\n",
       "} else {\n",
       "  receiver.consume(msg)\n",
       "}\n",
       "\n",
       "const comm_msg = receiver.message;\n",
       "if ((comm_msg != null) && (Object.keys(comm_msg.content).length > 0)) {\n",
       "  plot.model.document.apply_json_patch(comm_msg.content, comm_msg.buffers)\n",
       "}\n",
       "\n",
       "      }\n",
       "    }\n",
       "    if ((window.PyViz == undefined) || (!window.PyViz.comm_manager)) {\n",
       "      console.log(\"Could not find comm manager\")\n",
       "    } else {\n",
       "      window.PyViz.comm_manager.register_target('6858', 'e6ba135d63234e9f8385f36380d79047', msg_handler);\n",
       "    }\n",
       "    \n",
       "(function(root) {\n",
       "  function embed_document(root) {\n",
       "    \n",
       "  var docs_json = {\"edd7f04d-24c6-48a0-9e55-c39c3e3b26f9\":{\"roots\":{\"references\":[{\"attributes\":{\"code\":\"\\nif (!window.PyViz) {\\n  return;\\n}\\nvar receiver = window.PyViz.receivers['6858'];\\nvar events = receiver ? receiver._partial.content.events : [];\\nfor (var event of events) {\\n  if ((event.kind === 'ModelChanged') && (event.attr === 'hover_data') &&\\n      (cb_obj.id === event.model.id) &&\\n      (JSON.stringify(cb_obj['hover_data']) === JSON.stringify(event.new))) {\\n    events.pop(events.indexOf(event))\\n    return;\\n  }\\n}\\n\\ndata = {hover_data: cb_obj['hover_data'], 'id': cb_obj.id};\\ncb_obj.event_name = 'hover_data';\\n\\nfunction unique_events(events) {\\n  // Processes the event queue ignoring duplicate events\\n  // of the same type\\n  var unique = [];\\n  var unique_events = [];\\n  for (var i=0; i<events.length; i++) {\\n    var _tmpevent = events[i];\\n    event = _tmpevent[0];\\n    data = _tmpevent[1];\\n    if (unique_events.indexOf(event)===-1) {\\n      unique.unshift(data);\\n      unique_events.push(event);\\n      }\\n  }\\n  return unique;\\n}\\n\\nfunction process_events(comm_status) {\\n  // Iterates over event queue and sends events via Comm\\n  var events = unique_events(comm_status.event_buffer);\\n  for (var i=0; i<events.length; i++) {\\n    var data = events[i];\\n    var comm = window.PyViz.comms[data[\\\"comm_id\\\"]];\\n    comm.send(data);\\n  }\\n  comm_status.event_buffer = [];\\n}\\n\\nfunction on_msg(msg) {\\n  // Receives acknowledgement from Python, processing event\\n  // and unblocking Comm if event queue empty\\n  var metadata = msg.metadata;\\n  var comm_id = metadata.comm_id\\n  var comm_status = window.PyViz.comm_status[comm_id];\\n  if (comm_status.event_buffer.length) {\\n    process_events(comm_status);\\n    comm_status.blocked = true;\\n    comm_status.time = Date.now()+50;\\n  } else {\\n    comm_status.blocked = false;\\n  }\\n  comm_status.event_buffer = [];\\n  if ((metadata.msg_type == \\\"Ready\\\") && metadata.content) {\\n    console.log(\\\"Python callback returned following output:\\\", metadata.content);\\n  } else if (metadata.msg_type == \\\"Error\\\") {\\n    console.log(\\\"Python failed with the following traceback:\\\", metadata.traceback)\\n  }\\n}\\n\\n// Initialize Comm\\nif ((window.PyViz == undefined) || (window.PyViz.comm_manager == undefined)) { return }\\ncomm = window.PyViz.comm_manager.get_client_comm(\\\"6858\\\", \\\"b9bbebe371f84e86ae4b619c48303a0e\\\", on_msg);\\nif (!comm) {\\n  return\\n}\\n\\n// Initialize event queue and timeouts for Comm\\nvar comm_status = window.PyViz.comm_status[\\\"b9bbebe371f84e86ae4b619c48303a0e\\\"];\\nif (comm_status === undefined) {\\n  comm_status = {event_buffer: [], blocked: false, time: Date.now()}\\n  window.PyViz.comm_status[\\\"b9bbebe371f84e86ae4b619c48303a0e\\\"] = comm_status\\n}\\n\\n// Add current event to queue and process queue if not blocked\\nevent_name = cb_obj.event_name\\ndata['comm_id'] = \\\"b9bbebe371f84e86ae4b619c48303a0e\\\";\\ntimeout = comm_status.time + 20000;\\nif ((comm_status.blocked && (Date.now() < timeout))) {\\n  comm_status.event_buffer.unshift([event_name, data]);\\n} else {\\n  comm_status.event_buffer.unshift([event_name, data]);\\n  setTimeout(function() { process_events(comm_status); }, 50);\\n  comm_status.blocked = true;\\n  comm_status.time = Date.now()+50;\\n}\\n\"},\"id\":\"6867\",\"type\":\"CustomJS\"},{\"attributes\":{\"code\":\"\\nif (!window.PyViz) {\\n  return;\\n}\\nvar receiver = window.PyViz.receivers['6858'];\\nvar events = receiver ? receiver._partial.content.events : [];\\nfor (var event of events) {\\n  if ((event.kind === 'ModelChanged') && (event.attr === 'restyle_data') &&\\n      (cb_obj.id === event.model.id) &&\\n      (JSON.stringify(cb_obj['restyle_data']) === JSON.stringify(event.new))) {\\n    events.pop(events.indexOf(event))\\n    return;\\n  }\\n}\\n\\ndata = {restyle_data: cb_obj['restyle_data'], 'id': cb_obj.id};\\ncb_obj.event_name = 'restyle_data';\\n\\nfunction unique_events(events) {\\n  // Processes the event queue ignoring duplicate events\\n  // of the same type\\n  var unique = [];\\n  var unique_events = [];\\n  for (var i=0; i<events.length; i++) {\\n    var _tmpevent = events[i];\\n    event = _tmpevent[0];\\n    data = _tmpevent[1];\\n    if (unique_events.indexOf(event)===-1) {\\n      unique.unshift(data);\\n      unique_events.push(event);\\n      }\\n  }\\n  return unique;\\n}\\n\\nfunction process_events(comm_status) {\\n  // Iterates over event queue and sends events via Comm\\n  var events = unique_events(comm_status.event_buffer);\\n  for (var i=0; i<events.length; i++) {\\n    var data = events[i];\\n    var comm = window.PyViz.comms[data[\\\"comm_id\\\"]];\\n    comm.send(data);\\n  }\\n  comm_status.event_buffer = [];\\n}\\n\\nfunction on_msg(msg) {\\n  // Receives acknowledgement from Python, processing event\\n  // and unblocking Comm if event queue empty\\n  var metadata = msg.metadata;\\n  var comm_id = metadata.comm_id\\n  var comm_status = window.PyViz.comm_status[comm_id];\\n  if (comm_status.event_buffer.length) {\\n    process_events(comm_status);\\n    comm_status.blocked = true;\\n    comm_status.time = Date.now()+50;\\n  } else {\\n    comm_status.blocked = false;\\n  }\\n  comm_status.event_buffer = [];\\n  if ((metadata.msg_type == \\\"Ready\\\") && metadata.content) {\\n    console.log(\\\"Python callback returned following output:\\\", metadata.content);\\n  } else if (metadata.msg_type == \\\"Error\\\") {\\n    console.log(\\\"Python failed with the following traceback:\\\", metadata.traceback)\\n  }\\n}\\n\\n// Initialize Comm\\nif ((window.PyViz == undefined) || (window.PyViz.comm_manager == undefined)) { return }\\ncomm = window.PyViz.comm_manager.get_client_comm(\\\"6858\\\", \\\"b9bbebe371f84e86ae4b619c48303a0e\\\", on_msg);\\nif (!comm) {\\n  return\\n}\\n\\n// Initialize event queue and timeouts for Comm\\nvar comm_status = window.PyViz.comm_status[\\\"b9bbebe371f84e86ae4b619c48303a0e\\\"];\\nif (comm_status === undefined) {\\n  comm_status = {event_buffer: [], blocked: false, time: Date.now()}\\n  window.PyViz.comm_status[\\\"b9bbebe371f84e86ae4b619c48303a0e\\\"] = comm_status\\n}\\n\\n// Add current event to queue and process queue if not blocked\\nevent_name = cb_obj.event_name\\ndata['comm_id'] = \\\"b9bbebe371f84e86ae4b619c48303a0e\\\";\\ntimeout = comm_status.time + 20000;\\nif ((comm_status.blocked && (Date.now() < timeout))) {\\n  comm_status.event_buffer.unshift([event_name, data]);\\n} else {\\n  comm_status.event_buffer.unshift([event_name, data]);\\n  setTimeout(function() { process_events(comm_status); }, 50);\\n  comm_status.blocked = true;\\n  comm_status.time = Date.now()+50;\\n}\\n\"},\"id\":\"6865\",\"type\":\"CustomJS\"},{\"attributes\":{\"callback\":null,\"js_property_callbacks\":{\"change:active\":[{\"id\":\"6875\",\"type\":\"CustomJS\"}]},\"margin\":[0,0,0,0],\"name\":\"Tabs30840\",\"tabs\":[{\"id\":\"6874\",\"type\":\"Panel\"}]},\"id\":\"6858\",\"type\":\"Tabs\"},{\"attributes\":{\"margin\":[5,5,5,5],\"name\":\"Markdown30835\",\"text\":\"<h2>Average Rent in SFO</h2>\"},\"id\":\"6860\",\"type\":\"Div\"},{\"attributes\":{\"code\":\"\\nif (!window.PyViz) {\\n  return;\\n}\\nvar receiver = window.PyViz.receivers['6858'];\\nvar events = receiver ? receiver._partial.content.events : [];\\nfor (var event of events) {\\n  if ((event.kind === 'ModelChanged') && (event.attr === 'relayout_data') &&\\n      (cb_obj.id === event.model.id) &&\\n      (JSON.stringify(cb_obj['relayout_data']) === JSON.stringify(event.new))) {\\n    events.pop(events.indexOf(event))\\n    return;\\n  }\\n}\\n\\ndata = {relayout_data: cb_obj['relayout_data'], 'id': cb_obj.id};\\ncb_obj.event_name = 'relayout_data';\\n\\nfunction unique_events(events) {\\n  // Processes the event queue ignoring duplicate events\\n  // of the same type\\n  var unique = [];\\n  var unique_events = [];\\n  for (var i=0; i<events.length; i++) {\\n    var _tmpevent = events[i];\\n    event = _tmpevent[0];\\n    data = _tmpevent[1];\\n    if (unique_events.indexOf(event)===-1) {\\n      unique.unshift(data);\\n      unique_events.push(event);\\n      }\\n  }\\n  return unique;\\n}\\n\\nfunction process_events(comm_status) {\\n  // Iterates over event queue and sends events via Comm\\n  var events = unique_events(comm_status.event_buffer);\\n  for (var i=0; i<events.length; i++) {\\n    var data = events[i];\\n    var comm = window.PyViz.comms[data[\\\"comm_id\\\"]];\\n    comm.send(data);\\n  }\\n  comm_status.event_buffer = [];\\n}\\n\\nfunction on_msg(msg) {\\n  // Receives acknowledgement from Python, processing event\\n  // and unblocking Comm if event queue empty\\n  var metadata = msg.metadata;\\n  var comm_id = metadata.comm_id\\n  var comm_status = window.PyViz.comm_status[comm_id];\\n  if (comm_status.event_buffer.length) {\\n    process_events(comm_status);\\n    comm_status.blocked = true;\\n    comm_status.time = Date.now()+50;\\n  } else {\\n    comm_status.blocked = false;\\n  }\\n  comm_status.event_buffer = [];\\n  if ((metadata.msg_type == \\\"Ready\\\") && metadata.content) {\\n    console.log(\\\"Python callback returned following output:\\\", metadata.content);\\n  } else if (metadata.msg_type == \\\"Error\\\") {\\n    console.log(\\\"Python failed with the following traceback:\\\", metadata.traceback)\\n  }\\n}\\n\\n// Initialize Comm\\nif ((window.PyViz == undefined) || (window.PyViz.comm_manager == undefined)) { return }\\ncomm = window.PyViz.comm_manager.get_client_comm(\\\"6858\\\", \\\"b9bbebe371f84e86ae4b619c48303a0e\\\", on_msg);\\nif (!comm) {\\n  return\\n}\\n\\n// Initialize event queue and timeouts for Comm\\nvar comm_status = window.PyViz.comm_status[\\\"b9bbebe371f84e86ae4b619c48303a0e\\\"];\\nif (comm_status === undefined) {\\n  comm_status = {event_buffer: [], blocked: false, time: Date.now()}\\n  window.PyViz.comm_status[\\\"b9bbebe371f84e86ae4b619c48303a0e\\\"] = comm_status\\n}\\n\\n// Add current event to queue and process queue if not blocked\\nevent_name = cb_obj.event_name\\ndata['comm_id'] = \\\"b9bbebe371f84e86ae4b619c48303a0e\\\";\\ntimeout = comm_status.time + 20000;\\nif ((comm_status.blocked && (Date.now() < timeout))) {\\n  comm_status.event_buffer.unshift([event_name, data]);\\n} else {\\n  comm_status.event_buffer.unshift([event_name, data]);\\n  setTimeout(function() { process_events(comm_status); }, 50);\\n  comm_status.blocked = true;\\n  comm_status.time = Date.now()+50;\\n}\\n\"},\"id\":\"6864\",\"type\":\"CustomJS\"},{\"attributes\":{\"code\":\"\\nif (!window.PyViz) {\\n  return;\\n}\\nvar receiver = window.PyViz.receivers['6858'];\\nvar events = receiver ? receiver._partial.content.events : [];\\nfor (var event of events) {\\n  if ((event.kind === 'ModelChanged') && (event.attr === 'viewport_update_policy') &&\\n      (cb_obj.id === event.model.id) &&\\n      (JSON.stringify(cb_obj['viewport_update_policy']) === JSON.stringify(event.new))) {\\n    events.pop(events.indexOf(event))\\n    return;\\n  }\\n}\\n\\ndata = {viewport_update_policy: cb_obj['viewport_update_policy'], 'id': cb_obj.id};\\ncb_obj.event_name = 'viewport_update_policy';\\n\\nfunction unique_events(events) {\\n  // Processes the event queue ignoring duplicate events\\n  // of the same type\\n  var unique = [];\\n  var unique_events = [];\\n  for (var i=0; i<events.length; i++) {\\n    var _tmpevent = events[i];\\n    event = _tmpevent[0];\\n    data = _tmpevent[1];\\n    if (unique_events.indexOf(event)===-1) {\\n      unique.unshift(data);\\n      unique_events.push(event);\\n      }\\n  }\\n  return unique;\\n}\\n\\nfunction process_events(comm_status) {\\n  // Iterates over event queue and sends events via Comm\\n  var events = unique_events(comm_status.event_buffer);\\n  for (var i=0; i<events.length; i++) {\\n    var data = events[i];\\n    var comm = window.PyViz.comms[data[\\\"comm_id\\\"]];\\n    comm.send(data);\\n  }\\n  comm_status.event_buffer = [];\\n}\\n\\nfunction on_msg(msg) {\\n  // Receives acknowledgement from Python, processing event\\n  // and unblocking Comm if event queue empty\\n  var metadata = msg.metadata;\\n  var comm_id = metadata.comm_id\\n  var comm_status = window.PyViz.comm_status[comm_id];\\n  if (comm_status.event_buffer.length) {\\n    process_events(comm_status);\\n    comm_status.blocked = true;\\n    comm_status.time = Date.now()+50;\\n  } else {\\n    comm_status.blocked = false;\\n  }\\n  comm_status.event_buffer = [];\\n  if ((metadata.msg_type == \\\"Ready\\\") && metadata.content) {\\n    console.log(\\\"Python callback returned following output:\\\", metadata.content);\\n  } else if (metadata.msg_type == \\\"Error\\\") {\\n    console.log(\\\"Python failed with the following traceback:\\\", metadata.traceback)\\n  }\\n}\\n\\n// Initialize Comm\\nif ((window.PyViz == undefined) || (window.PyViz.comm_manager == undefined)) { return }\\ncomm = window.PyViz.comm_manager.get_client_comm(\\\"6858\\\", \\\"b9bbebe371f84e86ae4b619c48303a0e\\\", on_msg);\\nif (!comm) {\\n  return\\n}\\n\\n// Initialize event queue and timeouts for Comm\\nvar comm_status = window.PyViz.comm_status[\\\"b9bbebe371f84e86ae4b619c48303a0e\\\"];\\nif (comm_status === undefined) {\\n  comm_status = {event_buffer: [], blocked: false, time: Date.now()}\\n  window.PyViz.comm_status[\\\"b9bbebe371f84e86ae4b619c48303a0e\\\"] = comm_status\\n}\\n\\n// Add current event to queue and process queue if not blocked\\nevent_name = cb_obj.event_name\\ndata['comm_id'] = \\\"b9bbebe371f84e86ae4b619c48303a0e\\\";\\ntimeout = comm_status.time + 20000;\\nif ((comm_status.blocked && (Date.now() < timeout))) {\\n  comm_status.event_buffer.unshift([event_name, data]);\\n} else {\\n  comm_status.event_buffer.unshift([event_name, data]);\\n  setTimeout(function() { process_events(comm_status); }, 50);\\n  comm_status.blocked = true;\\n  comm_status.time = Date.now()+50;\\n}\\n\"},\"id\":\"6871\",\"type\":\"CustomJS\"},{\"attributes\":{},\"id\":\"6877\",\"type\":\"Selection\"},{\"attributes\":{\"code\":\"\\nif (!window.PyViz) {\\n  return;\\n}\\nvar receiver = window.PyViz.receivers['6858'];\\nvar events = receiver ? receiver._partial.content.events : [];\\nfor (var event of events) {\\n  if ((event.kind === 'ModelChanged') && (event.attr === 'config') &&\\n      (cb_obj.id === event.model.id) &&\\n      (JSON.stringify(cb_obj['config']) === JSON.stringify(event.new))) {\\n    events.pop(events.indexOf(event))\\n    return;\\n  }\\n}\\n\\ndata = {config: cb_obj['config'], 'id': cb_obj.id};\\ncb_obj.event_name = 'config';\\n\\nfunction unique_events(events) {\\n  // Processes the event queue ignoring duplicate events\\n  // of the same type\\n  var unique = [];\\n  var unique_events = [];\\n  for (var i=0; i<events.length; i++) {\\n    var _tmpevent = events[i];\\n    event = _tmpevent[0];\\n    data = _tmpevent[1];\\n    if (unique_events.indexOf(event)===-1) {\\n      unique.unshift(data);\\n      unique_events.push(event);\\n      }\\n  }\\n  return unique;\\n}\\n\\nfunction process_events(comm_status) {\\n  // Iterates over event queue and sends events via Comm\\n  var events = unique_events(comm_status.event_buffer);\\n  for (var i=0; i<events.length; i++) {\\n    var data = events[i];\\n    var comm = window.PyViz.comms[data[\\\"comm_id\\\"]];\\n    comm.send(data);\\n  }\\n  comm_status.event_buffer = [];\\n}\\n\\nfunction on_msg(msg) {\\n  // Receives acknowledgement from Python, processing event\\n  // and unblocking Comm if event queue empty\\n  var metadata = msg.metadata;\\n  var comm_id = metadata.comm_id\\n  var comm_status = window.PyViz.comm_status[comm_id];\\n  if (comm_status.event_buffer.length) {\\n    process_events(comm_status);\\n    comm_status.blocked = true;\\n    comm_status.time = Date.now()+50;\\n  } else {\\n    comm_status.blocked = false;\\n  }\\n  comm_status.event_buffer = [];\\n  if ((metadata.msg_type == \\\"Ready\\\") && metadata.content) {\\n    console.log(\\\"Python callback returned following output:\\\", metadata.content);\\n  } else if (metadata.msg_type == \\\"Error\\\") {\\n    console.log(\\\"Python failed with the following traceback:\\\", metadata.traceback)\\n  }\\n}\\n\\n// Initialize Comm\\nif ((window.PyViz == undefined) || (window.PyViz.comm_manager == undefined)) { return }\\ncomm = window.PyViz.comm_manager.get_client_comm(\\\"6858\\\", \\\"b9bbebe371f84e86ae4b619c48303a0e\\\", on_msg);\\nif (!comm) {\\n  return\\n}\\n\\n// Initialize event queue and timeouts for Comm\\nvar comm_status = window.PyViz.comm_status[\\\"b9bbebe371f84e86ae4b619c48303a0e\\\"];\\nif (comm_status === undefined) {\\n  comm_status = {event_buffer: [], blocked: false, time: Date.now()}\\n  window.PyViz.comm_status[\\\"b9bbebe371f84e86ae4b619c48303a0e\\\"] = comm_status\\n}\\n\\n// Add current event to queue and process queue if not blocked\\nevent_name = cb_obj.event_name\\ndata['comm_id'] = \\\"b9bbebe371f84e86ae4b619c48303a0e\\\";\\ntimeout = comm_status.time + 20000;\\nif ((comm_status.blocked && (Date.now() < timeout))) {\\n  comm_status.event_buffer.unshift([event_name, data]);\\n} else {\\n  comm_status.event_buffer.unshift([event_name, data]);\\n  setTimeout(function() { process_events(comm_status); }, 50);\\n  comm_status.blocked = true;\\n  comm_status.time = Date.now()+50;\\n}\\n\"},\"id\":\"6863\",\"type\":\"CustomJS\"},{\"attributes\":{\"callback\":null,\"data\":{\"lat\":[{\"__ndarray__\":\"LV+X4T/lQkB1AwXeyeNCQBmto6oJ3kJAvqQxWkfdQkA0DB8RU+JCQFbxRuaR40JAlWBxOPPfQkD430p2bOBCQHEDPj+M5EJA6DBfXoDlQkA/xty1hNxCQDZxcr9D3UJAw9hCkIPiQkDxaOOIteBCQL6kMVpH3UJAjGfQ0D/lQkCMZ9DQP+VCQAyOklfn4EJANnFyv0PdQkB7n6pCA+FCQMuhRbbz4UJAy6FFtvPhQkDidf2C3dxCQHiXi/hO3EJAxvmbUIjgQkCVYHE4899CQAd7E0Ny4kJAlWBxOPPfQkBxAz4/jORCQIOLFTWY5kJAXW3F/rLjQkDoMF9egOVCQIP6ljld5kJAY7SOqibcQkD430p2bOBCQOAtkKD43UJAf59x4UDkQkCO6QlLPOBCQDZxcr9D3UJA6DBfXoDlQkD430p2bOBCQApoImx45kJACmgibHjmQkBjtI6qJtxCQD/G3LWE3EJAnDOitDfgQkCVYHE4899CQOgwX16A5UJAvodLjjvdQkCVYHE4899CQC9uowG84UJAGa2jqgneQkB2/YLdsN1CQHEDPj+M5EJA6DBfXoDlQkAZraOqCd5CQH+fceFA5EJAjGfQ0D/lQkDgLZCg+N1CQApoImx45kJAyFuufmzgQkCMZ9DQP+VCQNVz0vvG40JAvqQxWkfdQkC7RPXWwN5CQOgwX16A5UJAgy9MpgreQkDgLZCg+N1CQOgwX16A5UJA\",\"dtype\":\"float64\",\"shape\":[69]}],\"lon\":[{\"__ndarray__\":\"L26jAbyZXsA5mE2AYZxewPfuj/eqmV7A2dMOf02aXsC1iZP7HZxewELKT6p9nF7AfVcE/1ufXsAtlbcjnJxewHe+nxovnV7AIHu9++ObXsBDxTh/E5xewIofY+5anF7A6Z/gYkWbXsADIVnABJxewNnTDn9Nml7AL26jAbyZXsAvbqMBvJlewCSvzjEgnV7Aih9j7lqcXsAnLPGAsp1ewE+XxcTmm17AT5fFxOabXsCkU1c+y5dewDY3picsn17AzOmymNiaXsB9VwT/W59ewEjdzr7ynl7AWoEhq1ufXsB3vp8aL51ewIjvxKwXnV7APz+MEB6dXsAge73745tewBU1mIbhnV7Aj+TyH9KdXsAtlbcjnJxewGmR7Xw/nV7AHcnlP6SZXsC6ZvLNNptewIofY+5anF7AIHu9++ObXsAtlbcjnJxewKuy74rgmV7Aq7LviuCZXsCP5PIf0p1ewEPFOH8TnF7ABoGVQ4ucXsB9VwT/W59ewCB7vfvjm17AxzNo6J+eXsB9VwT/W59ewOzAOSNKnV7A9+6P96qZXsA3oRABh5hewHe+nxovnV7AIHu9++ObXsD37o/3qplewB3J5T+kmV7AL26jAbyZXsBpke18P51ewKuy74rgmV7ARdeFH5ycXsAvbqMBvJlewAJIbeLkml7A2dMOf02aXsAvUb01sJ1ewCB7vfvjm17A/0KPGD2dXsBpke18P51ewFRcVfZdmV7A\",\"dtype\":\"float64\",\"shape\":[69]}],\"marker.color\":[{\"__ndarray__\":\"SZIkSZICpkCrqqqqqq+nQM3MzMzMHKJAAAAAAAA2rUCrqqqqqhWlQEmSJEmSAqZASZIkSZICpkAAAAAAAJWhQAAAAAAAUKNASZIkSZICpkCrqqqqqhWlQAAAAAAAgJ9AAAAAAIC4pUBJkiRJkgKmQKuqqqqqr6dASZIkSZICpkAAAAAAAFCjQAAAAAAA1ptAAAAAAACnpkDNzMzMzFKkQEmSJEmSAqZASZIkSZICpkAAAAAAAHKjQAAAAAAAIKdASZIkSZICpkAAAAAAADCpQEmSJEmSAqZASZIkSZICpkBJkiRJkgKmQFVVVVVV9qNAVVVVVVX2o0BJkiRJkgKmQEmSJEmSAqZAAAAAAACsqkAAAAAAAK+kQAAAAACA1qBAVVVVVVXPpEBVVVVVVfajQM3MzMzMyqhASZIkSZICpkBJkiRJkgKmQJqZmZmZXadAzczMzMwEpkAAAAAAAASjQAAAAACAZ6dASZIkSZICpkBJkiRJkgKmQEmSJEmSAqZASZIkSZICpkBVVVVVVfajQEmSJEmSAqZAzczMzMwcokBJkiRJkgKmQEmSJEmSAqZASZIkSZICpkAAAAAAAJCrQAAAAAAAZqBASZIkSZICpkAAAAAAAKemQEmSJEmSAqZASZIkSZICpkBVVVVVVfajQEmSJEmSAqZAAAAAAACSrEAAAAAAAKejQFVVVVVV9qNAAAAAAACVoUAAAAAAAO6uQFVVVVVV9qNA\",\"dtype\":\"float64\",\"shape\":[69]}],\"marker.size\":[{\"__ndarray__\":\"AAAAAIQYF0EAAAAAqCIXQQAAAAAY+hZBAAAAAFxVF0EAAAAAchMXQQAAAACEGBdBAAAAAIQYF0EAAAAAGPoWQTMzMzNDBhdBAAAAAIQYF0EAAAAAchMXQQAAAADi6hZBAAAAAIQYF0EAAAAAhBgXQQAAAACoIhdBAAAAAIQYF0EzMzMzQwYXQQAAAACs2xZBAAAAAJYdF0HNzMzMWAwXQQAAAACEGBdBAAAAAIQYF0EAAAAATgkXQQAAAAC6JxdBAAAAAIQYF0EAAAAAVS8XQQAAAACEGBdBAAAAAIQYF0EAAAAAhBgXQQAAAABOCRdBAAAAAE4JF0EAAAAAhBgXQQAAAACEGBdBAAAAAPA2F0EAAAAATgkXQQAAAAB98hZBAAAAAGAOF0EAAAAATgkXQc3MzMzEKhdBAAAAAIQYF0EAAAAAhBgXQTMzMzOvJBdBAAAAAIQYF0EAAAAAPAQXQQAAAAC6JxdBAAAAAIQYF0EAAAAAhBgXQQAAAACEGBdBAAAAAIQYF0EAAAAATgkXQQAAAACEGBdBAAAAABj6FkEAAAAAhBgXQQAAAACEGBdBAAAAAIQYF0EAAAAA8DYXQQAAAAD07xZBAAAAAIQYF0EAAAAAlh0XQQAAAACEGBdBAAAAAIQYF0EAAAAATgkXQQAAAACEGBdBAAAAACZGF0EAAAAAswEXQQAAAABOCRdBAAAAABj6FkEAAAAAXFUXQQAAAABOCRdB\",\"dtype\":\"float64\",\"shape\":[69]}]},\"selected\":{\"id\":\"6877\",\"type\":\"Selection\"},\"selection_policy\":{\"id\":\"6876\",\"type\":\"UnionRenderers\"}},\"id\":\"6861\",\"type\":\"ColumnDataSource\"},{\"attributes\":{\"children\":[{\"id\":\"6860\",\"type\":\"Div\"},{\"id\":\"6862\",\"type\":\"PlotlyPlot\"}],\"margin\":[0,0,0,0],\"name\":\"Column30839\"},\"id\":\"6859\",\"type\":\"Column\"},{\"attributes\":{},\"id\":\"6876\",\"type\":\"UnionRenderers\"},{\"attributes\":{\"child\":{\"id\":\"6859\",\"type\":\"Column\"},\"name\":\"Column30839\",\"title\":\"Geospatial\"},\"id\":\"6874\",\"type\":\"Panel\"},{\"attributes\":{\"code\":\"\\nif (!window.PyViz) {\\n  return;\\n}\\nvar receiver = window.PyViz.receivers['6858'];\\nvar events = receiver ? receiver._partial.content.events : [];\\nfor (var event of events) {\\n  if ((event.kind === 'ModelChanged') && (event.attr === 'active') &&\\n      (cb_obj.id === event.model.id) &&\\n      (JSON.stringify(cb_obj['active']) === JSON.stringify(event.new))) {\\n    events.pop(events.indexOf(event))\\n    return;\\n  }\\n}\\n\\ndata = {active: cb_obj['active'], 'id': cb_obj.id};\\ncb_obj.event_name = 'active';\\n\\nfunction unique_events(events) {\\n  // Processes the event queue ignoring duplicate events\\n  // of the same type\\n  var unique = [];\\n  var unique_events = [];\\n  for (var i=0; i<events.length; i++) {\\n    var _tmpevent = events[i];\\n    event = _tmpevent[0];\\n    data = _tmpevent[1];\\n    if (unique_events.indexOf(event)===-1) {\\n      unique.unshift(data);\\n      unique_events.push(event);\\n      }\\n  }\\n  return unique;\\n}\\n\\nfunction process_events(comm_status) {\\n  // Iterates over event queue and sends events via Comm\\n  var events = unique_events(comm_status.event_buffer);\\n  for (var i=0; i<events.length; i++) {\\n    var data = events[i];\\n    var comm = window.PyViz.comms[data[\\\"comm_id\\\"]];\\n    comm.send(data);\\n  }\\n  comm_status.event_buffer = [];\\n}\\n\\nfunction on_msg(msg) {\\n  // Receives acknowledgement from Python, processing event\\n  // and unblocking Comm if event queue empty\\n  var metadata = msg.metadata;\\n  var comm_id = metadata.comm_id\\n  var comm_status = window.PyViz.comm_status[comm_id];\\n  if (comm_status.event_buffer.length) {\\n    process_events(comm_status);\\n    comm_status.blocked = true;\\n    comm_status.time = Date.now()+50;\\n  } else {\\n    comm_status.blocked = false;\\n  }\\n  comm_status.event_buffer = [];\\n  if ((metadata.msg_type == \\\"Ready\\\") && metadata.content) {\\n    console.log(\\\"Python callback returned following output:\\\", metadata.content);\\n  } else if (metadata.msg_type == \\\"Error\\\") {\\n    console.log(\\\"Python failed with the following traceback:\\\", metadata.traceback)\\n  }\\n}\\n\\n// Initialize Comm\\nif ((window.PyViz == undefined) || (window.PyViz.comm_manager == undefined)) { return }\\ncomm = window.PyViz.comm_manager.get_client_comm(\\\"6858\\\", \\\"078c899788334639937a9a737aa14076\\\", on_msg);\\nif (!comm) {\\n  return\\n}\\n\\n// Initialize event queue and timeouts for Comm\\nvar comm_status = window.PyViz.comm_status[\\\"078c899788334639937a9a737aa14076\\\"];\\nif (comm_status === undefined) {\\n  comm_status = {event_buffer: [], blocked: false, time: Date.now()}\\n  window.PyViz.comm_status[\\\"078c899788334639937a9a737aa14076\\\"] = comm_status\\n}\\n\\n// Add current event to queue and process queue if not blocked\\nevent_name = cb_obj.event_name\\ndata['comm_id'] = \\\"078c899788334639937a9a737aa14076\\\";\\ntimeout = comm_status.time + 20000;\\nif ((comm_status.blocked && (Date.now() < timeout))) {\\n  comm_status.event_buffer.unshift([event_name, data]);\\n} else {\\n  comm_status.event_buffer.unshift([event_name, data]);\\n  setTimeout(function() { process_events(comm_status); }, 50);\\n  comm_status.blocked = true;\\n  comm_status.time = Date.now()+50;\\n}\\n\"},\"id\":\"6875\",\"type\":\"CustomJS\"},{\"attributes\":{\"code\":\"\\nif (!window.PyViz) {\\n  return;\\n}\\nvar receiver = window.PyViz.receivers['6858'];\\nvar events = receiver ? receiver._partial.content.events : [];\\nfor (var event of events) {\\n  if ((event.kind === 'ModelChanged') && (event.attr === '_render_count') &&\\n      (cb_obj.id === event.model.id) &&\\n      (JSON.stringify(cb_obj['_render_count']) === JSON.stringify(event.new))) {\\n    events.pop(events.indexOf(event))\\n    return;\\n  }\\n}\\n\\ndata = {_render_count: cb_obj['_render_count'], 'id': cb_obj.id};\\ncb_obj.event_name = '_render_count';\\n\\nfunction unique_events(events) {\\n  // Processes the event queue ignoring duplicate events\\n  // of the same type\\n  var unique = [];\\n  var unique_events = [];\\n  for (var i=0; i<events.length; i++) {\\n    var _tmpevent = events[i];\\n    event = _tmpevent[0];\\n    data = _tmpevent[1];\\n    if (unique_events.indexOf(event)===-1) {\\n      unique.unshift(data);\\n      unique_events.push(event);\\n      }\\n  }\\n  return unique;\\n}\\n\\nfunction process_events(comm_status) {\\n  // Iterates over event queue and sends events via Comm\\n  var events = unique_events(comm_status.event_buffer);\\n  for (var i=0; i<events.length; i++) {\\n    var data = events[i];\\n    var comm = window.PyViz.comms[data[\\\"comm_id\\\"]];\\n    comm.send(data);\\n  }\\n  comm_status.event_buffer = [];\\n}\\n\\nfunction on_msg(msg) {\\n  // Receives acknowledgement from Python, processing event\\n  // and unblocking Comm if event queue empty\\n  var metadata = msg.metadata;\\n  var comm_id = metadata.comm_id\\n  var comm_status = window.PyViz.comm_status[comm_id];\\n  if (comm_status.event_buffer.length) {\\n    process_events(comm_status);\\n    comm_status.blocked = true;\\n    comm_status.time = Date.now()+50;\\n  } else {\\n    comm_status.blocked = false;\\n  }\\n  comm_status.event_buffer = [];\\n  if ((metadata.msg_type == \\\"Ready\\\") && metadata.content) {\\n    console.log(\\\"Python callback returned following output:\\\", metadata.content);\\n  } else if (metadata.msg_type == \\\"Error\\\") {\\n    console.log(\\\"Python failed with the following traceback:\\\", metadata.traceback)\\n  }\\n}\\n\\n// Initialize Comm\\nif ((window.PyViz == undefined) || (window.PyViz.comm_manager == undefined)) { return }\\ncomm = window.PyViz.comm_manager.get_client_comm(\\\"6858\\\", \\\"b9bbebe371f84e86ae4b619c48303a0e\\\", on_msg);\\nif (!comm) {\\n  return\\n}\\n\\n// Initialize event queue and timeouts for Comm\\nvar comm_status = window.PyViz.comm_status[\\\"b9bbebe371f84e86ae4b619c48303a0e\\\"];\\nif (comm_status === undefined) {\\n  comm_status = {event_buffer: [], blocked: false, time: Date.now()}\\n  window.PyViz.comm_status[\\\"b9bbebe371f84e86ae4b619c48303a0e\\\"] = comm_status\\n}\\n\\n// Add current event to queue and process queue if not blocked\\nevent_name = cb_obj.event_name\\ndata['comm_id'] = \\\"b9bbebe371f84e86ae4b619c48303a0e\\\";\\ntimeout = comm_status.time + 20000;\\nif ((comm_status.blocked && (Date.now() < timeout))) {\\n  comm_status.event_buffer.unshift([event_name, data]);\\n} else {\\n  comm_status.event_buffer.unshift([event_name, data]);\\n  setTimeout(function() { process_events(comm_status); }, 50);\\n  comm_status.blocked = true;\\n  comm_status.time = Date.now()+50;\\n}\\n\"},\"id\":\"6873\",\"type\":\"CustomJS\"},{\"attributes\":{\"code\":\"\\nif (!window.PyViz) {\\n  return;\\n}\\nvar receiver = window.PyViz.receivers['6858'];\\nvar events = receiver ? receiver._partial.content.events : [];\\nfor (var event of events) {\\n  if ((event.kind === 'ModelChanged') && (event.attr === 'viewport_update_throttle') &&\\n      (cb_obj.id === event.model.id) &&\\n      (JSON.stringify(cb_obj['viewport_update_throttle']) === JSON.stringify(event.new))) {\\n    events.pop(events.indexOf(event))\\n    return;\\n  }\\n}\\n\\ndata = {viewport_update_throttle: cb_obj['viewport_update_throttle'], 'id': cb_obj.id};\\ncb_obj.event_name = 'viewport_update_throttle';\\n\\nfunction unique_events(events) {\\n  // Processes the event queue ignoring duplicate events\\n  // of the same type\\n  var unique = [];\\n  var unique_events = [];\\n  for (var i=0; i<events.length; i++) {\\n    var _tmpevent = events[i];\\n    event = _tmpevent[0];\\n    data = _tmpevent[1];\\n    if (unique_events.indexOf(event)===-1) {\\n      unique.unshift(data);\\n      unique_events.push(event);\\n      }\\n  }\\n  return unique;\\n}\\n\\nfunction process_events(comm_status) {\\n  // Iterates over event queue and sends events via Comm\\n  var events = unique_events(comm_status.event_buffer);\\n  for (var i=0; i<events.length; i++) {\\n    var data = events[i];\\n    var comm = window.PyViz.comms[data[\\\"comm_id\\\"]];\\n    comm.send(data);\\n  }\\n  comm_status.event_buffer = [];\\n}\\n\\nfunction on_msg(msg) {\\n  // Receives acknowledgement from Python, processing event\\n  // and unblocking Comm if event queue empty\\n  var metadata = msg.metadata;\\n  var comm_id = metadata.comm_id\\n  var comm_status = window.PyViz.comm_status[comm_id];\\n  if (comm_status.event_buffer.length) {\\n    process_events(comm_status);\\n    comm_status.blocked = true;\\n    comm_status.time = Date.now()+50;\\n  } else {\\n    comm_status.blocked = false;\\n  }\\n  comm_status.event_buffer = [];\\n  if ((metadata.msg_type == \\\"Ready\\\") && metadata.content) {\\n    console.log(\\\"Python callback returned following output:\\\", metadata.content);\\n  } else if (metadata.msg_type == \\\"Error\\\") {\\n    console.log(\\\"Python failed with the following traceback:\\\", metadata.traceback)\\n  }\\n}\\n\\n// Initialize Comm\\nif ((window.PyViz == undefined) || (window.PyViz.comm_manager == undefined)) { return }\\ncomm = window.PyViz.comm_manager.get_client_comm(\\\"6858\\\", \\\"b9bbebe371f84e86ae4b619c48303a0e\\\", on_msg);\\nif (!comm) {\\n  return\\n}\\n\\n// Initialize event queue and timeouts for Comm\\nvar comm_status = window.PyViz.comm_status[\\\"b9bbebe371f84e86ae4b619c48303a0e\\\"];\\nif (comm_status === undefined) {\\n  comm_status = {event_buffer: [], blocked: false, time: Date.now()}\\n  window.PyViz.comm_status[\\\"b9bbebe371f84e86ae4b619c48303a0e\\\"] = comm_status\\n}\\n\\n// Add current event to queue and process queue if not blocked\\nevent_name = cb_obj.event_name\\ndata['comm_id'] = \\\"b9bbebe371f84e86ae4b619c48303a0e\\\";\\ntimeout = comm_status.time + 20000;\\nif ((comm_status.blocked && (Date.now() < timeout))) {\\n  comm_status.event_buffer.unshift([event_name, data]);\\n} else {\\n  comm_status.event_buffer.unshift([event_name, data]);\\n  setTimeout(function() { process_events(comm_status); }, 50);\\n  comm_status.blocked = true;\\n  comm_status.time = Date.now()+50;\\n}\\n\"},\"id\":\"6872\",\"type\":\"CustomJS\"},{\"attributes\":{\"_render_count\":0,\"config\":null,\"data\":[{\"hoverlabel\":{\"namelength\":0},\"hovertemplate\":\"housing_units=%{marker.size}<br>Lat=%{lat}<br>Lon=%{lon}<br>gross_rent=%{marker.color}\",\"legendgroup\":\"\",\"marker\":{\"coloraxis\":\"coloraxis\",\"sizemode\":\"area\",\"sizeref\":955.7375},\"mode\":\"markers\",\"name\":\"\",\"showlegend\":false,\"subplot\":\"mapbox\",\"type\":\"scattermapbox\"}],\"data_sources\":[{\"id\":\"6861\",\"type\":\"ColumnDataSource\"}],\"js_property_callbacks\":{\"change:_render_count\":[{\"id\":\"6873\",\"type\":\"CustomJS\"}],\"change:click_data\":[{\"id\":\"6866\",\"type\":\"CustomJS\"}],\"change:clickannotation_data\":[{\"id\":\"6868\",\"type\":\"CustomJS\"}],\"change:config\":[{\"id\":\"6863\",\"type\":\"CustomJS\"}],\"change:hover_data\":[{\"id\":\"6867\",\"type\":\"CustomJS\"}],\"change:relayout_data\":[{\"id\":\"6864\",\"type\":\"CustomJS\"}],\"change:restyle_data\":[{\"id\":\"6865\",\"type\":\"CustomJS\"}],\"change:selected_data\":[{\"id\":\"6869\",\"type\":\"CustomJS\"}],\"change:viewport\":[{\"id\":\"6870\",\"type\":\"CustomJS\"}],\"change:viewport_update_policy\":[{\"id\":\"6871\",\"type\":\"CustomJS\"}],\"change:viewport_update_throttle\":[{\"id\":\"6872\",\"type\":\"CustomJS\"}]},\"layout\":{\"coloraxis\":{\"colorbar\":{\"title\":{\"text\":\"gross_rent\"}},\"colorscale\":[[0.0,\"#0d0887\"],[0.1111111111111111,\"#46039f\"],[0.2222222222222222,\"#7201a8\"],[0.3333333333333333,\"#9c179e\"],[0.4444444444444444,\"#bd3786\"],[0.5555555555555556,\"#d8576b\"],[0.6666666666666666,\"#ed7953\"],[0.7777777777777778,\"#fb9f3a\"],[0.8888888888888888,\"#fdca26\"],[1.0,\"#f0f921\"]]},\"height\":600,\"legend\":{\"itemsizing\":\"constant\",\"tracegroupgap\":0},\"mapbox\":{\"accesstoken\":\"pk.eyJ1IjoibWFyY2x3ZWltZXIiLCJhIjoiY2p6dnhxMnB6MHZ2NDNscXF3aDc5Ym1lYSJ9.vGK2qX6MI3sR-0-uvXdDqg\",\"center\":{\"lat\":37.76064079710145,\"lon\":-122.43826449275363},\"domain\":{\"x\":[0.0,0.98],\"y\":[0.0,1.0]},\"zoom\":8},\"template\":{\"data\":{\"bar\":[{\"error_x\":{\"color\":\"#2a3f5f\"},\"error_y\":{\"color\":\"#2a3f5f\"},\"marker\":{\"line\":{\"color\":\"#E5ECF6\",\"width\":0.5}},\"type\":\"bar\"}],\"barpolar\":[{\"marker\":{\"line\":{\"color\":\"#E5ECF6\",\"width\":0.5}},\"type\":\"barpolar\"}],\"carpet\":[{\"aaxis\":{\"endlinecolor\":\"#2a3f5f\",\"gridcolor\":\"white\",\"linecolor\":\"white\",\"minorgridcolor\":\"white\",\"startlinecolor\":\"#2a3f5f\"},\"baxis\":{\"endlinecolor\":\"#2a3f5f\",\"gridcolor\":\"white\",\"linecolor\":\"white\",\"minorgridcolor\":\"white\",\"startlinecolor\":\"#2a3f5f\"},\"type\":\"carpet\"}],\"choropleth\":[{\"colorbar\":{\"outlinewidth\":0,\"ticks\":\"\"},\"type\":\"choropleth\"}],\"contour\":[{\"colorbar\":{\"outlinewidth\":0,\"ticks\":\"\"},\"colorscale\":[[0.0,\"#0d0887\"],[0.1111111111111111,\"#46039f\"],[0.2222222222222222,\"#7201a8\"],[0.3333333333333333,\"#9c179e\"],[0.4444444444444444,\"#bd3786\"],[0.5555555555555556,\"#d8576b\"],[0.6666666666666666,\"#ed7953\"],[0.7777777777777778,\"#fb9f3a\"],[0.8888888888888888,\"#fdca26\"],[1.0,\"#f0f921\"]],\"type\":\"contour\"}],\"contourcarpet\":[{\"colorbar\":{\"outlinewidth\":0,\"ticks\":\"\"},\"type\":\"contourcarpet\"}],\"heatmap\":[{\"colorbar\":{\"outlinewidth\":0,\"ticks\":\"\"},\"colorscale\":[[0.0,\"#0d0887\"],[0.1111111111111111,\"#46039f\"],[0.2222222222222222,\"#7201a8\"],[0.3333333333333333,\"#9c179e\"],[0.4444444444444444,\"#bd3786\"],[0.5555555555555556,\"#d8576b\"],[0.6666666666666666,\"#ed7953\"],[0.7777777777777778,\"#fb9f3a\"],[0.8888888888888888,\"#fdca26\"],[1.0,\"#f0f921\"]],\"type\":\"heatmap\"}],\"heatmapgl\":[{\"colorbar\":{\"outlinewidth\":0,\"ticks\":\"\"},\"colorscale\":[[0.0,\"#0d0887\"],[0.1111111111111111,\"#46039f\"],[0.2222222222222222,\"#7201a8\"],[0.3333333333333333,\"#9c179e\"],[0.4444444444444444,\"#bd3786\"],[0.5555555555555556,\"#d8576b\"],[0.6666666666666666,\"#ed7953\"],[0.7777777777777778,\"#fb9f3a\"],[0.8888888888888888,\"#fdca26\"],[1.0,\"#f0f921\"]],\"type\":\"heatmapgl\"}],\"histogram\":[{\"marker\":{\"colorbar\":{\"outlinewidth\":0,\"ticks\":\"\"}},\"type\":\"histogram\"}],\"histogram2d\":[{\"colorbar\":{\"outlinewidth\":0,\"ticks\":\"\"},\"colorscale\":[[0.0,\"#0d0887\"],[0.1111111111111111,\"#46039f\"],[0.2222222222222222,\"#7201a8\"],[0.3333333333333333,\"#9c179e\"],[0.4444444444444444,\"#bd3786\"],[0.5555555555555556,\"#d8576b\"],[0.6666666666666666,\"#ed7953\"],[0.7777777777777778,\"#fb9f3a\"],[0.8888888888888888,\"#fdca26\"],[1.0,\"#f0f921\"]],\"type\":\"histogram2d\"}],\"histogram2dcontour\":[{\"colorbar\":{\"outlinewidth\":0,\"ticks\":\"\"},\"colorscale\":[[0.0,\"#0d0887\"],[0.1111111111111111,\"#46039f\"],[0.2222222222222222,\"#7201a8\"],[0.3333333333333333,\"#9c179e\"],[0.4444444444444444,\"#bd3786\"],[0.5555555555555556,\"#d8576b\"],[0.6666666666666666,\"#ed7953\"],[0.7777777777777778,\"#fb9f3a\"],[0.8888888888888888,\"#fdca26\"],[1.0,\"#f0f921\"]],\"type\":\"histogram2dcontour\"}],\"mesh3d\":[{\"colorbar\":{\"outlinewidth\":0,\"ticks\":\"\"},\"type\":\"mesh3d\"}],\"parcoords\":[{\"line\":{\"colorbar\":{\"outlinewidth\":0,\"ticks\":\"\"}},\"type\":\"parcoords\"}],\"scatter\":[{\"marker\":{\"colorbar\":{\"outlinewidth\":0,\"ticks\":\"\"}},\"type\":\"scatter\"}],\"scatter3d\":[{\"line\":{\"colorbar\":{\"outlinewidth\":0,\"ticks\":\"\"}},\"marker\":{\"colorbar\":{\"outlinewidth\":0,\"ticks\":\"\"}},\"type\":\"scatter3d\"}],\"scattercarpet\":[{\"marker\":{\"colorbar\":{\"outlinewidth\":0,\"ticks\":\"\"}},\"type\":\"scattercarpet\"}],\"scattergeo\":[{\"marker\":{\"colorbar\":{\"outlinewidth\":0,\"ticks\":\"\"}},\"type\":\"scattergeo\"}],\"scattergl\":[{\"marker\":{\"colorbar\":{\"outlinewidth\":0,\"ticks\":\"\"}},\"type\":\"scattergl\"}],\"scattermapbox\":[{\"marker\":{\"colorbar\":{\"outlinewidth\":0,\"ticks\":\"\"}},\"type\":\"scattermapbox\"}],\"scatterpolar\":[{\"marker\":{\"colorbar\":{\"outlinewidth\":0,\"ticks\":\"\"}},\"type\":\"scatterpolar\"}],\"scatterpolargl\":[{\"marker\":{\"colorbar\":{\"outlinewidth\":0,\"ticks\":\"\"}},\"type\":\"scatterpolargl\"}],\"scatterternary\":[{\"marker\":{\"colorbar\":{\"outlinewidth\":0,\"ticks\":\"\"}},\"type\":\"scatterternary\"}],\"surface\":[{\"colorbar\":{\"outlinewidth\":0,\"ticks\":\"\"},\"colorscale\":[[0.0,\"#0d0887\"],[0.1111111111111111,\"#46039f\"],[0.2222222222222222,\"#7201a8\"],[0.3333333333333333,\"#9c179e\"],[0.4444444444444444,\"#bd3786\"],[0.5555555555555556,\"#d8576b\"],[0.6666666666666666,\"#ed7953\"],[0.7777777777777778,\"#fb9f3a\"],[0.8888888888888888,\"#fdca26\"],[1.0,\"#f0f921\"]],\"type\":\"surface\"}],\"table\":[{\"cells\":{\"fill\":{\"color\":\"#EBF0F8\"},\"line\":{\"color\":\"white\"}},\"header\":{\"fill\":{\"color\":\"#C8D4E3\"},\"line\":{\"color\":\"white\"}},\"type\":\"table\"}]},\"layout\":{\"annotationdefaults\":{\"arrowcolor\":\"#2a3f5f\",\"arrowhead\":0,\"arrowwidth\":1},\"colorscale\":{\"diverging\":[[0,\"#8e0152\"],[0.1,\"#c51b7d\"],[0.2,\"#de77ae\"],[0.3,\"#f1b6da\"],[0.4,\"#fde0ef\"],[0.5,\"#f7f7f7\"],[0.6,\"#e6f5d0\"],[0.7,\"#b8e186\"],[0.8,\"#7fbc41\"],[0.9,\"#4d9221\"],[1,\"#276419\"]],\"sequential\":[[0.0,\"#0d0887\"],[0.1111111111111111,\"#46039f\"],[0.2222222222222222,\"#7201a8\"],[0.3333333333333333,\"#9c179e\"],[0.4444444444444444,\"#bd3786\"],[0.5555555555555556,\"#d8576b\"],[0.6666666666666666,\"#ed7953\"],[0.7777777777777778,\"#fb9f3a\"],[0.8888888888888888,\"#fdca26\"],[1.0,\"#f0f921\"]],\"sequentialminus\":[[0.0,\"#0d0887\"],[0.1111111111111111,\"#46039f\"],[0.2222222222222222,\"#7201a8\"],[0.3333333333333333,\"#9c179e\"],[0.4444444444444444,\"#bd3786\"],[0.5555555555555556,\"#d8576b\"],[0.6666666666666666,\"#ed7953\"],[0.7777777777777778,\"#fb9f3a\"],[0.8888888888888888,\"#fdca26\"],[1.0,\"#f0f921\"]]},\"colorway\":[\"#636efa\",\"#EF553B\",\"#00cc96\",\"#ab63fa\",\"#FFA15A\",\"#19d3f3\",\"#FF6692\",\"#B6E880\",\"#FF97FF\",\"#FECB52\"],\"font\":{\"color\":\"#2a3f5f\"},\"geo\":{\"bgcolor\":\"white\",\"lakecolor\":\"white\",\"landcolor\":\"#E5ECF6\",\"showlakes\":true,\"showland\":true,\"subunitcolor\":\"white\"},\"hoverlabel\":{\"align\":\"left\"},\"hovermode\":\"closest\",\"mapbox\":{\"style\":\"light\"},\"paper_bgcolor\":\"white\",\"plot_bgcolor\":\"#E5ECF6\",\"polar\":{\"angularaxis\":{\"gridcolor\":\"white\",\"linecolor\":\"white\",\"ticks\":\"\"},\"bgcolor\":\"#E5ECF6\",\"radialaxis\":{\"gridcolor\":\"white\",\"linecolor\":\"white\",\"ticks\":\"\"}},\"scene\":{\"xaxis\":{\"backgroundcolor\":\"#E5ECF6\",\"gridcolor\":\"white\",\"gridwidth\":2,\"linecolor\":\"white\",\"showbackground\":true,\"ticks\":\"\",\"zerolinecolor\":\"white\"},\"yaxis\":{\"backgroundcolor\":\"#E5ECF6\",\"gridcolor\":\"white\",\"gridwidth\":2,\"linecolor\":\"white\",\"showbackground\":true,\"ticks\":\"\",\"zerolinecolor\":\"white\"},\"zaxis\":{\"backgroundcolor\":\"#E5ECF6\",\"gridcolor\":\"white\",\"gridwidth\":2,\"linecolor\":\"white\",\"showbackground\":true,\"ticks\":\"\",\"zerolinecolor\":\"white\"}},\"shapedefaults\":{\"line\":{\"color\":\"#2a3f5f\"}},\"ternary\":{\"aaxis\":{\"gridcolor\":\"white\",\"linecolor\":\"white\",\"ticks\":\"\"},\"baxis\":{\"gridcolor\":\"white\",\"linecolor\":\"white\",\"ticks\":\"\"},\"bgcolor\":\"#E5ECF6\",\"caxis\":{\"gridcolor\":\"white\",\"linecolor\":\"white\",\"ticks\":\"\"}},\"title\":{\"x\":0.05},\"xaxis\":{\"automargin\":true,\"gridcolor\":\"white\",\"linecolor\":\"white\",\"ticks\":\"\",\"zerolinecolor\":\"white\",\"zerolinewidth\":2},\"yaxis\":{\"automargin\":true,\"gridcolor\":\"white\",\"linecolor\":\"white\",\"ticks\":\"\",\"zerolinecolor\":\"white\",\"zerolinewidth\":2}}},\"title\":{\"text\":\"Rent Price Averages in SFO\"}},\"viewport\":null,\"viewport_update_policy\":\"mouseup\",\"viewport_update_throttle\":200},\"id\":\"6862\",\"type\":\"PlotlyPlot\"},{\"attributes\":{\"code\":\"\\nif (!window.PyViz) {\\n  return;\\n}\\nvar receiver = window.PyViz.receivers['6858'];\\nvar events = receiver ? receiver._partial.content.events : [];\\nfor (var event of events) {\\n  if ((event.kind === 'ModelChanged') && (event.attr === 'clickannotation_data') &&\\n      (cb_obj.id === event.model.id) &&\\n      (JSON.stringify(cb_obj['clickannotation_data']) === JSON.stringify(event.new))) {\\n    events.pop(events.indexOf(event))\\n    return;\\n  }\\n}\\n\\ndata = {clickannotation_data: cb_obj['clickannotation_data'], 'id': cb_obj.id};\\ncb_obj.event_name = 'clickannotation_data';\\n\\nfunction unique_events(events) {\\n  // Processes the event queue ignoring duplicate events\\n  // of the same type\\n  var unique = [];\\n  var unique_events = [];\\n  for (var i=0; i<events.length; i++) {\\n    var _tmpevent = events[i];\\n    event = _tmpevent[0];\\n    data = _tmpevent[1];\\n    if (unique_events.indexOf(event)===-1) {\\n      unique.unshift(data);\\n      unique_events.push(event);\\n      }\\n  }\\n  return unique;\\n}\\n\\nfunction process_events(comm_status) {\\n  // Iterates over event queue and sends events via Comm\\n  var events = unique_events(comm_status.event_buffer);\\n  for (var i=0; i<events.length; i++) {\\n    var data = events[i];\\n    var comm = window.PyViz.comms[data[\\\"comm_id\\\"]];\\n    comm.send(data);\\n  }\\n  comm_status.event_buffer = [];\\n}\\n\\nfunction on_msg(msg) {\\n  // Receives acknowledgement from Python, processing event\\n  // and unblocking Comm if event queue empty\\n  var metadata = msg.metadata;\\n  var comm_id = metadata.comm_id\\n  var comm_status = window.PyViz.comm_status[comm_id];\\n  if (comm_status.event_buffer.length) {\\n    process_events(comm_status);\\n    comm_status.blocked = true;\\n    comm_status.time = Date.now()+50;\\n  } else {\\n    comm_status.blocked = false;\\n  }\\n  comm_status.event_buffer = [];\\n  if ((metadata.msg_type == \\\"Ready\\\") && metadata.content) {\\n    console.log(\\\"Python callback returned following output:\\\", metadata.content);\\n  } else if (metadata.msg_type == \\\"Error\\\") {\\n    console.log(\\\"Python failed with the following traceback:\\\", metadata.traceback)\\n  }\\n}\\n\\n// Initialize Comm\\nif ((window.PyViz == undefined) || (window.PyViz.comm_manager == undefined)) { return }\\ncomm = window.PyViz.comm_manager.get_client_comm(\\\"6858\\\", \\\"b9bbebe371f84e86ae4b619c48303a0e\\\", on_msg);\\nif (!comm) {\\n  return\\n}\\n\\n// Initialize event queue and timeouts for Comm\\nvar comm_status = window.PyViz.comm_status[\\\"b9bbebe371f84e86ae4b619c48303a0e\\\"];\\nif (comm_status === undefined) {\\n  comm_status = {event_buffer: [], blocked: false, time: Date.now()}\\n  window.PyViz.comm_status[\\\"b9bbebe371f84e86ae4b619c48303a0e\\\"] = comm_status\\n}\\n\\n// Add current event to queue and process queue if not blocked\\nevent_name = cb_obj.event_name\\ndata['comm_id'] = \\\"b9bbebe371f84e86ae4b619c48303a0e\\\";\\ntimeout = comm_status.time + 20000;\\nif ((comm_status.blocked && (Date.now() < timeout))) {\\n  comm_status.event_buffer.unshift([event_name, data]);\\n} else {\\n  comm_status.event_buffer.unshift([event_name, data]);\\n  setTimeout(function() { process_events(comm_status); }, 50);\\n  comm_status.blocked = true;\\n  comm_status.time = Date.now()+50;\\n}\\n\"},\"id\":\"6868\",\"type\":\"CustomJS\"},{\"attributes\":{\"code\":\"\\nif (!window.PyViz) {\\n  return;\\n}\\nvar receiver = window.PyViz.receivers['6858'];\\nvar events = receiver ? receiver._partial.content.events : [];\\nfor (var event of events) {\\n  if ((event.kind === 'ModelChanged') && (event.attr === 'viewport') &&\\n      (cb_obj.id === event.model.id) &&\\n      (JSON.stringify(cb_obj['viewport']) === JSON.stringify(event.new))) {\\n    events.pop(events.indexOf(event))\\n    return;\\n  }\\n}\\n\\ndata = {viewport: cb_obj['viewport'], 'id': cb_obj.id};\\ncb_obj.event_name = 'viewport';\\n\\nfunction unique_events(events) {\\n  // Processes the event queue ignoring duplicate events\\n  // of the same type\\n  var unique = [];\\n  var unique_events = [];\\n  for (var i=0; i<events.length; i++) {\\n    var _tmpevent = events[i];\\n    event = _tmpevent[0];\\n    data = _tmpevent[1];\\n    if (unique_events.indexOf(event)===-1) {\\n      unique.unshift(data);\\n      unique_events.push(event);\\n      }\\n  }\\n  return unique;\\n}\\n\\nfunction process_events(comm_status) {\\n  // Iterates over event queue and sends events via Comm\\n  var events = unique_events(comm_status.event_buffer);\\n  for (var i=0; i<events.length; i++) {\\n    var data = events[i];\\n    var comm = window.PyViz.comms[data[\\\"comm_id\\\"]];\\n    comm.send(data);\\n  }\\n  comm_status.event_buffer = [];\\n}\\n\\nfunction on_msg(msg) {\\n  // Receives acknowledgement from Python, processing event\\n  // and unblocking Comm if event queue empty\\n  var metadata = msg.metadata;\\n  var comm_id = metadata.comm_id\\n  var comm_status = window.PyViz.comm_status[comm_id];\\n  if (comm_status.event_buffer.length) {\\n    process_events(comm_status);\\n    comm_status.blocked = true;\\n    comm_status.time = Date.now()+50;\\n  } else {\\n    comm_status.blocked = false;\\n  }\\n  comm_status.event_buffer = [];\\n  if ((metadata.msg_type == \\\"Ready\\\") && metadata.content) {\\n    console.log(\\\"Python callback returned following output:\\\", metadata.content);\\n  } else if (metadata.msg_type == \\\"Error\\\") {\\n    console.log(\\\"Python failed with the following traceback:\\\", metadata.traceback)\\n  }\\n}\\n\\n// Initialize Comm\\nif ((window.PyViz == undefined) || (window.PyViz.comm_manager == undefined)) { return }\\ncomm = window.PyViz.comm_manager.get_client_comm(\\\"6858\\\", \\\"b9bbebe371f84e86ae4b619c48303a0e\\\", on_msg);\\nif (!comm) {\\n  return\\n}\\n\\n// Initialize event queue and timeouts for Comm\\nvar comm_status = window.PyViz.comm_status[\\\"b9bbebe371f84e86ae4b619c48303a0e\\\"];\\nif (comm_status === undefined) {\\n  comm_status = {event_buffer: [], blocked: false, time: Date.now()}\\n  window.PyViz.comm_status[\\\"b9bbebe371f84e86ae4b619c48303a0e\\\"] = comm_status\\n}\\n\\n// Add current event to queue and process queue if not blocked\\nevent_name = cb_obj.event_name\\ndata['comm_id'] = \\\"b9bbebe371f84e86ae4b619c48303a0e\\\";\\ntimeout = comm_status.time + 20000;\\nif ((comm_status.blocked && (Date.now() < timeout))) {\\n  comm_status.event_buffer.unshift([event_name, data]);\\n} else {\\n  comm_status.event_buffer.unshift([event_name, data]);\\n  setTimeout(function() { process_events(comm_status); }, 50);\\n  comm_status.blocked = true;\\n  comm_status.time = Date.now()+50;\\n}\\n\"},\"id\":\"6870\",\"type\":\"CustomJS\"},{\"attributes\":{\"code\":\"\\nif (!window.PyViz) {\\n  return;\\n}\\nvar receiver = window.PyViz.receivers['6858'];\\nvar events = receiver ? receiver._partial.content.events : [];\\nfor (var event of events) {\\n  if ((event.kind === 'ModelChanged') && (event.attr === 'click_data') &&\\n      (cb_obj.id === event.model.id) &&\\n      (JSON.stringify(cb_obj['click_data']) === JSON.stringify(event.new))) {\\n    events.pop(events.indexOf(event))\\n    return;\\n  }\\n}\\n\\ndata = {click_data: cb_obj['click_data'], 'id': cb_obj.id};\\ncb_obj.event_name = 'click_data';\\n\\nfunction unique_events(events) {\\n  // Processes the event queue ignoring duplicate events\\n  // of the same type\\n  var unique = [];\\n  var unique_events = [];\\n  for (var i=0; i<events.length; i++) {\\n    var _tmpevent = events[i];\\n    event = _tmpevent[0];\\n    data = _tmpevent[1];\\n    if (unique_events.indexOf(event)===-1) {\\n      unique.unshift(data);\\n      unique_events.push(event);\\n      }\\n  }\\n  return unique;\\n}\\n\\nfunction process_events(comm_status) {\\n  // Iterates over event queue and sends events via Comm\\n  var events = unique_events(comm_status.event_buffer);\\n  for (var i=0; i<events.length; i++) {\\n    var data = events[i];\\n    var comm = window.PyViz.comms[data[\\\"comm_id\\\"]];\\n    comm.send(data);\\n  }\\n  comm_status.event_buffer = [];\\n}\\n\\nfunction on_msg(msg) {\\n  // Receives acknowledgement from Python, processing event\\n  // and unblocking Comm if event queue empty\\n  var metadata = msg.metadata;\\n  var comm_id = metadata.comm_id\\n  var comm_status = window.PyViz.comm_status[comm_id];\\n  if (comm_status.event_buffer.length) {\\n    process_events(comm_status);\\n    comm_status.blocked = true;\\n    comm_status.time = Date.now()+50;\\n  } else {\\n    comm_status.blocked = false;\\n  }\\n  comm_status.event_buffer = [];\\n  if ((metadata.msg_type == \\\"Ready\\\") && metadata.content) {\\n    console.log(\\\"Python callback returned following output:\\\", metadata.content);\\n  } else if (metadata.msg_type == \\\"Error\\\") {\\n    console.log(\\\"Python failed with the following traceback:\\\", metadata.traceback)\\n  }\\n}\\n\\n// Initialize Comm\\nif ((window.PyViz == undefined) || (window.PyViz.comm_manager == undefined)) { return }\\ncomm = window.PyViz.comm_manager.get_client_comm(\\\"6858\\\", \\\"b9bbebe371f84e86ae4b619c48303a0e\\\", on_msg);\\nif (!comm) {\\n  return\\n}\\n\\n// Initialize event queue and timeouts for Comm\\nvar comm_status = window.PyViz.comm_status[\\\"b9bbebe371f84e86ae4b619c48303a0e\\\"];\\nif (comm_status === undefined) {\\n  comm_status = {event_buffer: [], blocked: false, time: Date.now()}\\n  window.PyViz.comm_status[\\\"b9bbebe371f84e86ae4b619c48303a0e\\\"] = comm_status\\n}\\n\\n// Add current event to queue and process queue if not blocked\\nevent_name = cb_obj.event_name\\ndata['comm_id'] = \\\"b9bbebe371f84e86ae4b619c48303a0e\\\";\\ntimeout = comm_status.time + 20000;\\nif ((comm_status.blocked && (Date.now() < timeout))) {\\n  comm_status.event_buffer.unshift([event_name, data]);\\n} else {\\n  comm_status.event_buffer.unshift([event_name, data]);\\n  setTimeout(function() { process_events(comm_status); }, 50);\\n  comm_status.blocked = true;\\n  comm_status.time = Date.now()+50;\\n}\\n\"},\"id\":\"6866\",\"type\":\"CustomJS\"},{\"attributes\":{\"code\":\"\\nif (!window.PyViz) {\\n  return;\\n}\\nvar receiver = window.PyViz.receivers['6858'];\\nvar events = receiver ? receiver._partial.content.events : [];\\nfor (var event of events) {\\n  if ((event.kind === 'ModelChanged') && (event.attr === 'selected_data') &&\\n      (cb_obj.id === event.model.id) &&\\n      (JSON.stringify(cb_obj['selected_data']) === JSON.stringify(event.new))) {\\n    events.pop(events.indexOf(event))\\n    return;\\n  }\\n}\\n\\ndata = {selected_data: cb_obj['selected_data'], 'id': cb_obj.id};\\ncb_obj.event_name = 'selected_data';\\n\\nfunction unique_events(events) {\\n  // Processes the event queue ignoring duplicate events\\n  // of the same type\\n  var unique = [];\\n  var unique_events = [];\\n  for (var i=0; i<events.length; i++) {\\n    var _tmpevent = events[i];\\n    event = _tmpevent[0];\\n    data = _tmpevent[1];\\n    if (unique_events.indexOf(event)===-1) {\\n      unique.unshift(data);\\n      unique_events.push(event);\\n      }\\n  }\\n  return unique;\\n}\\n\\nfunction process_events(comm_status) {\\n  // Iterates over event queue and sends events via Comm\\n  var events = unique_events(comm_status.event_buffer);\\n  for (var i=0; i<events.length; i++) {\\n    var data = events[i];\\n    var comm = window.PyViz.comms[data[\\\"comm_id\\\"]];\\n    comm.send(data);\\n  }\\n  comm_status.event_buffer = [];\\n}\\n\\nfunction on_msg(msg) {\\n  // Receives acknowledgement from Python, processing event\\n  // and unblocking Comm if event queue empty\\n  var metadata = msg.metadata;\\n  var comm_id = metadata.comm_id\\n  var comm_status = window.PyViz.comm_status[comm_id];\\n  if (comm_status.event_buffer.length) {\\n    process_events(comm_status);\\n    comm_status.blocked = true;\\n    comm_status.time = Date.now()+50;\\n  } else {\\n    comm_status.blocked = false;\\n  }\\n  comm_status.event_buffer = [];\\n  if ((metadata.msg_type == \\\"Ready\\\") && metadata.content) {\\n    console.log(\\\"Python callback returned following output:\\\", metadata.content);\\n  } else if (metadata.msg_type == \\\"Error\\\") {\\n    console.log(\\\"Python failed with the following traceback:\\\", metadata.traceback)\\n  }\\n}\\n\\n// Initialize Comm\\nif ((window.PyViz == undefined) || (window.PyViz.comm_manager == undefined)) { return }\\ncomm = window.PyViz.comm_manager.get_client_comm(\\\"6858\\\", \\\"b9bbebe371f84e86ae4b619c48303a0e\\\", on_msg);\\nif (!comm) {\\n  return\\n}\\n\\n// Initialize event queue and timeouts for Comm\\nvar comm_status = window.PyViz.comm_status[\\\"b9bbebe371f84e86ae4b619c48303a0e\\\"];\\nif (comm_status === undefined) {\\n  comm_status = {event_buffer: [], blocked: false, time: Date.now()}\\n  window.PyViz.comm_status[\\\"b9bbebe371f84e86ae4b619c48303a0e\\\"] = comm_status\\n}\\n\\n// Add current event to queue and process queue if not blocked\\nevent_name = cb_obj.event_name\\ndata['comm_id'] = \\\"b9bbebe371f84e86ae4b619c48303a0e\\\";\\ntimeout = comm_status.time + 20000;\\nif ((comm_status.blocked && (Date.now() < timeout))) {\\n  comm_status.event_buffer.unshift([event_name, data]);\\n} else {\\n  comm_status.event_buffer.unshift([event_name, data]);\\n  setTimeout(function() { process_events(comm_status); }, 50);\\n  comm_status.blocked = true;\\n  comm_status.time = Date.now()+50;\\n}\\n\"},\"id\":\"6869\",\"type\":\"CustomJS\"}],\"root_ids\":[\"6858\"]},\"title\":\"Bokeh Application\",\"version\":\"1.3.4\"}};\n",
       "  var render_items = [{\"docid\":\"edd7f04d-24c6-48a0-9e55-c39c3e3b26f9\",\"roots\":{\"6858\":\"1f728cf1-d28e-4cb5-b6a4-1bed247e42f0\"}}];\n",
       "  root.Bokeh.embed.embed_items_notebook(docs_json, render_items);\n",
       "\n",
       "  }\n",
       "  if (root.Bokeh !== undefined) {\n",
       "    embed_document(root);\n",
       "  } else {\n",
       "    var attempts = 0;\n",
       "    var timer = setInterval(function(root) {\n",
       "      if (root.Bokeh !== undefined) {\n",
       "        embed_document(root);\n",
       "        clearInterval(timer);\n",
       "      }\n",
       "      attempts++;\n",
       "      if (attempts > 100) {\n",
       "        console.log(\"Bokeh: ERROR: Unable to run BokehJS code because BokehJS library is missing\");\n",
       "        clearInterval(timer);\n",
       "      }\n",
       "    }, 10, root)\n",
       "  }\n",
       "})(window);</script>"
      ],
      "text/plain": [
       "Tabs\n",
       "    [0] Column\n",
       "        [0] Markdown(str)\n",
       "        [1] Plotly(Figure)"
      ]
     },
     "execution_count": 236,
     "metadata": {
      "application/vnd.holoviews_exec.v0+json": {
       "id": "6858"
      }
     },
     "output_type": "execute_result"
    }
   ],
   "source": [
    "neighborhood_dashboard.servable()"
   ]
  },
  {
   "cell_type": "code",
   "execution_count": null,
   "metadata": {},
   "outputs": [],
   "source": []
  }
 ],
 "metadata": {
  "file_extension": ".py",
  "kernelspec": {
   "display_name": "Python 3",
   "language": "python",
   "name": "python3"
  },
  "language_info": {
   "codemirror_mode": {
    "name": "ipython",
    "version": 3
   },
   "file_extension": ".py",
   "mimetype": "text/x-python",
   "name": "python",
   "nbconvert_exporter": "python",
   "pygments_lexer": "ipython3",
   "version": "3.7.3"
  },
  "mimetype": "text/x-python",
  "name": "python",
  "npconvert_exporter": "python",
  "pygments_lexer": "ipython3",
  "version": 3
 },
 "nbformat": 4,
 "nbformat_minor": 2
}
